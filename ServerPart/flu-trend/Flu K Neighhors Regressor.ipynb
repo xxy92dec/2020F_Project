{
 "cells": [
  {
   "cell_type": "code",
   "execution_count": 1,
   "metadata": {},
   "outputs": [],
   "source": [
    "import matplotlib.pyplot as plt\n",
    "import pandas as pd\n",
    "import numpy as np\n",
    "import sklearn\n",
    "from scipy import stats\n",
    "from sklearn.metrics import r2_score\n",
    "from sklearn.neighbors import KNeighborsRegressor\n",
    "from sklearn.neighbors import RadiusNeighborsRegressor\n",
    "import joblib"
   ]
  },
  {
   "cell_type": "markdown",
   "metadata": {},
   "source": [
    "## Error Visible Calculation &  Input Data"
   ]
  },
  {
   "cell_type": "code",
   "execution_count": 3,
   "metadata": {},
   "outputs": [
    {
     "data": {
      "text/html": [
       "<div>\n",
       "<style scoped>\n",
       "    .dataframe tbody tr th:only-of-type {\n",
       "        vertical-align: middle;\n",
       "    }\n",
       "\n",
       "    .dataframe tbody tr th {\n",
       "        vertical-align: top;\n",
       "    }\n",
       "\n",
       "    .dataframe thead th {\n",
       "        text-align: right;\n",
       "    }\n",
       "</style>\n",
       "<table border=\"1\" class=\"dataframe\">\n",
       "  <thead>\n",
       "    <tr style=\"text-align: right;\">\n",
       "      <th></th>\n",
       "      <th>new_cases</th>\n",
       "      <th>date</th>\n",
       "      <th>popluation</th>\n",
       "      <th>AgeGroup</th>\n",
       "    </tr>\n",
       "  </thead>\n",
       "  <tbody>\n",
       "    <tr>\n",
       "      <th>0</th>\n",
       "      <td>10</td>\n",
       "      <td>265</td>\n",
       "      <td>245353</td>\n",
       "      <td>1</td>\n",
       "    </tr>\n",
       "    <tr>\n",
       "      <th>1</th>\n",
       "      <td>0</td>\n",
       "      <td>370</td>\n",
       "      <td>1677000</td>\n",
       "      <td>1</td>\n",
       "    </tr>\n",
       "    <tr>\n",
       "      <th>2</th>\n",
       "      <td>182</td>\n",
       "      <td>251</td>\n",
       "      <td>1677000</td>\n",
       "      <td>3</td>\n",
       "    </tr>\n",
       "    <tr>\n",
       "      <th>3</th>\n",
       "      <td>190</td>\n",
       "      <td>285</td>\n",
       "      <td>1677000</td>\n",
       "      <td>2</td>\n",
       "    </tr>\n",
       "    <tr>\n",
       "      <th>4</th>\n",
       "      <td>2</td>\n",
       "      <td>389</td>\n",
       "      <td>7544000</td>\n",
       "      <td>2</td>\n",
       "    </tr>\n",
       "  </tbody>\n",
       "</table>\n",
       "</div>"
      ],
      "text/plain": [
       "   new_cases  date  popluation  AgeGroup\n",
       "0         10   265      245353         1\n",
       "1          0   370     1677000         1\n",
       "2        182   251     1677000         3\n",
       "3        190   285     1677000         2\n",
       "4          2   389     7544000         2"
      ]
     },
     "execution_count": 3,
     "metadata": {},
     "output_type": "execute_result"
    }
   ],
   "source": [
    "def errorCalculate(Origin,Predict):\n",
    "    errorlist = []\n",
    "    abserrorlist = []\n",
    "    error = 0\n",
    "    count = 0\n",
    "    errorpercentage = 0\n",
    "\n",
    "    for i in range(len(Origin)):\n",
    "        count += 1\n",
    "        True_num = Origin[i]\n",
    "        Cal_num = Predict[i]\n",
    "        Diff = Cal_num - True_num\n",
    "        absDiff = abs(Cal_num - True_num)\n",
    "        errorlist.append(Diff)\n",
    "        abserrorlist.append(absDiff)\n",
    "    errorlist = np.asarray(errorlist)\n",
    "    abserrorlist = np.asarray(abserrorlist)\n",
    "    return errorlist, abserrorlist\n",
    "\n",
    "train_dataset = pd.read_csv(\"train_dataset.csv\")\n",
    "test_dataset = pd.read_csv(\"test_dataset.csv\")\n",
    "train_features = train_dataset.copy()\n",
    "test_features = test_dataset.copy()\n",
    "train_labels = train_features.pop('new_cases')\n",
    "test_labels = test_features.pop('new_cases')\n",
    "train_dataset.head()"
   ]
  },
  {
   "cell_type": "markdown",
   "metadata": {},
   "source": [
    "## K-Neighbor Regressor"
   ]
  },
  {
   "cell_type": "code",
   "execution_count": 4,
   "metadata": {},
   "outputs": [
    {
     "name": "stdout",
     "output_type": "stream",
     "text": [
      "0.7302376292421431 0.677313382888882\n"
     ]
    }
   ],
   "source": [
    "knr = KNeighborsRegressor(n_neighbors=2)\n",
    "knr.fit(train_features, train_labels)\n",
    "s_knr = r2_score(train_labels,knr.predict(train_features))\n",
    "s_knr_test = r2_score(test_labels,knr.predict(test_features))\n",
    "print(s_knr,s_knr_test)"
   ]
  },
  {
   "cell_type": "markdown",
   "metadata": {},
   "source": [
    "K-Neighbour Regressor seems good\n",
    "\n",
    "## N Number Study"
   ]
  },
  {
   "cell_type": "code",
   "execution_count": 5,
   "metadata": {},
   "outputs": [
    {
     "data": {
      "image/png": "[encoded data removed]",
      "text/plain": [
       "<Figure size 432x288 with 1 Axes>"
      ]
     },
     "metadata": {
      "needs_background": "light"
     },
     "output_type": "display_data"
    }
   ],
   "source": [
    "N_number = []\n",
    "train_pred_score =[]\n",
    "test_pred_score =[]\n",
    "for i in range(1,15):\n",
    "    N_number.append(i)\n",
    "    knr = KNeighborsRegressor(n_neighbors=i)\n",
    "    knr.fit(train_features ,train_labels)\n",
    "    s_knr_reg = r2_score(train_labels,knr.predict(train_features))\n",
    "    s_knr_reg_test = r2_score(test_labels,knr.predict(test_features))\n",
    "    train_pred_score.append(s_knr_reg)\n",
    "    test_pred_score.append(s_knr_reg_test)\n",
    "plt.plot(N_number, train_pred_score,'r')\n",
    "plt.plot(N_number, test_pred_score,'b')\n",
    "plt.xlabel('N_number')\n",
    "plt.ylabel('r2 score - train_red & test_blue')\n",
    "plt.show()"
   ]
  },
  {
   "cell_type": "code",
   "execution_count": 6,
   "metadata": {},
   "outputs": [
    {
     "data": {
      "image/png": "[encoded data removed]",
      "text/plain": [
       "<Figure size 432x288 with 1 Axes>"
      ]
     },
     "metadata": {
      "needs_background": "light"
     },
     "output_type": "display_data"
    },
    {
     "data": {
      "text/plain": [
       "DescribeResult(nobs=30276, minmax=(0.0, 2043.0), mean=25.564052384727177, variance=5945.410036297701, skewness=7.821818543100624, kurtosis=92.4894724742166)"
      ]
     },
     "execution_count": 6,
     "metadata": {},
     "output_type": "execute_result"
    }
   ],
   "source": [
    "knr = KNeighborsRegressor(n_neighbors=4)\n",
    "knr.fit(train_features ,train_labels)\n",
    "test_predict = knr.predict(test_features)\n",
    "test_labels = test_labels.to_numpy()\n",
    "\n",
    "error,abserror = errorCalculate(test_labels,test_predict)\n",
    "plt.plot(error,'g+')\n",
    "plt.xlabel('Sample ID')\n",
    "plt.ylabel('Error')\n",
    "plt.show()\n",
    "stats.describe(abserror)"
   ]
  },
  {
   "cell_type": "code",
   "execution_count": 7,
   "metadata": {},
   "outputs": [
    {
     "data": {
      "text/plain": [
       "0.7063381300779681"
      ]
     },
     "execution_count": 7,
     "metadata": {},
     "output_type": "execute_result"
    }
   ],
   "source": [
    "r2_score(test_labels,knr.predict(test_features))"
   ]
  },
  {
   "cell_type": "code",
   "execution_count": 8,
   "metadata": {},
   "outputs": [
    {
     "data": {
      "text/plain": [
       "['flu_KNeighborRegressor.sav']"
      ]
     },
     "execution_count": 8,
     "metadata": {},
     "output_type": "execute_result"
    }
   ],
   "source": [
    "filename = 'flu_KNeighborRegressor.sav'\n",
    "joblib.dump(knr, filename)"
   ]
  },
  {
   "cell_type": "markdown",
   "metadata": {},
   "source": [
    "DescribeResult(nobs=170144, minmax=(0.0, 3008.8), mean=5.76156314651119, variance=746.3546472712105, skewness=29.928749244945305, kurtosis=1960.7951491136096"
   ]
  }
 ],
 "metadata": {
  "kernelspec": {
   "display_name": "Python 3",
   "language": "python",
   "name": "python3"
  },
  "language_info": {
   "codemirror_mode": {
    "name": "ipython",
    "version": 3
   },
   "file_extension": ".py",
   "mimetype": "text/x-python",
   "name": "python",
   "nbconvert_exporter": "python",
   "pygments_lexer": "ipython3",
   "version": "3.8.3"
  }
 },
 "nbformat": 4,
 "nbformat_minor": 4
}
