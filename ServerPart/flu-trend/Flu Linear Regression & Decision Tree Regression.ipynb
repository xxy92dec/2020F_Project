{
 "cells": [
  {
   "cell_type": "markdown",
   "metadata": {},
   "source": [
    "## Import Package"
   ]
  },
  {
   "cell_type": "code",
   "execution_count": 1,
   "metadata": {},
   "outputs": [],
   "source": [
    "import matplotlib.pyplot as plt\n",
    "import pandas as pd\n",
    "import numpy as np\n",
    "import sklearn\n",
    "from scipy import stats\n",
    "from sklearn.linear_model import LinearRegression, Lasso\n",
    "from sklearn.tree import DecisionTreeRegressor\n",
    "from sklearn.metrics import r2_score, mean_squared_error\n",
    "import joblib\n",
    "from sklearn.model_selection import KFold\n",
    "from sklearn.model_selection import GridSearchCV\n",
    "from sklearn.model_selection import cross_val_score\n",
    "from operator import itemgetter\n",
    "from time import time\n",
    "from sklearn import tree"
   ]
  },
  {
   "cell_type": "markdown",
   "metadata": {},
   "source": [
    "## Error Visible Calculation"
   ]
  },
  {
   "cell_type": "code",
   "execution_count": 2,
   "metadata": {},
   "outputs": [],
   "source": [
    "def errorCalculate(Origin,Predict):\n",
    "    errorlist = []\n",
    "    abserrorlist = []\n",
    "    error = 0\n",
    "    count = 0\n",
    "    errorpercentage = 0\n",
    "\n",
    "    for i in range(len(Origin)):\n",
    "        count += 1\n",
    "        True_num = Origin[i]\n",
    "        Cal_num = Predict[i]\n",
    "        Diff = Cal_num - True_num\n",
    "        absDiff = abs(Cal_num - True_num)\n",
    "        errorlist.append(Diff)\n",
    "        abserrorlist.append(absDiff)\n",
    "    errorlist = np.asarray(errorlist)\n",
    "    abserrorlist = np.asarray(abserrorlist)\n",
    "    return errorlist, abserrorlist"
   ]
  },
  {
   "cell_type": "markdown",
   "metadata": {},
   "source": [
    "## Input Data"
   ]
  },
  {
   "cell_type": "code",
   "execution_count": 3,
   "metadata": {},
   "outputs": [
    {
     "data": {
      "text/plain": [
       "DescribeResult(nobs=30276, minmax=(0, 3419), mean=47.14724534284582, variance=22471.26056417049, skewness=9.251440793059299, kurtosis=126.94251996138914)"
      ]
     },
     "execution_count": 3,
     "metadata": {},
     "output_type": "execute_result"
    }
   ],
   "source": [
    "train_dataset = pd.read_csv(\"train_dataset.csv\")\n",
    "test_dataset = pd.read_csv(\"test_dataset.csv\")\n",
    "train_features = train_dataset.copy()\n",
    "test_features = test_dataset.copy()\n",
    "train_labels = train_features.pop('new_cases')\n",
    "test_labels = test_features.pop('new_cases')\n",
    "\n",
    "stats.describe(test_labels)"
   ]
  },
  {
   "cell_type": "markdown",
   "metadata": {},
   "source": [
    "## Linear Regression"
   ]
  },
  {
   "cell_type": "code",
   "execution_count": 4,
   "metadata": {},
   "outputs": [
    {
     "name": "stdout",
     "output_type": "stream",
     "text": [
      "0.04414114340072417 0.04658798484593629\n",
      "22742.944156434736 21423.66218212306\n"
     ]
    }
   ],
   "source": [
    "reg = LinearRegression().fit(train_features ,train_labels)\n",
    "s_linear_reg = r2_score(train_labels,reg.predict(train_features))\n",
    "s_linear_reg_test = r2_score(test_labels,reg.predict(test_features))\n",
    "print(s_linear_reg,s_linear_reg_test)\n",
    "print(mean_squared_error(train_labels,reg.predict(train_features)),mean_squared_error(test_labels,reg.predict(test_features)))\n"
   ]
  },
  {
   "cell_type": "markdown",
   "metadata": {},
   "source": [
    "## Lasso Regression"
   ]
  },
  {
   "cell_type": "code",
   "execution_count": 5,
   "metadata": {},
   "outputs": [
    {
     "name": "stdout",
     "output_type": "stream",
     "text": [
      "0.04412014077403115 0.04659170719166894\n",
      "22743.44387620269 21423.578539084967\n"
     ]
    }
   ],
   "source": [
    "reg = Lasso().fit(train_features ,train_labels)\n",
    "s_Lasso_reg = r2_score(train_labels,reg.predict(train_features))\n",
    "s_Lasso_reg_test = r2_score(test_labels,reg.predict(test_features))\n",
    "print(s_Lasso_reg,s_Lasso_reg_test)\n",
    "print(mean_squared_error(train_labels,reg.predict(train_features)),mean_squared_error(test_labels,reg.predict(test_features)))"
   ]
  },
  {
   "cell_type": "markdown",
   "metadata": {},
   "source": [
    "## Decision_tree_regression"
   ]
  },
  {
   "cell_type": "code",
   "execution_count": 6,
   "metadata": {},
   "outputs": [
    {
     "name": "stdout",
     "output_type": "stream",
     "text": [
      "0.8045986856327682 0.7668591620376036\n",
      "4649.223209123811 5238.795477689007\n"
     ]
    }
   ],
   "source": [
    "reg = DecisionTreeRegressor(max_depth=25)\n",
    "reg.fit(train_features ,train_labels)\n",
    "s_DT_reg = r2_score(train_labels,reg.predict(train_features))\n",
    "s_DT_reg_test = r2_score(test_labels,reg.predict(test_features))\n",
    "print(s_DT_reg,s_DT_reg_test)\n",
    "print(mean_squared_error(train_labels,reg.predict(train_features)),mean_squared_error(test_labels,reg.predict(test_features)))"
   ]
  },
  {
   "cell_type": "markdown",
   "metadata": {},
   "source": [
    "Seems Decision Tree Regression much better \n",
    "## Decision Tree Regression depth study"
   ]
  },
  {
   "cell_type": "code",
   "execution_count": 15,
   "metadata": {},
   "outputs": [
    {
     "name": "stdout",
     "output_type": "stream",
     "text": [
      "Total sample accuracy mean: 0.767 (std: 0.013)\n",
      "\n"
     ]
    },
    {
     "data": {
      "image/png": "[encoded data removed]",
      "text/plain": [
       "<Figure size 432x288 with 1 Axes>"
      ]
     },
     "metadata": {
      "needs_background": "light"
     },
     "output_type": "display_data"
    }
   ],
   "source": [
    "dt_old = DecisionTreeRegressor()\n",
    "dt_old.fit(train_features, train_labels)\n",
    "scores = cross_val_score(dt_old, train_features, train_labels, cv=10)\n",
    "print(\"Total sample accuracy mean: {:.3f} (std: {:.3f})\".format(scores.mean(),scores.std()),end=\"\\n\\n\" )\n",
    "misclassification = []\n",
    "for i in range(1,51):\n",
    "    #print(i)\n",
    "    parameters = {'max_depth':range(i,i+1)}\n",
    "    clf = GridSearchCV(tree.DecisionTreeRegressor(), parameters, n_jobs=4)\n",
    "    clf.fit(train_features, train_labels)\n",
    "    tree_model = clf.best_estimator_\n",
    "    misclassification.append(clf.best_score_)\n",
    "for i in range(len(misclassification)):\n",
    "    misclassification[i] = int((1-misclassification[i])*len(train_features))\n",
    "    \n",
    "tree_size=[]\n",
    "#print(misclassification)\n",
    "for i in range(len(misclassification)):\n",
    "    tree_size.append(i+1)\n",
    "\n",
    "\n",
    "plt.plot(tree_size, misclassification)\n",
    "plt.xlabel('tree_size')\n",
    "plt.ylabel('mistake')\n",
    "plt.show()"
   ]
  },
  {
   "cell_type": "markdown",
   "metadata": {},
   "source": [
    "# tree_depth should>21"
   ]
  },
  {
   "cell_type": "code",
   "execution_count": 12,
   "metadata": {},
   "outputs": [
    {
     "data": {
      "image/png": "[encoded data removed]",
      "text/plain": [
       "<Figure size 432x288 with 1 Axes>"
      ]
     },
     "metadata": {
      "needs_background": "light"
     },
     "output_type": "display_data"
    },
    {
     "data": {
      "text/plain": [
       "DescribeResult(nobs=30276, minmax=(0.0, 1362.0), mean=24.442113071874985, variance=4721.030481651861, skewness=6.820467416154867, kurtosis=67.56946882805967)"
      ]
     },
     "execution_count": 12,
     "metadata": {},
     "output_type": "execute_result"
    }
   ],
   "source": [
    "reg = DecisionTreeRegressor(max_depth=21)\n",
    "reg.fit(train_features ,train_labels)\n",
    "test_predict = reg.predict(test_features)\n",
    "#test_labels = test_labels.to_numpy()\n",
    "\n",
    "error,abserror = errorCalculate(test_labels,test_predict)\n",
    "plt.plot(error,'g+')\n",
    "plt.xlabel('Sample ID')\n",
    "plt.ylabel('Error')\n",
    "plt.show()\n",
    "stats.describe(abserror)"
   ]
  },
  {
   "cell_type": "code",
   "execution_count": 13,
   "metadata": {},
   "outputs": [
    {
     "data": {
      "text/plain": [
       "0.7633213726086772"
      ]
     },
     "execution_count": 13,
     "metadata": {},
     "output_type": "execute_result"
    }
   ],
   "source": [
    "r2_score(test_labels,reg.predict(test_features))"
   ]
  },
  {
   "cell_type": "code",
   "execution_count": 14,
   "metadata": {},
   "outputs": [
    {
     "data": {
      "text/plain": [
       "5318.291439971965"
      ]
     },
     "execution_count": 14,
     "metadata": {},
     "output_type": "execute_result"
    }
   ],
   "source": [
    "mean_squared_error(test_labels,reg.predict(test_features))"
   ]
  },
  {
   "cell_type": "markdown",
   "metadata": {},
   "source": [
    "# save_models"
   ]
  },
  {
   "cell_type": "code",
   "execution_count": 12,
   "metadata": {},
   "outputs": [
    {
     "data": {
      "text/plain": [
       "['flu_DecisionTreeRegression.sav']"
      ]
     },
     "execution_count": 12,
     "metadata": {},
     "output_type": "execute_result"
    }
   ],
   "source": [
    "filename = 'flu_DecisionTreeRegression.sav'\n",
    "joblib.dump(reg, filename)\n",
    " "
   ]
  },
  {
   "cell_type": "code",
   "execution_count": null,
   "metadata": {},
   "outputs": [],
   "source": []
  }
 ],
 "metadata": {
  "kernelspec": {
   "display_name": "Python 3",
   "language": "python",
   "name": "python3"
  },
  "language_info": {
   "codemirror_mode": {
    "name": "ipython",
    "version": 3
   },
   "file_extension": ".py",
   "mimetype": "text/x-python",
   "name": "python",
   "nbconvert_exporter": "python",
   "pygments_lexer": "ipython3",
   "version": "3.8.3"
  }
 },
 "nbformat": 4,
 "nbformat_minor": 4
}
