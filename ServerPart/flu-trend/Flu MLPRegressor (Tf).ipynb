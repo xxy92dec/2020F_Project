{
 "cells": [
  {
   "cell_type": "code",
   "execution_count": 25,
   "metadata": {},
   "outputs": [],
   "source": [
    "import matplotlib.pyplot as plt\n",
    "import pandas as pd\n",
    "import numpy as np\n",
    "from tensorflow.keras.models import Sequential,load_model\n",
    "from tensorflow.keras.layers import Dense,BatchNormalization\n",
    "from tensorflow.keras import layers\n",
    "from tensorflow import keras\n",
    "import numpy as np\n",
    "from sklearn.metrics import r2_score, mean_squared_error\n",
    "from tensorflow.keras.layers.experimental import preprocessing\n",
    "from tensorflow.keras.callbacks import EarlyStopping\n",
    "from scipy import stats"
   ]
  },
  {
   "cell_type": "markdown",
   "metadata": {},
   "source": [
    "## Error Visible Calculation"
   ]
  },
  {
   "cell_type": "code",
   "execution_count": 15,
   "metadata": {},
   "outputs": [],
   "source": [
    "def errorCalculate(Origin,Predict):\n",
    "    errorlist = []\n",
    "    abserrorlist = []\n",
    "    error = 0\n",
    "    count = 0\n",
    "    errorpercentage = 0\n",
    "\n",
    "    for i in range(len(Origin)):\n",
    "        count += 1\n",
    "        True_num = Origin[i]\n",
    "        Cal_num = Predict[i]\n",
    "        Diff = Cal_num - True_num\n",
    "        absDiff = abs(Cal_num - True_num)\n",
    "        errorlist.append(Diff)\n",
    "        abserrorlist.append(absDiff)\n",
    "    errorlist = np.asarray(errorlist)\n",
    "    abserrorlist = np.asarray(abserrorlist)\n",
    "    return errorlist, abserrorlist"
   ]
  },
  {
   "cell_type": "markdown",
   "metadata": {},
   "source": [
    "## Input Data"
   ]
  },
  {
   "cell_type": "code",
   "execution_count": 16,
   "metadata": {},
   "outputs": [],
   "source": [
    "train_dataset = pd.read_csv(\"train_dataset.csv\")\n",
    "test_dataset = pd.read_csv(\"test_dataset.csv\")\n",
    "train_features = train_dataset.copy()\n",
    "test_features = test_dataset.copy()\n",
    "train_labels = train_features.pop('new_cases')\n",
    "test_labels = test_features.pop('new_cases')\n",
    "X = train_features.to_numpy()\n",
    "Y = train_labels.to_numpy()\n",
    "test_X = test_features.to_numpy()\n",
    "test_Y = test_labels.to_numpy()\n",
    "input_shape = (3,)"
   ]
  },
  {
   "cell_type": "code",
   "execution_count": 17,
   "metadata": {},
   "outputs": [
    {
     "data": {
      "text/html": [
       "<div>\n",
       "<style scoped>\n",
       "    .dataframe tbody tr th:only-of-type {\n",
       "        vertical-align: middle;\n",
       "    }\n",
       "\n",
       "    .dataframe tbody tr th {\n",
       "        vertical-align: top;\n",
       "    }\n",
       "\n",
       "    .dataframe thead th {\n",
       "        text-align: right;\n",
       "    }\n",
       "</style>\n",
       "<table border=\"1\" class=\"dataframe\">\n",
       "  <thead>\n",
       "    <tr style=\"text-align: right;\">\n",
       "      <th></th>\n",
       "      <th>date</th>\n",
       "      <th>popluation</th>\n",
       "      <th>AgeGroup</th>\n",
       "    </tr>\n",
       "  </thead>\n",
       "  <tbody>\n",
       "    <tr>\n",
       "      <th>0</th>\n",
       "      <td>265</td>\n",
       "      <td>245353</td>\n",
       "      <td>1</td>\n",
       "    </tr>\n",
       "    <tr>\n",
       "      <th>1</th>\n",
       "      <td>370</td>\n",
       "      <td>1677000</td>\n",
       "      <td>1</td>\n",
       "    </tr>\n",
       "    <tr>\n",
       "      <th>2</th>\n",
       "      <td>251</td>\n",
       "      <td>1677000</td>\n",
       "      <td>3</td>\n",
       "    </tr>\n",
       "    <tr>\n",
       "      <th>3</th>\n",
       "      <td>285</td>\n",
       "      <td>1677000</td>\n",
       "      <td>2</td>\n",
       "    </tr>\n",
       "    <tr>\n",
       "      <th>4</th>\n",
       "      <td>389</td>\n",
       "      <td>7544000</td>\n",
       "      <td>2</td>\n",
       "    </tr>\n",
       "    <tr>\n",
       "      <th>...</th>\n",
       "      <td>...</td>\n",
       "      <td>...</td>\n",
       "      <td>...</td>\n",
       "    </tr>\n",
       "    <tr>\n",
       "      <th>70639</th>\n",
       "      <td>55</td>\n",
       "      <td>1677000</td>\n",
       "      <td>5</td>\n",
       "    </tr>\n",
       "    <tr>\n",
       "      <th>70640</th>\n",
       "      <td>237</td>\n",
       "      <td>245353</td>\n",
       "      <td>4</td>\n",
       "    </tr>\n",
       "    <tr>\n",
       "      <th>70641</th>\n",
       "      <td>245</td>\n",
       "      <td>7544000</td>\n",
       "      <td>2</td>\n",
       "    </tr>\n",
       "    <tr>\n",
       "      <th>70642</th>\n",
       "      <td>68</td>\n",
       "      <td>5071000</td>\n",
       "      <td>3</td>\n",
       "    </tr>\n",
       "    <tr>\n",
       "      <th>70643</th>\n",
       "      <td>216</td>\n",
       "      <td>7544000</td>\n",
       "      <td>4</td>\n",
       "    </tr>\n",
       "  </tbody>\n",
       "</table>\n",
       "<p>70644 rows × 3 columns</p>\n",
       "</div>"
      ],
      "text/plain": [
       "       date  popluation  AgeGroup\n",
       "0       265      245353         1\n",
       "1       370     1677000         1\n",
       "2       251     1677000         3\n",
       "3       285     1677000         2\n",
       "4       389     7544000         2\n",
       "...     ...         ...       ...\n",
       "70639    55     1677000         5\n",
       "70640   237      245353         4\n",
       "70641   245     7544000         2\n",
       "70642    68     5071000         3\n",
       "70643   216     7544000         4\n",
       "\n",
       "[70644 rows x 3 columns]"
      ]
     },
     "execution_count": 17,
     "metadata": {},
     "output_type": "execute_result"
    }
   ],
   "source": [
    "train_features"
   ]
  },
  {
   "cell_type": "markdown",
   "metadata": {},
   "source": [
    "# MLP"
   ]
  },
  {
   "cell_type": "code",
   "execution_count": 20,
   "metadata": {},
   "outputs": [
    {
     "name": "stdout",
     "output_type": "stream",
     "text": [
      "Model: \"sequential_3\"\n",
      "_________________________________________________________________\n",
      "Layer (type)                 Output Shape              Param #   \n",
      "=================================================================\n",
      "batch_normalization_6 (Batch (None, 3)                 12        \n",
      "_________________________________________________________________\n",
      "dense_15 (Dense)             (None, 6)                 24        \n",
      "_________________________________________________________________\n",
      "batch_normalization_7 (Batch (None, 6)                 24        \n",
      "_________________________________________________________________\n",
      "dense_16 (Dense)             (None, 18)                126       \n",
      "_________________________________________________________________\n",
      "dense_17 (Dense)             (None, 6)                 114       \n",
      "_________________________________________________________________\n",
      "dense_18 (Dense)             (None, 3)                 21        \n",
      "_________________________________________________________________\n",
      "dense_19 (Dense)             (None, 1)                 4         \n",
      "=================================================================\n",
      "Total params: 325\n",
      "Trainable params: 307\n",
      "Non-trainable params: 18\n",
      "_________________________________________________________________\n"
     ]
    }
   ],
   "source": [
    "model = Sequential()\n",
    "model.add(BatchNormalization(input_dim=X.shape[1]))\n",
    "model.add(Dense(6,activation=\"tanh\"))\n",
    "model.add(BatchNormalization())\n",
    "model.add(Dense(18,activation=\"relu\"))\n",
    "#model.add(BatchNormalization())\n",
    "model.add(Dense(6,activation=\"relu\"))\n",
    "#model.add(BatchNormalization())\n",
    "model.add(Dense(3,activation=\"relu\"))\n",
    "model.add(Dense(1,activation=\"linear\"))\n",
    "model.summary()"
   ]
  },
  {
   "cell_type": "code",
   "execution_count": 21,
   "metadata": {},
   "outputs": [
    {
     "name": "stdout",
     "output_type": "stream",
     "text": [
      "Epoch 1/2000\n",
      "636/636 [==============================] - 1s 1ms/step - loss: 23865.1836 - mean_squared_error: 23865.1836 - val_loss: 20171.5176 - val_mean_squared_error: 20171.5176\n",
      "Epoch 2/2000\n",
      "636/636 [==============================] - 1s 842us/step - loss: 20674.3066 - mean_squared_error: 20674.3066 - val_loss: 17651.6875 - val_mean_squared_error: 17651.6875\n",
      "Epoch 3/2000\n",
      "636/636 [==============================] - 1s 918us/step - loss: 19427.0781 - mean_squared_error: 19427.0781 - val_loss: 16887.6836 - val_mean_squared_error: 16887.6836\n",
      "Epoch 4/2000\n",
      "636/636 [==============================] - 0s 765us/step - loss: 19276.3555 - mean_squared_error: 19276.3555 - val_loss: 16720.1074 - val_mean_squared_error: 16720.1074\n",
      "Epoch 5/2000\n",
      "636/636 [==============================] - 0s 734us/step - loss: 18990.1309 - mean_squared_error: 18990.1309 - val_loss: 16525.2383 - val_mean_squared_error: 16525.2383\n",
      "Epoch 6/2000\n",
      "636/636 [==============================] - 0s 757us/step - loss: 18872.2930 - mean_squared_error: 18872.2930 - val_loss: 16532.6523 - val_mean_squared_error: 16532.6523\n",
      "Epoch 7/2000\n",
      "636/636 [==============================] - 0s 764us/step - loss: 18821.5703 - mean_squared_error: 18821.5703 - val_loss: 16519.6543 - val_mean_squared_error: 16519.6543\n",
      "Epoch 8/2000\n",
      "636/636 [==============================] - 0s 763us/step - loss: 18824.1738 - mean_squared_error: 18824.1738 - val_loss: 16449.5703 - val_mean_squared_error: 16449.5703\n",
      "Epoch 9/2000\n",
      "636/636 [==============================] - 0s 743us/step - loss: 18782.6152 - mean_squared_error: 18782.6152 - val_loss: 16368.1777 - val_mean_squared_error: 16368.1777\n",
      "Epoch 10/2000\n",
      "636/636 [==============================] - 0s 740us/step - loss: 18806.2285 - mean_squared_error: 18806.2285 - val_loss: 16292.4531 - val_mean_squared_error: 16292.4531\n",
      "Epoch 11/2000\n",
      "636/636 [==============================] - 1s 803us/step - loss: 18800.8535 - mean_squared_error: 18800.8535 - val_loss: 16349.9473 - val_mean_squared_error: 16349.9473\n",
      "Epoch 12/2000\n",
      "636/636 [==============================] - 0s 737us/step - loss: 18795.2090 - mean_squared_error: 18795.2090 - val_loss: 16339.6436 - val_mean_squared_error: 16339.6436\n",
      "Epoch 13/2000\n",
      "636/636 [==============================] - 1s 789us/step - loss: 18791.2812 - mean_squared_error: 18791.2812 - val_loss: 16302.6270 - val_mean_squared_error: 16302.6270\n",
      "Epoch 14/2000\n",
      "636/636 [==============================] - 0s 757us/step - loss: 18703.1855 - mean_squared_error: 18703.1855 - val_loss: 16256.4199 - val_mean_squared_error: 16256.4199\n",
      "Epoch 15/2000\n",
      "636/636 [==============================] - 0s 759us/step - loss: 18644.3691 - mean_squared_error: 18644.3691 - val_loss: 16236.4297 - val_mean_squared_error: 16236.4297\n",
      "Epoch 16/2000\n",
      "636/636 [==============================] - 1s 815us/step - loss: 18666.1230 - mean_squared_error: 18666.1230 - val_loss: 16289.9082 - val_mean_squared_error: 16289.9082\n",
      "Epoch 17/2000\n",
      "636/636 [==============================] - 1s 986us/step - loss: 18695.9922 - mean_squared_error: 18695.9922 - val_loss: 16239.5029 - val_mean_squared_error: 16239.5029\n",
      "Epoch 18/2000\n",
      "636/636 [==============================] - 1s 914us/step - loss: 18601.3535 - mean_squared_error: 18601.3535 - val_loss: 16240.4180 - val_mean_squared_error: 16240.4180\n",
      "Epoch 19/2000\n",
      "636/636 [==============================] - 1s 887us/step - loss: 18703.7461 - mean_squared_error: 18703.7461 - val_loss: 16218.9668 - val_mean_squared_error: 16218.9668\n",
      "Epoch 20/2000\n",
      "636/636 [==============================] - 0s 752us/step - loss: 18672.6914 - mean_squared_error: 18672.6914 - val_loss: 16250.8105 - val_mean_squared_error: 16250.8105\n",
      "Epoch 21/2000\n",
      "636/636 [==============================] - 0s 750us/step - loss: 18673.2344 - mean_squared_error: 18673.2344 - val_loss: 16220.6553 - val_mean_squared_error: 16220.6553\n",
      "Epoch 22/2000\n",
      "636/636 [==============================] - 1s 869us/step - loss: 18662.4375 - mean_squared_error: 18662.4375 - val_loss: 16207.2256 - val_mean_squared_error: 16207.2256\n",
      "Epoch 23/2000\n",
      "636/636 [==============================] - 1s 968us/step - loss: 18766.6895 - mean_squared_error: 18766.6895 - val_loss: 16250.6426 - val_mean_squared_error: 16250.6426\n",
      "Epoch 24/2000\n",
      "636/636 [==============================] - 1s 882us/step - loss: 18690.6016 - mean_squared_error: 18690.6016 - val_loss: 16216.4092 - val_mean_squared_error: 16216.4092\n",
      "Epoch 25/2000\n",
      "636/636 [==============================] - 0s 748us/step - loss: 18577.3633 - mean_squared_error: 18577.3633 - val_loss: 16263.2607 - val_mean_squared_error: 16263.2607\n",
      "Epoch 26/2000\n",
      "636/636 [==============================] - 0s 767us/step - loss: 18566.9141 - mean_squared_error: 18566.9141 - val_loss: 16241.2793 - val_mean_squared_error: 16241.2783\n",
      "Epoch 27/2000\n",
      "636/636 [==============================] - 0s 757us/step - loss: 18633.9766 - mean_squared_error: 18633.9766 - val_loss: 16205.0527 - val_mean_squared_error: 16205.0518\n",
      "Epoch 28/2000\n",
      "636/636 [==============================] - 0s 768us/step - loss: 18690.5352 - mean_squared_error: 18690.5352 - val_loss: 16195.6631 - val_mean_squared_error: 16195.6631\n",
      "Epoch 29/2000\n",
      "636/636 [==============================] - 0s 768us/step - loss: 18569.2871 - mean_squared_error: 18569.2871 - val_loss: 16162.4463 - val_mean_squared_error: 16162.4443\n",
      "Epoch 30/2000\n",
      "636/636 [==============================] - 1s 795us/step - loss: 18583.8477 - mean_squared_error: 18583.8477 - val_loss: 16205.4248 - val_mean_squared_error: 16205.4248\n",
      "Epoch 31/2000\n",
      "636/636 [==============================] - 0s 737us/step - loss: 18552.9258 - mean_squared_error: 18552.9258 - val_loss: 16178.3223 - val_mean_squared_error: 16178.3223\n",
      "Epoch 32/2000\n",
      "636/636 [==============================] - 0s 742us/step - loss: 18443.2070 - mean_squared_error: 18443.2070 - val_loss: 16156.3926 - val_mean_squared_error: 16156.3926\n",
      "Epoch 33/2000\n",
      "636/636 [==============================] - 0s 781us/step - loss: 18575.6895 - mean_squared_error: 18575.6895 - val_loss: 16176.2637 - val_mean_squared_error: 16176.2637\n",
      "Epoch 34/2000\n",
      "636/636 [==============================] - 0s 731us/step - loss: 18506.8008 - mean_squared_error: 18506.8008 - val_loss: 16128.0664 - val_mean_squared_error: 16128.0664\n",
      "Epoch 35/2000\n",
      "636/636 [==============================] - 0s 762us/step - loss: 18520.7461 - mean_squared_error: 18520.7461 - val_loss: 16180.5293 - val_mean_squared_error: 16180.5293\n",
      "Epoch 36/2000\n",
      "636/636 [==============================] - 0s 730us/step - loss: 18519.3008 - mean_squared_error: 18519.3008 - val_loss: 16158.7588 - val_mean_squared_error: 16158.7598\n",
      "Epoch 37/2000\n",
      "636/636 [==============================] - 0s 784us/step - loss: 18590.0156 - mean_squared_error: 18590.0176 - val_loss: 16115.8291 - val_mean_squared_error: 16115.8291\n",
      "Epoch 38/2000\n",
      "636/636 [==============================] - 0s 739us/step - loss: 18550.0215 - mean_squared_error: 18550.0215 - val_loss: 16100.4932 - val_mean_squared_error: 16100.4932\n",
      "Epoch 39/2000\n",
      "636/636 [==============================] - 0s 729us/step - loss: 18507.5059 - mean_squared_error: 18507.5059 - val_loss: 16149.2998 - val_mean_squared_error: 16149.2998\n",
      "Epoch 40/2000\n",
      "636/636 [==============================] - 1s 803us/step - loss: 18379.2695 - mean_squared_error: 18379.2695 - val_loss: 16133.2441 - val_mean_squared_error: 16133.2441\n",
      "Epoch 41/2000\n",
      "636/636 [==============================] - 1s 790us/step - loss: 18429.1035 - mean_squared_error: 18429.1035 - val_loss: 16078.1680 - val_mean_squared_error: 16078.1680\n",
      "Epoch 42/2000\n",
      "636/636 [==============================] - 0s 774us/step - loss: 18500.1992 - mean_squared_error: 18500.1992 - val_loss: 16068.8984 - val_mean_squared_error: 16068.8984\n",
      "Epoch 43/2000\n",
      "636/636 [==============================] - 0s 768us/step - loss: 18459.7148 - mean_squared_error: 18459.7148 - val_loss: 16113.3672 - val_mean_squared_error: 16113.3672\n",
      "Epoch 44/2000\n",
      "636/636 [==============================] - 0s 759us/step - loss: 18487.6895 - mean_squared_error: 18487.6895 - val_loss: 16108.2334 - val_mean_squared_error: 16108.2334\n",
      "Epoch 45/2000\n",
      "636/636 [==============================] - 0s 730us/step - loss: 18552.4648 - mean_squared_error: 18552.4648 - val_loss: 16125.0752 - val_mean_squared_error: 16125.0742\n"
     ]
    },
    {
     "name": "stdout",
     "output_type": "stream",
     "text": [
      "Epoch 46/2000\n",
      "636/636 [==============================] - 0s 724us/step - loss: 18444.5957 - mean_squared_error: 18444.5957 - val_loss: 16077.7588 - val_mean_squared_error: 16077.7598\n",
      "Epoch 47/2000\n",
      "636/636 [==============================] - 0s 745us/step - loss: 18655.6367 - mean_squared_error: 18655.6367 - val_loss: 16100.4287 - val_mean_squared_error: 16100.4287\n",
      "Epoch 48/2000\n",
      "636/636 [==============================] - 0s 728us/step - loss: 18493.0430 - mean_squared_error: 18493.0430 - val_loss: 16112.6455 - val_mean_squared_error: 16112.6455\n",
      "Epoch 49/2000\n",
      "636/636 [==============================] - 0s 758us/step - loss: 18547.6309 - mean_squared_error: 18547.6309 - val_loss: 16084.6055 - val_mean_squared_error: 16084.6055\n",
      "Epoch 50/2000\n",
      "636/636 [==============================] - 0s 731us/step - loss: 18513.8320 - mean_squared_error: 18513.8320 - val_loss: 16095.0000 - val_mean_squared_error: 16095.0000\n",
      "Epoch 51/2000\n",
      "636/636 [==============================] - 0s 743us/step - loss: 18586.9082 - mean_squared_error: 18586.9082 - val_loss: 16145.3691 - val_mean_squared_error: 16145.3691\n",
      "Epoch 52/2000\n",
      "636/636 [==============================] - 0s 728us/step - loss: 18423.8789 - mean_squared_error: 18423.8789 - val_loss: 16088.9561 - val_mean_squared_error: 16088.9541\n",
      "Model: \"sequential_3\"\n",
      "_________________________________________________________________\n",
      "Layer (type)                 Output Shape              Param #   \n",
      "=================================================================\n",
      "batch_normalization_6 (Batch (None, 3)                 12        \n",
      "_________________________________________________________________\n",
      "dense_15 (Dense)             (None, 6)                 24        \n",
      "_________________________________________________________________\n",
      "batch_normalization_7 (Batch (None, 6)                 24        \n",
      "_________________________________________________________________\n",
      "dense_16 (Dense)             (None, 18)                126       \n",
      "_________________________________________________________________\n",
      "dense_17 (Dense)             (None, 6)                 114       \n",
      "_________________________________________________________________\n",
      "dense_18 (Dense)             (None, 3)                 21        \n",
      "_________________________________________________________________\n",
      "dense_19 (Dense)             (None, 1)                 4         \n",
      "=================================================================\n",
      "Total params: 325\n",
      "Trainable params: 307\n",
      "Non-trainable params: 18\n",
      "_________________________________________________________________\n"
     ]
    }
   ],
   "source": [
    "opt = keras.optimizers.Adam(learning_rate=0.001)\n",
    "early_stopping = EarlyStopping(monitor='val_loss', patience=10)\n",
    "model.compile(loss='MSE', optimizer=opt, metrics=['mean_squared_error'])\n",
    "model.fit(X, Y, epochs=2000, batch_size=100, verbose=1, validation_split=0.1,callbacks=[early_stopping])\n",
    "model.summary()"
   ]
  },
  {
   "cell_type": "code",
   "execution_count": 22,
   "metadata": {},
   "outputs": [
    {
     "data": {
      "text/plain": [
       "0.2547513514809826"
      ]
     },
     "execution_count": 22,
     "metadata": {},
     "output_type": "execute_result"
    }
   ],
   "source": [
    "predict = model.predict(X)\n",
    "r2_score(Y,predict)"
   ]
  },
  {
   "cell_type": "code",
   "execution_count": 23,
   "metadata": {},
   "outputs": [
    {
     "data": {
      "text/plain": [
       "0.25729050340585446"
      ]
     },
     "execution_count": 23,
     "metadata": {},
     "output_type": "execute_result"
    }
   ],
   "source": [
    "r2_score(test_Y,model.predict(test_X))"
   ]
  },
  {
   "cell_type": "code",
   "execution_count": 26,
   "metadata": {},
   "outputs": [
    {
     "data": {
      "text/plain": [
       "16689.06737232221"
      ]
     },
     "execution_count": 26,
     "metadata": {},
     "output_type": "execute_result"
    }
   ],
   "source": [
    " mean_squared_error(test_Y,model.predict(test_X))"
   ]
  },
  {
   "cell_type": "code",
   "execution_count": 42,
   "metadata": {},
   "outputs": [
    {
     "data": {
      "image/png": "[encoded data removed]",
      "text/plain": [
       "<Figure size 432x288 with 1 Axes>"
      ]
     },
     "metadata": {
      "needs_background": "light"
     },
     "output_type": "display_data"
    },
    {
     "data": {
      "text/plain": [
       "DescribeResult(nobs=30276, minmax=(array([0.00065136], dtype=float32), array([2997.6035], dtype=float32)), mean=array([43.201027], dtype=float32), variance=array([15042.303], dtype=float32), skewness=array([9.889432], dtype=float32), kurtosis=array([150.09741], dtype=float32))"
      ]
     },
     "execution_count": 42,
     "metadata": {},
     "output_type": "execute_result"
    }
   ],
   "source": [
    "test_predict = model.predict(test_features)\n",
    "\n",
    "error,abserror = errorCalculate(test_Y,test_predict)\n",
    "plt.plot(error,'g+')\n",
    "plt.xlabel('Sample ID')\n",
    "plt.ylabel('Error')\n",
    "plt.show()\n",
    "stats.describe(abserror)"
   ]
  },
  {
   "cell_type": "code",
   "execution_count": 43,
   "metadata": {},
   "outputs": [
    {
     "name": "stdout",
     "output_type": "stream",
     "text": [
      "INFO:tensorflow:Assets written to: mlp\\assets\n"
     ]
    }
   ],
   "source": [
    "model.save('mlp')"
   ]
  },
  {
   "cell_type": "code",
   "execution_count": 44,
   "metadata": {},
   "outputs": [],
   "source": [
    "model_upload = load_model(\"mlp\")"
   ]
  },
  {
   "cell_type": "code",
   "execution_count": 45,
   "metadata": {},
   "outputs": [
    {
     "data": {
      "text/plain": [
       "array([[22.682428 ],\n",
       "       [ 7.9997387],\n",
       "       [ 8.208836 ],\n",
       "       ...,\n",
       "       [ 8.903623 ],\n",
       "       [ 9.094419 ],\n",
       "       [ 8.699245 ]], dtype=float32)"
      ]
     },
     "execution_count": 45,
     "metadata": {},
     "output_type": "execute_result"
    }
   ],
   "source": [
    "model_upload.predict(test_X)"
   ]
  },
  {
   "cell_type": "code",
   "execution_count": 46,
   "metadata": {},
   "outputs": [
    {
     "data": {
      "text/plain": [
       "array([7, 0, 0, ..., 0, 0, 1], dtype=int64)"
      ]
     },
     "execution_count": 46,
     "metadata": {},
     "output_type": "execute_result"
    }
   ],
   "source": [
    "test_Y"
   ]
  },
  {
   "cell_type": "code",
   "execution_count": null,
   "metadata": {},
   "outputs": [],
   "source": []
  }
 ],
 "metadata": {
  "kernelspec": {
   "display_name": "Python 3",
   "language": "python",
   "name": "python3"
  },
  "language_info": {
   "codemirror_mode": {
    "name": "ipython",
    "version": 3
   },
   "file_extension": ".py",
   "mimetype": "text/x-python",
   "name": "python",
   "nbconvert_exporter": "python",
   "pygments_lexer": "ipython3",
   "version": "3.8.3"
  }
 },
 "nbformat": 4,
 "nbformat_minor": 4
}
