{
 "cells": [
  {
   "cell_type": "code",
   "execution_count": 1,
   "metadata": {},
   "outputs": [],
   "source": [
    "import matplotlib.pyplot as plt\n",
    "import pandas as pd\n",
    "import numpy as np\n",
    "from tensorflow.keras.models import Sequential,load_model\n",
    "from tensorflow.keras.layers import Dense,BatchNormalization\n",
    "from tensorflow.keras import layers\n",
    "from tensorflow import keras\n",
    "import numpy as np\n",
    "from sklearn.metrics import r2_score\n",
    "from tensorflow.keras.layers.experimental import preprocessing\n",
    "from tensorflow.keras.callbacks import EarlyStopping\n",
    "from scipy import stats"
   ]
  },
  {
   "cell_type": "markdown",
   "metadata": {},
   "source": [
    "## Error Visible Calculation"
   ]
  },
  {
   "cell_type": "code",
   "execution_count": 2,
   "metadata": {},
   "outputs": [],
   "source": [
    "def errorCalculate(Origin,Predict):\n",
    "    errorlist = []\n",
    "    abserrorlist = []\n",
    "    error = 0\n",
    "    count = 0\n",
    "    errorpercentage = 0\n",
    "\n",
    "    for i in range(len(Origin)):\n",
    "        count += 1\n",
    "        True_num = Origin[i]\n",
    "        Cal_num = Predict[i]\n",
    "        Diff = Cal_num - True_num\n",
    "        absDiff = abs(Cal_num - True_num)\n",
    "        errorlist.append(Diff)\n",
    "        abserrorlist.append(absDiff)\n",
    "    errorlist = np.asarray(errorlist)\n",
    "    abserrorlist = np.asarray(abserrorlist)\n",
    "    return errorlist, abserrorlist"
   ]
  },
  {
   "cell_type": "markdown",
   "metadata": {},
   "source": [
    "## Input Data"
   ]
  },
  {
   "cell_type": "code",
   "execution_count": 3,
   "metadata": {},
   "outputs": [],
   "source": [
    "train_dataset = pd.read_csv(\"train_dataset.csv\")\n",
    "test_dataset = pd.read_csv(\"test_dataset.csv\")\n",
    "train_features = train_dataset.copy()\n",
    "test_features = test_dataset.copy()\n",
    "train_labels = train_features.pop('new_cases')\n",
    "test_labels = test_features.pop('new_cases')\n",
    "X = train_features.to_numpy()\n",
    "Y = train_labels.to_numpy()\n",
    "test_X = test_features.to_numpy()\n",
    "test_Y = test_labels.to_numpy()\n",
    "input_shape = (3,)"
   ]
  },
  {
   "cell_type": "code",
   "execution_count": 4,
   "metadata": {},
   "outputs": [
    {
     "data": {
      "text/html": [
       "<div>\n",
       "<style scoped>\n",
       "    .dataframe tbody tr th:only-of-type {\n",
       "        vertical-align: middle;\n",
       "    }\n",
       "\n",
       "    .dataframe tbody tr th {\n",
       "        vertical-align: top;\n",
       "    }\n",
       "\n",
       "    .dataframe thead th {\n",
       "        text-align: right;\n",
       "    }\n",
       "</style>\n",
       "<table border=\"1\" class=\"dataframe\">\n",
       "  <thead>\n",
       "    <tr style=\"text-align: right;\">\n",
       "      <th></th>\n",
       "      <th>date</th>\n",
       "      <th>popluation</th>\n",
       "      <th>AgeGroup</th>\n",
       "    </tr>\n",
       "  </thead>\n",
       "  <tbody>\n",
       "    <tr>\n",
       "      <th>0</th>\n",
       "      <td>265</td>\n",
       "      <td>245353</td>\n",
       "      <td>1</td>\n",
       "    </tr>\n",
       "    <tr>\n",
       "      <th>1</th>\n",
       "      <td>370</td>\n",
       "      <td>1677000</td>\n",
       "      <td>1</td>\n",
       "    </tr>\n",
       "    <tr>\n",
       "      <th>2</th>\n",
       "      <td>251</td>\n",
       "      <td>1677000</td>\n",
       "      <td>3</td>\n",
       "    </tr>\n",
       "    <tr>\n",
       "      <th>3</th>\n",
       "      <td>285</td>\n",
       "      <td>1677000</td>\n",
       "      <td>2</td>\n",
       "    </tr>\n",
       "    <tr>\n",
       "      <th>4</th>\n",
       "      <td>389</td>\n",
       "      <td>7544000</td>\n",
       "      <td>2</td>\n",
       "    </tr>\n",
       "    <tr>\n",
       "      <th>...</th>\n",
       "      <td>...</td>\n",
       "      <td>...</td>\n",
       "      <td>...</td>\n",
       "    </tr>\n",
       "    <tr>\n",
       "      <th>70639</th>\n",
       "      <td>55</td>\n",
       "      <td>1677000</td>\n",
       "      <td>5</td>\n",
       "    </tr>\n",
       "    <tr>\n",
       "      <th>70640</th>\n",
       "      <td>237</td>\n",
       "      <td>245353</td>\n",
       "      <td>4</td>\n",
       "    </tr>\n",
       "    <tr>\n",
       "      <th>70641</th>\n",
       "      <td>245</td>\n",
       "      <td>7544000</td>\n",
       "      <td>2</td>\n",
       "    </tr>\n",
       "    <tr>\n",
       "      <th>70642</th>\n",
       "      <td>68</td>\n",
       "      <td>5071000</td>\n",
       "      <td>3</td>\n",
       "    </tr>\n",
       "    <tr>\n",
       "      <th>70643</th>\n",
       "      <td>216</td>\n",
       "      <td>7544000</td>\n",
       "      <td>4</td>\n",
       "    </tr>\n",
       "  </tbody>\n",
       "</table>\n",
       "<p>70644 rows × 3 columns</p>\n",
       "</div>"
      ],
      "text/plain": [
       "       date  popluation  AgeGroup\n",
       "0       265      245353         1\n",
       "1       370     1677000         1\n",
       "2       251     1677000         3\n",
       "3       285     1677000         2\n",
       "4       389     7544000         2\n",
       "...     ...         ...       ...\n",
       "70639    55     1677000         5\n",
       "70640   237      245353         4\n",
       "70641   245     7544000         2\n",
       "70642    68     5071000         3\n",
       "70643   216     7544000         4\n",
       "\n",
       "[70644 rows x 3 columns]"
      ]
     },
     "execution_count": 4,
     "metadata": {},
     "output_type": "execute_result"
    }
   ],
   "source": [
    "train_features"
   ]
  },
  {
   "cell_type": "markdown",
   "metadata": {},
   "source": [
    "# MLP"
   ]
  },
  {
   "cell_type": "code",
   "execution_count": 38,
   "metadata": {},
   "outputs": [
    {
     "name": "stdout",
     "output_type": "stream",
     "text": [
      "Model: \"sequential_5\"\n",
      "_________________________________________________________________\n",
      "Layer (type)                 Output Shape              Param #   \n",
      "=================================================================\n",
      "batch_normalization_10 (Batc (None, 3)                 12        \n",
      "_________________________________________________________________\n",
      "dense_25 (Dense)             (None, 6)                 24        \n",
      "_________________________________________________________________\n",
      "batch_normalization_11 (Batc (None, 6)                 24        \n",
      "_________________________________________________________________\n",
      "dense_26 (Dense)             (None, 18)                126       \n",
      "_________________________________________________________________\n",
      "dense_27 (Dense)             (None, 6)                 114       \n",
      "_________________________________________________________________\n",
      "dense_28 (Dense)             (None, 3)                 21        \n",
      "_________________________________________________________________\n",
      "dense_29 (Dense)             (None, 1)                 4         \n",
      "=================================================================\n",
      "Total params: 325\n",
      "Trainable params: 307\n",
      "Non-trainable params: 18\n",
      "_________________________________________________________________\n"
     ]
    }
   ],
   "source": [
    "model = Sequential()\n",
    "model.add(BatchNormalization(input_dim=X.shape[1]))\n",
    "model.add(Dense(6,activation=\"tanh\"))\n",
    "model.add(BatchNormalization())\n",
    "model.add(Dense(18,activation=\"relu\"))\n",
    "#model.add(BatchNormalization())\n",
    "model.add(Dense(6,activation=\"relu\"))\n",
    "#model.add(BatchNormalization())\n",
    "model.add(Dense(3,activation=\"relu\"))\n",
    "model.add(Dense(1,activation=\"linear\"))\n",
    "model.summary()"
   ]
  },
  {
   "cell_type": "code",
   "execution_count": 39,
   "metadata": {},
   "outputs": [
    {
     "name": "stdout",
     "output_type": "stream",
     "text": [
      "Epoch 1/2000\n",
      "7/7 [==============================] - 0s 22ms/step - loss: 26116.8848 - mean_squared_error: 26116.8848 - val_loss: 24799.0156 - val_mean_squared_error: 24799.0156\n",
      "Epoch 2/2000\n",
      "7/7 [==============================] - 0s 5ms/step - loss: 26112.6777 - mean_squared_error: 26112.6777 - val_loss: 24791.8320 - val_mean_squared_error: 24791.8320\n",
      "Epoch 3/2000\n",
      "7/7 [==============================] - 0s 5ms/step - loss: 26107.7246 - mean_squared_error: 26107.7246 - val_loss: 24783.7559 - val_mean_squared_error: 24783.7559\n",
      "Epoch 4/2000\n",
      "7/7 [==============================] - 0s 5ms/step - loss: 26102.0410 - mean_squared_error: 26102.0410 - val_loss: 24774.6680 - val_mean_squared_error: 24774.6680\n",
      "Epoch 5/2000\n",
      "7/7 [==============================] - 0s 6ms/step - loss: 26095.3750 - mean_squared_error: 26095.3750 - val_loss: 24764.1055 - val_mean_squared_error: 24764.1055\n",
      "Epoch 6/2000\n",
      "7/7 [==============================] - 0s 5ms/step - loss: 26087.6523 - mean_squared_error: 26087.6523 - val_loss: 24751.4043 - val_mean_squared_error: 24751.4043\n",
      "Epoch 7/2000\n",
      "7/7 [==============================] - 0s 5ms/step - loss: 26078.3711 - mean_squared_error: 26078.3711 - val_loss: 24736.1055 - val_mean_squared_error: 24736.1055\n",
      "Epoch 8/2000\n",
      "7/7 [==============================] - 0s 5ms/step - loss: 26067.3711 - mean_squared_error: 26067.3711 - val_loss: 24717.1094 - val_mean_squared_error: 24717.1094\n",
      "Epoch 9/2000\n",
      "7/7 [==============================] - 0s 5ms/step - loss: 26053.8770 - mean_squared_error: 26053.8770 - val_loss: 24693.2285 - val_mean_squared_error: 24693.2285\n",
      "Epoch 10/2000\n",
      "7/7 [==============================] - 0s 5ms/step - loss: 26037.3750 - mean_squared_error: 26037.3750 - val_loss: 24663.9492 - val_mean_squared_error: 24663.9492\n",
      "Epoch 11/2000\n",
      "7/7 [==============================] - 0s 5ms/step - loss: 26017.1387 - mean_squared_error: 26017.1387 - val_loss: 24628.4043 - val_mean_squared_error: 24628.4043\n",
      "Epoch 12/2000\n",
      "7/7 [==============================] - 0s 5ms/step - loss: 25991.8223 - mean_squared_error: 25991.8223 - val_loss: 24585.9863 - val_mean_squared_error: 24585.9863\n",
      "Epoch 13/2000\n",
      "7/7 [==============================] - 0s 5ms/step - loss: 25960.7031 - mean_squared_error: 25960.7031 - val_loss: 24535.0332 - val_mean_squared_error: 24535.0332\n",
      "Epoch 14/2000\n",
      "7/7 [==============================] - 0s 5ms/step - loss: 25921.9766 - mean_squared_error: 25921.9805 - val_loss: 24475.0723 - val_mean_squared_error: 24475.0723\n",
      "Epoch 15/2000\n",
      "7/7 [==============================] - 0s 5ms/step - loss: 25874.0273 - mean_squared_error: 25874.0273 - val_loss: 24405.2520 - val_mean_squared_error: 24405.2520\n",
      "Epoch 16/2000\n",
      "7/7 [==============================] - 0s 5ms/step - loss: 25817.1523 - mean_squared_error: 25817.1523 - val_loss: 24323.7637 - val_mean_squared_error: 24323.7637\n",
      "Epoch 17/2000\n",
      "7/7 [==============================] - 0s 5ms/step - loss: 25749.2441 - mean_squared_error: 25749.2441 - val_loss: 24230.1445 - val_mean_squared_error: 24230.1445\n",
      "Epoch 18/2000\n",
      "7/7 [==============================] - 0s 6ms/step - loss: 25670.3086 - mean_squared_error: 25670.3086 - val_loss: 24121.8340 - val_mean_squared_error: 24121.8340\n",
      "Epoch 19/2000\n",
      "7/7 [==============================] - 0s 5ms/step - loss: 25577.7891 - mean_squared_error: 25577.7891 - val_loss: 23998.2246 - val_mean_squared_error: 23998.2246\n",
      "Epoch 20/2000\n",
      "7/7 [==============================] - 0s 5ms/step - loss: 25470.1973 - mean_squared_error: 25470.1973 - val_loss: 23858.2598 - val_mean_squared_error: 23858.2598\n",
      "Epoch 21/2000\n",
      "7/7 [==============================] - 0s 5ms/step - loss: 25346.4160 - mean_squared_error: 25346.4160 - val_loss: 23702.1777 - val_mean_squared_error: 23702.1777\n",
      "Epoch 22/2000\n",
      "7/7 [==============================] - 0s 5ms/step - loss: 25207.3105 - mean_squared_error: 25207.3105 - val_loss: 23529.0156 - val_mean_squared_error: 23529.0156\n",
      "Epoch 23/2000\n",
      "7/7 [==============================] - 0s 5ms/step - loss: 25050.5137 - mean_squared_error: 25050.5137 - val_loss: 23340.0430 - val_mean_squared_error: 23340.0430\n",
      "Epoch 24/2000\n",
      "7/7 [==============================] - 0s 5ms/step - loss: 24877.8926 - mean_squared_error: 24877.8926 - val_loss: 23136.0254 - val_mean_squared_error: 23136.0254\n",
      "Epoch 25/2000\n",
      "7/7 [==============================] - 0s 5ms/step - loss: 24687.7402 - mean_squared_error: 24687.7402 - val_loss: 22919.4395 - val_mean_squared_error: 22919.4395\n",
      "Epoch 26/2000\n",
      "7/7 [==============================] - 0s 5ms/step - loss: 24481.0039 - mean_squared_error: 24481.0039 - val_loss: 22692.7520 - val_mean_squared_error: 22692.7520\n",
      "Epoch 27/2000\n",
      "7/7 [==============================] - 0s 5ms/step - loss: 24260.8594 - mean_squared_error: 24260.8594 - val_loss: 22459.6855 - val_mean_squared_error: 22459.6855\n",
      "Epoch 28/2000\n",
      "7/7 [==============================] - 0s 5ms/step - loss: 24031.2227 - mean_squared_error: 24031.2266 - val_loss: 22227.5625 - val_mean_squared_error: 22227.5625\n",
      "Epoch 29/2000\n",
      "7/7 [==============================] - 0s 5ms/step - loss: 23801.4062 - mean_squared_error: 23801.4062 - val_loss: 22000.5859 - val_mean_squared_error: 22000.5859\n",
      "Epoch 30/2000\n",
      "7/7 [==============================] - 0s 5ms/step - loss: 23570.6426 - mean_squared_error: 23570.6426 - val_loss: 21785.8750 - val_mean_squared_error: 21785.8750\n",
      "Epoch 31/2000\n",
      "7/7 [==============================] - 0s 5ms/step - loss: 23347.8320 - mean_squared_error: 23347.8320 - val_loss: 21590.8906 - val_mean_squared_error: 21590.8906\n",
      "Epoch 32/2000\n",
      "7/7 [==============================] - 0s 5ms/step - loss: 23145.1152 - mean_squared_error: 23145.1152 - val_loss: 21417.8555 - val_mean_squared_error: 21417.8555\n",
      "Epoch 33/2000\n",
      "7/7 [==============================] - 0s 5ms/step - loss: 22965.3477 - mean_squared_error: 22965.3477 - val_loss: 21272.3906 - val_mean_squared_error: 21272.3906\n",
      "Epoch 34/2000\n",
      "7/7 [==============================] - 0s 5ms/step - loss: 22815.3398 - mean_squared_error: 22815.3398 - val_loss: 21155.8711 - val_mean_squared_error: 21155.8711\n",
      "Epoch 35/2000\n",
      "7/7 [==============================] - 0s 5ms/step - loss: 22693.7871 - mean_squared_error: 22693.7871 - val_loss: 21065.5605 - val_mean_squared_error: 21065.5605\n",
      "Epoch 36/2000\n",
      "7/7 [==============================] - 0s 5ms/step - loss: 22599.8203 - mean_squared_error: 22599.8203 - val_loss: 20999.6406 - val_mean_squared_error: 20999.6406\n",
      "Epoch 37/2000\n",
      "7/7 [==============================] - 0s 5ms/step - loss: 22534.7285 - mean_squared_error: 22534.7285 - val_loss: 20945.7402 - val_mean_squared_error: 20945.7402\n",
      "Epoch 38/2000\n",
      "7/7 [==============================] - 0s 5ms/step - loss: 22485.9375 - mean_squared_error: 22485.9375 - val_loss: 20902.8281 - val_mean_squared_error: 20902.8281\n",
      "Epoch 39/2000\n",
      "7/7 [==============================] - 0s 5ms/step - loss: 22445.2109 - mean_squared_error: 22445.2129 - val_loss: 20864.7012 - val_mean_squared_error: 20864.7012\n",
      "Epoch 40/2000\n",
      "7/7 [==============================] - 0s 5ms/step - loss: 22409.8594 - mean_squared_error: 22409.8594 - val_loss: 20828.6074 - val_mean_squared_error: 20828.6074\n",
      "Epoch 41/2000\n",
      "7/7 [==============================] - 0s 5ms/step - loss: 22375.9238 - mean_squared_error: 22375.9238 - val_loss: 20791.6465 - val_mean_squared_error: 20791.6465\n",
      "Epoch 42/2000\n",
      "7/7 [==============================] - 0s 5ms/step - loss: 22340.1113 - mean_squared_error: 22340.1113 - val_loss: 20752.2070 - val_mean_squared_error: 20752.2070\n",
      "Epoch 43/2000\n",
      "7/7 [==============================] - 0s 5ms/step - loss: 22303.1523 - mean_squared_error: 22303.1523 - val_loss: 20711.5586 - val_mean_squared_error: 20711.5586\n",
      "Epoch 44/2000\n",
      "7/7 [==============================] - 0s 5ms/step - loss: 22260.7422 - mean_squared_error: 22260.7422 - val_loss: 20670.8223 - val_mean_squared_error: 20670.8223\n",
      "Epoch 45/2000\n",
      "7/7 [==============================] - 0s 5ms/step - loss: 22219.2051 - mean_squared_error: 22219.2051 - val_loss: 20627.3672 - val_mean_squared_error: 20627.3672\n",
      "Epoch 46/2000\n",
      "7/7 [==============================] - 0s 5ms/step - loss: 22175.1895 - mean_squared_error: 22175.1895 - val_loss: 20575.9043 - val_mean_squared_error: 20575.9043\n",
      "Epoch 47/2000\n"
     ]
    },
    {
     "name": "stdout",
     "output_type": "stream",
     "text": [
      "7/7 [==============================] - 0s 5ms/step - loss: 22124.4785 - mean_squared_error: 22124.4785 - val_loss: 20520.7051 - val_mean_squared_error: 20520.7051\n",
      "Epoch 48/2000\n",
      "7/7 [==============================] - 0s 5ms/step - loss: 22072.6055 - mean_squared_error: 22072.6055 - val_loss: 20462.1035 - val_mean_squared_error: 20462.1035\n",
      "Epoch 49/2000\n",
      "7/7 [==============================] - 0s 5ms/step - loss: 22015.4844 - mean_squared_error: 22015.4844 - val_loss: 20399.1777 - val_mean_squared_error: 20399.1777\n",
      "Epoch 50/2000\n",
      "7/7 [==============================] - 0s 5ms/step - loss: 21953.7402 - mean_squared_error: 21953.7402 - val_loss: 20326.5156 - val_mean_squared_error: 20326.5156\n",
      "Epoch 51/2000\n",
      "7/7 [==============================] - 0s 5ms/step - loss: 21886.0996 - mean_squared_error: 21886.1035 - val_loss: 20250.9180 - val_mean_squared_error: 20250.9180\n",
      "Epoch 52/2000\n",
      "7/7 [==============================] - 0s 5ms/step - loss: 21812.6172 - mean_squared_error: 21812.6172 - val_loss: 20173.6523 - val_mean_squared_error: 20173.6523\n",
      "Epoch 53/2000\n",
      "7/7 [==============================] - 0s 5ms/step - loss: 21736.3438 - mean_squared_error: 21736.3438 - val_loss: 20085.8594 - val_mean_squared_error: 20085.8594\n",
      "Epoch 54/2000\n",
      "7/7 [==============================] - 0s 5ms/step - loss: 21654.2227 - mean_squared_error: 21654.2227 - val_loss: 19989.1973 - val_mean_squared_error: 19989.1973\n",
      "Epoch 55/2000\n",
      "7/7 [==============================] - 0s 5ms/step - loss: 21562.3008 - mean_squared_error: 21562.3008 - val_loss: 19889.2324 - val_mean_squared_error: 19889.2324\n",
      "Epoch 56/2000\n",
      "7/7 [==============================] - 0s 5ms/step - loss: 21467.4531 - mean_squared_error: 21467.4531 - val_loss: 19776.2734 - val_mean_squared_error: 19776.2734\n",
      "Epoch 57/2000\n",
      "7/7 [==============================] - 0s 5ms/step - loss: 21363.6953 - mean_squared_error: 21363.6973 - val_loss: 19660.9277 - val_mean_squared_error: 19660.9277\n",
      "Epoch 58/2000\n",
      "7/7 [==============================] - 0s 5ms/step - loss: 21255.5020 - mean_squared_error: 21255.5020 - val_loss: 19539.2695 - val_mean_squared_error: 19539.2695\n",
      "Epoch 59/2000\n",
      "7/7 [==============================] - 0s 5ms/step - loss: 21140.8711 - mean_squared_error: 21140.8711 - val_loss: 19405.2227 - val_mean_squared_error: 19405.2227\n",
      "Epoch 60/2000\n",
      "7/7 [==============================] - 0s 5ms/step - loss: 21020.2715 - mean_squared_error: 21020.2715 - val_loss: 19268.6406 - val_mean_squared_error: 19268.6406\n",
      "Epoch 61/2000\n",
      "7/7 [==============================] - 0s 5ms/step - loss: 20888.0156 - mean_squared_error: 20888.0156 - val_loss: 19128.0352 - val_mean_squared_error: 19128.0352\n",
      "Epoch 62/2000\n",
      "7/7 [==============================] - 0s 5ms/step - loss: 20759.7324 - mean_squared_error: 20759.7305 - val_loss: 18979.2793 - val_mean_squared_error: 18979.2793\n",
      "Epoch 63/2000\n",
      "7/7 [==============================] - 0s 5ms/step - loss: 20627.3574 - mean_squared_error: 20627.3574 - val_loss: 18832.7500 - val_mean_squared_error: 18832.7500\n",
      "Epoch 64/2000\n",
      "7/7 [==============================] - 0s 5ms/step - loss: 20494.6992 - mean_squared_error: 20494.6973 - val_loss: 18682.7422 - val_mean_squared_error: 18682.7422\n",
      "Epoch 65/2000\n",
      "7/7 [==============================] - 0s 5ms/step - loss: 20365.8613 - mean_squared_error: 20365.8613 - val_loss: 18539.9746 - val_mean_squared_error: 18539.9746\n",
      "Epoch 66/2000\n",
      "7/7 [==============================] - 0s 5ms/step - loss: 20240.2461 - mean_squared_error: 20240.2461 - val_loss: 18406.3828 - val_mean_squared_error: 18406.3828\n",
      "Epoch 67/2000\n",
      "7/7 [==============================] - 0s 5ms/step - loss: 20118.4336 - mean_squared_error: 20118.4336 - val_loss: 18278.3145 - val_mean_squared_error: 18278.3145\n",
      "Epoch 68/2000\n",
      "7/7 [==============================] - 0s 5ms/step - loss: 19999.2754 - mean_squared_error: 19999.2754 - val_loss: 18145.8203 - val_mean_squared_error: 18145.8203\n",
      "Epoch 69/2000\n",
      "7/7 [==============================] - 0s 5ms/step - loss: 19893.9180 - mean_squared_error: 19893.9180 - val_loss: 18013.7637 - val_mean_squared_error: 18013.7637\n",
      "Epoch 70/2000\n",
      "7/7 [==============================] - 0s 6ms/step - loss: 19777.7520 - mean_squared_error: 19777.7520 - val_loss: 17892.8574 - val_mean_squared_error: 17892.8574\n",
      "Epoch 71/2000\n",
      "7/7 [==============================] - 0s 7ms/step - loss: 19673.8223 - mean_squared_error: 19673.8223 - val_loss: 17771.6387 - val_mean_squared_error: 17771.6387\n",
      "Epoch 72/2000\n",
      "7/7 [==============================] - 0s 5ms/step - loss: 19573.5586 - mean_squared_error: 19573.5586 - val_loss: 17663.0723 - val_mean_squared_error: 17663.0723\n",
      "Epoch 73/2000\n",
      "7/7 [==============================] - 0s 5ms/step - loss: 19482.5352 - mean_squared_error: 19482.5352 - val_loss: 17552.6504 - val_mean_squared_error: 17552.6504\n",
      "Epoch 74/2000\n",
      "7/7 [==============================] - 0s 5ms/step - loss: 19395.1230 - mean_squared_error: 19395.1230 - val_loss: 17443.3262 - val_mean_squared_error: 17443.3262\n",
      "Epoch 75/2000\n",
      "7/7 [==============================] - 0s 5ms/step - loss: 19303.8223 - mean_squared_error: 19303.8242 - val_loss: 17352.7383 - val_mean_squared_error: 17352.7383\n",
      "Epoch 76/2000\n",
      "7/7 [==============================] - 0s 5ms/step - loss: 19229.9746 - mean_squared_error: 19229.9746 - val_loss: 17267.2383 - val_mean_squared_error: 17267.2383\n",
      "Epoch 77/2000\n",
      "7/7 [==============================] - 0s 5ms/step - loss: 19159.6211 - mean_squared_error: 19159.6211 - val_loss: 17188.8457 - val_mean_squared_error: 17188.8457\n",
      "Epoch 78/2000\n",
      "7/7 [==============================] - 0s 5ms/step - loss: 19086.9414 - mean_squared_error: 19086.9434 - val_loss: 17112.2715 - val_mean_squared_error: 17112.2715\n",
      "Epoch 79/2000\n",
      "7/7 [==============================] - 0s 5ms/step - loss: 19023.3086 - mean_squared_error: 19023.3066 - val_loss: 17038.3691 - val_mean_squared_error: 17038.3691\n",
      "Epoch 80/2000\n",
      "7/7 [==============================] - 0s 5ms/step - loss: 18973.7051 - mean_squared_error: 18973.7051 - val_loss: 16963.0977 - val_mean_squared_error: 16963.0977\n",
      "Epoch 81/2000\n",
      "7/7 [==============================] - 0s 5ms/step - loss: 18912.8086 - mean_squared_error: 18912.8086 - val_loss: 16908.5391 - val_mean_squared_error: 16908.5391\n",
      "Epoch 82/2000\n",
      "7/7 [==============================] - 0s 5ms/step - loss: 18862.2500 - mean_squared_error: 18862.2500 - val_loss: 16867.7402 - val_mean_squared_error: 16867.7402\n",
      "Epoch 83/2000\n",
      "7/7 [==============================] - 0s 5ms/step - loss: 18824.2422 - mean_squared_error: 18824.2441 - val_loss: 16815.3457 - val_mean_squared_error: 16815.3457\n",
      "Epoch 84/2000\n",
      "7/7 [==============================] - 0s 5ms/step - loss: 18773.5781 - mean_squared_error: 18773.5781 - val_loss: 16773.3125 - val_mean_squared_error: 16773.3125\n",
      "Epoch 85/2000\n",
      "7/7 [==============================] - 0s 5ms/step - loss: 18735.1621 - mean_squared_error: 18735.1621 - val_loss: 16730.1953 - val_mean_squared_error: 16730.1953\n",
      "Epoch 86/2000\n",
      "7/7 [==============================] - 0s 5ms/step - loss: 18702.6094 - mean_squared_error: 18702.6094 - val_loss: 16687.7207 - val_mean_squared_error: 16687.7207\n",
      "Epoch 87/2000\n",
      "7/7 [==============================] - 0s 5ms/step - loss: 18668.4160 - mean_squared_error: 18668.4160 - val_loss: 16660.9766 - val_mean_squared_error: 16660.9766\n",
      "Epoch 88/2000\n",
      "7/7 [==============================] - 0s 5ms/step - loss: 18640.9570 - mean_squared_error: 18640.9570 - val_loss: 16637.6250 - val_mean_squared_error: 16637.6250\n",
      "Epoch 89/2000\n",
      "7/7 [==============================] - 0s 6ms/step - loss: 18616.9766 - mean_squared_error: 18616.9766 - val_loss: 16608.3828 - val_mean_squared_error: 16608.3828\n",
      "Epoch 90/2000\n",
      "7/7 [==============================] - 0s 5ms/step - loss: 18593.3594 - mean_squared_error: 18593.3594 - val_loss: 16576.4785 - val_mean_squared_error: 16576.4785\n",
      "Epoch 91/2000\n",
      "7/7 [==============================] - 0s 6ms/step - loss: 18564.6621 - mean_squared_error: 18564.6602 - val_loss: 16546.7129 - val_mean_squared_error: 16546.7129\n",
      "Epoch 92/2000\n",
      "7/7 [==============================] - 0s 5ms/step - loss: 18551.3828 - mean_squared_error: 18551.3828 - val_loss: 16523.4648 - val_mean_squared_error: 16523.4648\n",
      "Epoch 93/2000\n"
     ]
    },
    {
     "name": "stdout",
     "output_type": "stream",
     "text": [
      "7/7 [==============================] - 0s 5ms/step - loss: 18525.5312 - mean_squared_error: 18525.5312 - val_loss: 16506.1309 - val_mean_squared_error: 16506.1309\n",
      "Epoch 94/2000\n",
      "7/7 [==============================] - 0s 5ms/step - loss: 18509.1953 - mean_squared_error: 18509.1953 - val_loss: 16489.1406 - val_mean_squared_error: 16489.1406\n",
      "Epoch 95/2000\n",
      "7/7 [==============================] - 0s 5ms/step - loss: 18489.7129 - mean_squared_error: 18489.7129 - val_loss: 16484.3066 - val_mean_squared_error: 16484.3066\n",
      "Epoch 96/2000\n",
      "7/7 [==============================] - 0s 5ms/step - loss: 18474.6992 - mean_squared_error: 18474.6992 - val_loss: 16459.8730 - val_mean_squared_error: 16459.8730\n",
      "Epoch 97/2000\n",
      "7/7 [==============================] - 0s 5ms/step - loss: 18464.8867 - mean_squared_error: 18464.8867 - val_loss: 16431.6152 - val_mean_squared_error: 16431.6152\n",
      "Epoch 98/2000\n",
      "7/7 [==============================] - 0s 5ms/step - loss: 18450.1270 - mean_squared_error: 18450.1270 - val_loss: 16418.5566 - val_mean_squared_error: 16418.5566\n",
      "Epoch 99/2000\n",
      "7/7 [==============================] - 0s 5ms/step - loss: 18427.6445 - mean_squared_error: 18427.6445 - val_loss: 16424.9961 - val_mean_squared_error: 16424.9961\n",
      "Epoch 100/2000\n",
      "7/7 [==============================] - 0s 5ms/step - loss: 18420.6348 - mean_squared_error: 18420.6348 - val_loss: 16404.0020 - val_mean_squared_error: 16404.0020\n",
      "Epoch 101/2000\n",
      "7/7 [==============================] - 0s 5ms/step - loss: 18414.5898 - mean_squared_error: 18414.5898 - val_loss: 16382.0879 - val_mean_squared_error: 16382.0879\n",
      "Epoch 102/2000\n",
      "7/7 [==============================] - 0s 5ms/step - loss: 18405.2969 - mean_squared_error: 18405.2969 - val_loss: 16384.4629 - val_mean_squared_error: 16384.4629\n",
      "Epoch 103/2000\n",
      "7/7 [==============================] - 0s 5ms/step - loss: 18388.2793 - mean_squared_error: 18388.2793 - val_loss: 16383.3164 - val_mean_squared_error: 16383.3164\n",
      "Epoch 104/2000\n",
      "7/7 [==============================] - 0s 5ms/step - loss: 18374.6953 - mean_squared_error: 18374.6934 - val_loss: 16381.5039 - val_mean_squared_error: 16381.5039\n",
      "Epoch 105/2000\n",
      "7/7 [==============================] - 0s 5ms/step - loss: 18367.4883 - mean_squared_error: 18367.4883 - val_loss: 16352.8105 - val_mean_squared_error: 16352.8105\n",
      "Epoch 106/2000\n",
      "7/7 [==============================] - 0s 5ms/step - loss: 18355.0176 - mean_squared_error: 18355.0176 - val_loss: 16342.6875 - val_mean_squared_error: 16342.6875\n",
      "Epoch 107/2000\n",
      "7/7 [==============================] - 0s 5ms/step - loss: 18348.2578 - mean_squared_error: 18348.2559 - val_loss: 16345.7129 - val_mean_squared_error: 16345.7129\n",
      "Epoch 108/2000\n",
      "7/7 [==============================] - 0s 5ms/step - loss: 18336.3906 - mean_squared_error: 18336.3906 - val_loss: 16332.8057 - val_mean_squared_error: 16332.8057\n",
      "Epoch 109/2000\n",
      "7/7 [==============================] - 0s 5ms/step - loss: 18337.2324 - mean_squared_error: 18337.2324 - val_loss: 16341.0732 - val_mean_squared_error: 16341.0732\n",
      "Epoch 110/2000\n",
      "7/7 [==============================] - 0s 5ms/step - loss: 18324.4199 - mean_squared_error: 18324.4199 - val_loss: 16330.5322 - val_mean_squared_error: 16330.5322\n",
      "Epoch 111/2000\n",
      "7/7 [==============================] - 0s 5ms/step - loss: 18323.5996 - mean_squared_error: 18323.5996 - val_loss: 16319.9531 - val_mean_squared_error: 16319.9531\n",
      "Epoch 112/2000\n",
      "7/7 [==============================] - 0s 5ms/step - loss: 18316.8613 - mean_squared_error: 18316.8613 - val_loss: 16327.0908 - val_mean_squared_error: 16327.0908\n",
      "Epoch 113/2000\n",
      "7/7 [==============================] - 0s 5ms/step - loss: 18308.8867 - mean_squared_error: 18308.8867 - val_loss: 16327.4082 - val_mean_squared_error: 16327.4082\n",
      "Epoch 114/2000\n",
      "7/7 [==============================] - 0s 5ms/step - loss: 18314.5391 - mean_squared_error: 18314.5391 - val_loss: 16306.8525 - val_mean_squared_error: 16306.8525\n",
      "Epoch 115/2000\n",
      "7/7 [==============================] - 0s 6ms/step - loss: 18301.1094 - mean_squared_error: 18301.1094 - val_loss: 16285.1582 - val_mean_squared_error: 16285.1582\n",
      "Epoch 116/2000\n",
      "7/7 [==============================] - 0s 5ms/step - loss: 18318.1094 - mean_squared_error: 18318.1094 - val_loss: 16291.5010 - val_mean_squared_error: 16291.5010\n",
      "Epoch 117/2000\n",
      "7/7 [==============================] - 0s 5ms/step - loss: 18287.6914 - mean_squared_error: 18287.6914 - val_loss: 16322.0068 - val_mean_squared_error: 16322.0068\n",
      "Epoch 118/2000\n",
      "7/7 [==============================] - 0s 5ms/step - loss: 18291.4922 - mean_squared_error: 18291.4922 - val_loss: 16320.2715 - val_mean_squared_error: 16320.2715\n",
      "Epoch 119/2000\n",
      "7/7 [==============================] - 0s 5ms/step - loss: 18289.3145 - mean_squared_error: 18289.3145 - val_loss: 16286.4463 - val_mean_squared_error: 16286.4463\n",
      "Epoch 120/2000\n",
      "7/7 [==============================] - 0s 6ms/step - loss: 18282.7715 - mean_squared_error: 18282.7715 - val_loss: 16290.6465 - val_mean_squared_error: 16290.6465\n",
      "Epoch 121/2000\n",
      "7/7 [==============================] - 0s 5ms/step - loss: 18281.5117 - mean_squared_error: 18281.5117 - val_loss: 16330.1094 - val_mean_squared_error: 16330.1094\n",
      "Epoch 122/2000\n",
      "7/7 [==============================] - 0s 5ms/step - loss: 18265.4062 - mean_squared_error: 18265.4062 - val_loss: 16305.9854 - val_mean_squared_error: 16305.9854\n",
      "Epoch 123/2000\n",
      "7/7 [==============================] - 0s 5ms/step - loss: 18267.8438 - mean_squared_error: 18267.8438 - val_loss: 16283.6211 - val_mean_squared_error: 16283.6211\n",
      "Epoch 124/2000\n",
      "7/7 [==============================] - 0s 5ms/step - loss: 18267.1562 - mean_squared_error: 18267.1562 - val_loss: 16281.6543 - val_mean_squared_error: 16281.6543\n",
      "Epoch 125/2000\n",
      "7/7 [==============================] - 0s 5ms/step - loss: 18266.5938 - mean_squared_error: 18266.5938 - val_loss: 16302.4150 - val_mean_squared_error: 16302.4150\n",
      "Epoch 126/2000\n",
      "7/7 [==============================] - 0s 5ms/step - loss: 18259.2812 - mean_squared_error: 18259.2812 - val_loss: 16292.8574 - val_mean_squared_error: 16292.8574\n",
      "Epoch 127/2000\n",
      "7/7 [==============================] - 0s 5ms/step - loss: 18246.1855 - mean_squared_error: 18246.1855 - val_loss: 16303.9795 - val_mean_squared_error: 16303.9795\n",
      "Epoch 128/2000\n",
      "7/7 [==============================] - 0s 5ms/step - loss: 18246.9121 - mean_squared_error: 18246.9121 - val_loss: 16305.5254 - val_mean_squared_error: 16305.5254\n",
      "Epoch 129/2000\n",
      "7/7 [==============================] - 0s 5ms/step - loss: 18250.5039 - mean_squared_error: 18250.5039 - val_loss: 16308.7012 - val_mean_squared_error: 16308.7012\n",
      "Epoch 130/2000\n",
      "7/7 [==============================] - 0s 6ms/step - loss: 18253.3945 - mean_squared_error: 18253.3945 - val_loss: 16292.3418 - val_mean_squared_error: 16292.3418\n",
      "Epoch 131/2000\n",
      "7/7 [==============================] - 0s 6ms/step - loss: 18254.2207 - mean_squared_error: 18254.2207 - val_loss: 16283.2461 - val_mean_squared_error: 16283.2461\n",
      "Epoch 132/2000\n",
      "7/7 [==============================] - 0s 5ms/step - loss: 18248.9551 - mean_squared_error: 18248.9551 - val_loss: 16273.1914 - val_mean_squared_error: 16273.1914\n",
      "Epoch 133/2000\n",
      "7/7 [==============================] - 0s 5ms/step - loss: 18231.4102 - mean_squared_error: 18231.4102 - val_loss: 16282.0312 - val_mean_squared_error: 16282.0312\n",
      "Epoch 134/2000\n",
      "7/7 [==============================] - 0s 5ms/step - loss: 18237.9746 - mean_squared_error: 18237.9746 - val_loss: 16288.0293 - val_mean_squared_error: 16288.0293\n",
      "Epoch 135/2000\n",
      "7/7 [==============================] - 0s 5ms/step - loss: 18226.9805 - mean_squared_error: 18226.9805 - val_loss: 16282.0664 - val_mean_squared_error: 16282.0664\n",
      "Epoch 136/2000\n",
      "7/7 [==============================] - 0s 5ms/step - loss: 18226.8105 - mean_squared_error: 18226.8105 - val_loss: 16273.7559 - val_mean_squared_error: 16273.7559\n",
      "Epoch 137/2000\n",
      "7/7 [==============================] - 0s 5ms/step - loss: 18230.1641 - mean_squared_error: 18230.1641 - val_loss: 16274.0137 - val_mean_squared_error: 16274.0137\n",
      "Epoch 138/2000\n",
      "7/7 [==============================] - 0s 5ms/step - loss: 18213.3457 - mean_squared_error: 18213.3457 - val_loss: 16280.1533 - val_mean_squared_error: 16280.1533\n",
      "Epoch 139/2000\n"
     ]
    },
    {
     "name": "stdout",
     "output_type": "stream",
     "text": [
      "7/7 [==============================] - 0s 5ms/step - loss: 18215.5332 - mean_squared_error: 18215.5312 - val_loss: 16282.5137 - val_mean_squared_error: 16282.5137\n",
      "Epoch 140/2000\n",
      "7/7 [==============================] - 0s 5ms/step - loss: 18221.1504 - mean_squared_error: 18221.1504 - val_loss: 16286.7529 - val_mean_squared_error: 16286.7529\n",
      "Epoch 141/2000\n",
      "7/7 [==============================] - 0s 5ms/step - loss: 18207.2852 - mean_squared_error: 18207.2852 - val_loss: 16279.6289 - val_mean_squared_error: 16279.6289\n",
      "Epoch 142/2000\n",
      "7/7 [==============================] - 0s 5ms/step - loss: 18210.6426 - mean_squared_error: 18210.6445 - val_loss: 16288.5488 - val_mean_squared_error: 16288.5488\n",
      "Model: \"sequential_5\"\n",
      "_________________________________________________________________\n",
      "Layer (type)                 Output Shape              Param #   \n",
      "=================================================================\n",
      "batch_normalization_10 (Batc (None, 3)                 12        \n",
      "_________________________________________________________________\n",
      "dense_25 (Dense)             (None, 6)                 24        \n",
      "_________________________________________________________________\n",
      "batch_normalization_11 (Batc (None, 6)                 24        \n",
      "_________________________________________________________________\n",
      "dense_26 (Dense)             (None, 18)                126       \n",
      "_________________________________________________________________\n",
      "dense_27 (Dense)             (None, 6)                 114       \n",
      "_________________________________________________________________\n",
      "dense_28 (Dense)             (None, 3)                 21        \n",
      "_________________________________________________________________\n",
      "dense_29 (Dense)             (None, 1)                 4         \n",
      "=================================================================\n",
      "Total params: 325\n",
      "Trainable params: 307\n",
      "Non-trainable params: 18\n",
      "_________________________________________________________________\n"
     ]
    }
   ],
   "source": [
    "opt = keras.optimizers.Adam(learning_rate=0.001)\n",
    "early_stopping = EarlyStopping(monitor='val_loss', patience=10)\n",
    "model.compile(loss='MSE', optimizer=opt, metrics=['mean_squared_error'])\n",
    "model.fit(X, Y, epochs=2000, batch_size=10000, verbose=1, validation_split=0.1,callbacks=[early_stopping])\n",
    "model.summary()"
   ]
  },
  {
   "cell_type": "code",
   "execution_count": 40,
   "metadata": {},
   "outputs": [
    {
     "data": {
      "text/plain": [
       "0.24146705501037868"
      ]
     },
     "execution_count": 40,
     "metadata": {},
     "output_type": "execute_result"
    }
   ],
   "source": [
    "predict = model.predict(X)\n",
    "r2_score(Y,predict)"
   ]
  },
  {
   "cell_type": "code",
   "execution_count": 41,
   "metadata": {},
   "outputs": [
    {
     "data": {
      "text/plain": [
       "0.24754139967406685"
      ]
     },
     "execution_count": 41,
     "metadata": {},
     "output_type": "execute_result"
    }
   ],
   "source": [
    "r2_score(test_Y,model.predict(test_X))"
   ]
  },
  {
   "cell_type": "code",
   "execution_count": 42,
   "metadata": {},
   "outputs": [
    {
     "data": {
      "image/png": "[encoded data removed]",
      "text/plain": [
       "<Figure size 432x288 with 1 Axes>"
      ]
     },
     "metadata": {
      "needs_background": "light"
     },
     "output_type": "display_data"
    },
    {
     "data": {
      "text/plain": [
       "DescribeResult(nobs=30276, minmax=(array([0.00065136], dtype=float32), array([2997.6035], dtype=float32)), mean=array([43.201027], dtype=float32), variance=array([15042.303], dtype=float32), skewness=array([9.889432], dtype=float32), kurtosis=array([150.09741], dtype=float32))"
      ]
     },
     "execution_count": 42,
     "metadata": {},
     "output_type": "execute_result"
    }
   ],
   "source": [
    "test_predict = model.predict(test_features)\n",
    "\n",
    "error,abserror = errorCalculate(test_Y,test_predict)\n",
    "plt.plot(error,'g+')\n",
    "plt.xlabel('Sample ID')\n",
    "plt.ylabel('Error')\n",
    "plt.show()\n",
    "stats.describe(abserror)"
   ]
  },
  {
   "cell_type": "code",
   "execution_count": 43,
   "metadata": {},
   "outputs": [
    {
     "name": "stdout",
     "output_type": "stream",
     "text": [
      "INFO:tensorflow:Assets written to: mlp\\assets\n"
     ]
    }
   ],
   "source": [
    "model.save('mlp')"
   ]
  },
  {
   "cell_type": "code",
   "execution_count": 44,
   "metadata": {},
   "outputs": [],
   "source": [
    "model_upload = load_model(\"mlp\")"
   ]
  },
  {
   "cell_type": "code",
   "execution_count": 45,
   "metadata": {},
   "outputs": [
    {
     "data": {
      "text/plain": [
       "array([[22.682428 ],\n",
       "       [ 7.9997387],\n",
       "       [ 8.208836 ],\n",
       "       ...,\n",
       "       [ 8.903623 ],\n",
       "       [ 9.094419 ],\n",
       "       [ 8.699245 ]], dtype=float32)"
      ]
     },
     "execution_count": 45,
     "metadata": {},
     "output_type": "execute_result"
    }
   ],
   "source": [
    "model_upload.predict(test_X)"
   ]
  },
  {
   "cell_type": "code",
   "execution_count": 46,
   "metadata": {},
   "outputs": [
    {
     "data": {
      "text/plain": [
       "array([7, 0, 0, ..., 0, 0, 1], dtype=int64)"
      ]
     },
     "execution_count": 46,
     "metadata": {},
     "output_type": "execute_result"
    }
   ],
   "source": [
    "test_Y"
   ]
  },
  {
   "cell_type": "code",
   "execution_count": null,
   "metadata": {},
   "outputs": [],
   "source": []
  }
 ],
 "metadata": {
  "kernelspec": {
   "display_name": "Python 3",
   "language": "python",
   "name": "python3"
  },
  "language_info": {
   "codemirror_mode": {
    "name": "ipython",
    "version": 3
   },
   "file_extension": ".py",
   "mimetype": "text/x-python",
   "name": "python",
   "nbconvert_exporter": "python",
   "pygments_lexer": "ipython3",
   "version": "3.8.3"
  }
 },
 "nbformat": 4,
 "nbformat_minor": 4
}
