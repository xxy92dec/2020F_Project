{
 "cells": [
  {
   "cell_type": "code",
   "execution_count": 96,
   "metadata": {},
   "outputs": [],
   "source": [
    "import pandas as pd\n",
    "from pandas import DataFrame\n",
    "import numpy as np\n",
    "\n",
    "def Day(s):\n",
    "    d = s.split('/')\n",
    "    dd = int(d[1])\n",
    "    mm = int(d[0])\n",
    "    month_day_list = [31,29,31,30,31,30,31,31,30,31,30,31]\n",
    "    for i in range(1,12):\n",
    "        month_day_list[i] += month_day_list[i-1]\n",
    "    d = dd + month_day_list[mm-1]\n",
    "    return d\n",
    "\n",
    "    \n",
    "    \n",
    "#mm/dd/yy-->number\n"
   ]
  },
  {
   "cell_type": "code",
   "execution_count": 97,
   "metadata": {},
   "outputs": [],
   "source": [
    "df = pd.read_csv(\"ChangedDataset.csv\")\n",
    "index_names = df[df['AgeGroup'] == 'Unknown' ].index \n",
    "df.drop(index_names, inplace = True) "
   ]
  },
  {
   "cell_type": "code",
   "execution_count": 98,
   "metadata": {},
   "outputs": [],
   "source": [
    "data = df.values.tolist()"
   ]
  },
  {
   "cell_type": "code",
   "execution_count": 109,
   "metadata": {},
   "outputs": [],
   "source": [
    "ndata = [['1/5/2018', 'NSW', 1, 0],['1/5/2018', 'NSW', 2, 0],['1/5/2018', 'NSW', 3, 0],['1/5/2018', 'NSW', 4, 0],['1/5/2018', 'NSW', 5, 0]]\n",
    "ndata_key = []\n",
    "for i in range(len(data)):\n",
    "    if data[i][0] != ndata[-1][0] or data[i][1] != ndata[-1][1]:\n",
    "        ndata.append([data[i][0], data[i][1], 1, 0])\n",
    "        ndata.append([data[i][0], data[i][1], 2, 0])\n",
    "        ndata.append([data[i][0], data[i][1], 3, 0])\n",
    "        ndata.append([data[i][0], data[i][1], 4, 0])\n",
    "        ndata.append([data[i][0], data[i][1], 5, 0])\n",
    "for i in range(len(ndata)):\n",
    "    ndata_key.append(ndata[i][0]+ndata[i][1]+str(ndata[i][2]))\n",
    "ndata_dict = dict(zip(ndata_key, ndata))\n",
    "for i in range(len(data)):\n",
    "    k = data[i][0]+data[i][1]+str(data[i][2])\n",
    "    ndata_dict[k][3] += 1\n",
    "for i in range(len(ndata)):\n",
    "    #update daily new case\n",
    "    ndata[i][3] = ndata_dict[ndata[i][0]+ndata[i][1]+str(ndata[i][2])][3]\n",
    "    #change location --> local population\n",
    "    if ndata[i][1] == 'NSW':\n",
    "        ndata[i][1]=7544000\n",
    "    elif ndata[i][1] == 'NT':\n",
    "        ndata[i][1]=245353\n",
    "    elif ndata[i][1] == 'Qld':\n",
    "        ndata[i][1]=5071000\n",
    "    elif ndata[i][1] == 'SA':\n",
    "        ndata[i][1]=1677000\n",
    "    elif ndata[i][1] == 'VIC':\n",
    "        ndata[i][1]=6359000\n",
    "    else:\n",
    "        ndata[i][1]=2589000\n",
    "    #change  mm/dd/yy --> day\n",
    "    ndata[i][0] = Day(ndata[i][0])\n",
    "\n",
    "C_Name = ['date','popluation','AgeGroup','new_cases']\n",
    "ndf = DataFrame(ndata,columns=C_Name)        \n",
    "C_list_new = ['new_cases','date','popluation','AgeGroup']\n",
    "ndf = ndf[C_list_new]  \n"
   ]
  },
  {
   "cell_type": "code",
   "execution_count": 111,
   "metadata": {},
   "outputs": [
    {
     "data": {
      "text/html": [
       "<div>\n",
       "<style scoped>\n",
       "    .dataframe tbody tr th:only-of-type {\n",
       "        vertical-align: middle;\n",
       "    }\n",
       "\n",
       "    .dataframe tbody tr th {\n",
       "        vertical-align: top;\n",
       "    }\n",
       "\n",
       "    .dataframe thead th {\n",
       "        text-align: right;\n",
       "    }\n",
       "</style>\n",
       "<table border=\"1\" class=\"dataframe\">\n",
       "  <thead>\n",
       "    <tr style=\"text-align: right;\">\n",
       "      <th></th>\n",
       "      <th>new_cases</th>\n",
       "      <th>date</th>\n",
       "      <th>popluation</th>\n",
       "      <th>AgeGroup</th>\n",
       "    </tr>\n",
       "  </thead>\n",
       "  <tbody>\n",
       "    <tr>\n",
       "      <th>88820</th>\n",
       "      <td>10</td>\n",
       "      <td>265</td>\n",
       "      <td>245353</td>\n",
       "      <td>1</td>\n",
       "    </tr>\n",
       "    <tr>\n",
       "      <th>24280</th>\n",
       "      <td>0</td>\n",
       "      <td>370</td>\n",
       "      <td>1677000</td>\n",
       "      <td>1</td>\n",
       "    </tr>\n",
       "    <tr>\n",
       "      <th>28207</th>\n",
       "      <td>182</td>\n",
       "      <td>251</td>\n",
       "      <td>1677000</td>\n",
       "      <td>3</td>\n",
       "    </tr>\n",
       "    <tr>\n",
       "      <th>27156</th>\n",
       "      <td>190</td>\n",
       "      <td>285</td>\n",
       "      <td>1677000</td>\n",
       "      <td>2</td>\n",
       "    </tr>\n",
       "    <tr>\n",
       "      <th>67221</th>\n",
       "      <td>2</td>\n",
       "      <td>389</td>\n",
       "      <td>7544000</td>\n",
       "      <td>2</td>\n",
       "    </tr>\n",
       "  </tbody>\n",
       "</table>\n",
       "</div>"
      ],
      "text/plain": [
       "       new_cases  date  popluation  AgeGroup\n",
       "88820         10   265      245353         1\n",
       "24280          0   370     1677000         1\n",
       "28207        182   251     1677000         3\n",
       "27156        190   285     1677000         2\n",
       "67221          2   389     7544000         2"
      ]
     },
     "execution_count": 111,
     "metadata": {},
     "output_type": "execute_result"
    }
   ],
   "source": [
    "ndf.to_csv('merged_dateset.csv', encoding='utf-8', index=False)\n",
    "train_dataset =ndf.sample(frac=0.7, random_state=1)\n",
    "test_dataset = ndf.drop(train_dataset.index)\n",
    "train_dataset.to_csv('train_dataset.csv', encoding='utf-8', index=False)\n",
    "test_dataset.to_csv('test_dataset.csv', encoding='utf-8', index=False)\n",
    "train_dataset.head()"
   ]
  },
  {
   "cell_type": "code",
   "execution_count": null,
   "metadata": {},
   "outputs": [],
   "source": []
  }
 ],
 "metadata": {
  "kernelspec": {
   "display_name": "Python 3",
   "language": "python",
   "name": "python3"
  },
  "language_info": {
   "codemirror_mode": {
    "name": "ipython",
    "version": 3
   },
   "file_extension": ".py",
   "mimetype": "text/x-python",
   "name": "python",
   "nbconvert_exporter": "python",
   "pygments_lexer": "ipython3",
   "version": "3.8.3"
  }
 },
 "nbformat": 4,
 "nbformat_minor": 4
}
