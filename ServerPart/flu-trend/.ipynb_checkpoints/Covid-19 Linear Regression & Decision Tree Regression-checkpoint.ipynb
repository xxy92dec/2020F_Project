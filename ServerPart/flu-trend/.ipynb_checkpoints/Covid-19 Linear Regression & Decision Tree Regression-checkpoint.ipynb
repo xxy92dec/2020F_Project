{
 "cells": [
  {
   "cell_type": "markdown",
   "metadata": {},
   "source": [
    "## Import Package"
   ]
  },
  {
   "cell_type": "code",
   "execution_count": 1,
   "metadata": {},
   "outputs": [],
   "source": [
    "import matplotlib.pyplot as plt\n",
    "import pandas as pd\n",
    "import numpy as np\n",
    "import sklearn\n",
    "from scipy import stats\n",
    "from sklearn.linear_model import LinearRegression, Lasso\n",
    "from sklearn.tree import DecisionTreeRegressor\n",
    "from sklearn.metrics import r2_score\n",
    "import joblib"
   ]
  },
  {
   "cell_type": "markdown",
   "metadata": {},
   "source": [
    "## Error Visible Calculation"
   ]
  },
  {
   "cell_type": "code",
   "execution_count": 2,
   "metadata": {},
   "outputs": [],
   "source": [
    "def errorCalculate(Origin,Predict):\n",
    "    errorlist = []\n",
    "    abserrorlist = []\n",
    "    error = 0\n",
    "    count = 0\n",
    "    errorpercentage = 0\n",
    "\n",
    "    for i in range(len(Origin)):\n",
    "        count += 1\n",
    "        True_num = Origin[i]\n",
    "        Cal_num = Predict[i]\n",
    "        Diff = Cal_num - True_num\n",
    "        absDiff = abs(Cal_num - True_num)\n",
    "        errorlist.append(Diff)\n",
    "        abserrorlist.append(absDiff)\n",
    "    errorlist = np.asarray(errorlist)\n",
    "    abserrorlist = np.asarray(abserrorlist)\n",
    "    return errorlist, abserrorlist"
   ]
  },
  {
   "cell_type": "markdown",
   "metadata": {},
   "source": [
    "## Input Data"
   ]
  },
  {
   "cell_type": "code",
   "execution_count": 3,
   "metadata": {},
   "outputs": [
    {
     "data": {
      "text/plain": [
       "DescribeResult(nobs=30276, minmax=(0, 3419), mean=47.14724534284582, variance=22471.26056417049, skewness=9.251440793059299, kurtosis=126.94251996138914)"
      ]
     },
     "execution_count": 3,
     "metadata": {},
     "output_type": "execute_result"
    }
   ],
   "source": [
    "train_dataset = pd.read_csv(\"train_dataset.csv\")\n",
    "test_dataset = pd.read_csv(\"test_dataset.csv\")\n",
    "train_features = train_dataset.copy()\n",
    "test_features = test_dataset.copy()\n",
    "train_labels = train_features.pop('new_cases')\n",
    "test_labels = test_features.pop('new_cases')\n",
    "\n",
    "stats.describe(test_labels)"
   ]
  },
  {
   "cell_type": "markdown",
   "metadata": {},
   "source": [
    "## Linear Regression"
   ]
  },
  {
   "cell_type": "code",
   "execution_count": 4,
   "metadata": {},
   "outputs": [
    {
     "name": "stdout",
     "output_type": "stream",
     "text": [
      "0.04414114340072417 0.04658798484593629\n"
     ]
    }
   ],
   "source": [
    "reg = LinearRegression().fit(train_features ,train_labels)\n",
    "s_linear_reg = r2_score(train_labels,reg.predict(train_features))\n",
    "s_linear_reg_test = r2_score(test_labels,reg.predict(test_features))\n",
    "print(s_linear_reg,s_linear_reg_test)"
   ]
  },
  {
   "cell_type": "markdown",
   "metadata": {},
   "source": [
    "## Lasso Regression"
   ]
  },
  {
   "cell_type": "code",
   "execution_count": 6,
   "metadata": {},
   "outputs": [
    {
     "name": "stdout",
     "output_type": "stream",
     "text": [
      "0.04412014077403115 0.04659170719166894\n"
     ]
    }
   ],
   "source": [
    "reg = Lasso().fit(train_features ,train_labels)\n",
    "s_Lasso_reg = r2_score(train_labels,reg.predict(train_features))\n",
    "s_Lasso_reg_test = r2_score(test_labels,reg.predict(test_features))\n",
    "print(s_Lasso_reg,s_Lasso_reg_test)"
   ]
  },
  {
   "cell_type": "markdown",
   "metadata": {},
   "source": [
    "## Decision_tree_regression"
   ]
  },
  {
   "cell_type": "code",
   "execution_count": 7,
   "metadata": {},
   "outputs": [
    {
     "name": "stdout",
     "output_type": "stream",
     "text": [
      "0.8045986856327682 0.7668591620376036\n"
     ]
    }
   ],
   "source": [
    "reg = DecisionTreeRegressor(max_depth=25)\n",
    "reg.fit(train_features ,train_labels)\n",
    "s_DT_reg = r2_score(train_labels,reg.predict(train_features))\n",
    "s_DT_reg_test = r2_score(test_labels,reg.predict(test_features))\n",
    "print(s_DT_reg,s_DT_reg_test)"
   ]
  },
  {
   "cell_type": "markdown",
   "metadata": {},
   "source": [
    "Seems Decision Tree Regression much better \n",
    "## Decision Tree Regression depth study"
   ]
  },
  {
   "cell_type": "code",
   "execution_count": 8,
   "metadata": {},
   "outputs": [
    {
     "data": {
      "image/png": "[encoded data removed]",
      "text/plain": [
       "<Figure size 432x288 with 1 Axes>"
      ]
     },
     "metadata": {
      "needs_background": "light"
     },
     "output_type": "display_data"
    }
   ],
   "source": [
    "tree_size = []\n",
    "train_pred_score =[]\n",
    "test_pred_score =[]\n",
    "for i in range(1,30):\n",
    "    tree_size.append(i)\n",
    "    reg = DecisionTreeRegressor(max_depth=i)\n",
    "    reg.fit(train_features ,train_labels)\n",
    "    s_DT_reg = r2_score(train_labels,reg.predict(train_features))\n",
    "    s_DT_reg_test = r2_score(test_labels,reg.predict(test_features))\n",
    "    train_pred_score.append(s_DT_reg)\n",
    "    test_pred_score.append(s_DT_reg_test)\n",
    "plt.plot(tree_size, train_pred_score,'r')\n",
    "plt.plot(tree_size, test_pred_score,'b')\n",
    "plt.xlabel('tree_size')\n",
    "plt.ylabel('r2 - train_red & test_blue')\n",
    "plt.show()"
   ]
  },
  {
   "cell_type": "markdown",
   "metadata": {},
   "source": [
    "when tree_size too large, there will be overfit, so max_depth = 10 is good "
   ]
  },
  {
   "cell_type": "code",
   "execution_count": 10,
   "metadata": {},
   "outputs": [
    {
     "data": {
      "image/png": "[encoded data removed]",
      "text/plain": [
       "<Figure size 432x288 with 1 Axes>"
      ]
     },
     "metadata": {
      "needs_background": "light"
     },
     "output_type": "display_data"
    },
    {
     "data": {
      "text/plain": [
       "DescribeResult(nobs=30276, minmax=(0.0, 1981.627659574468), mean=26.085468771431096, variance=5130.142853483563, skewness=7.522022746914672, kurtosis=87.74477822351454)"
      ]
     },
     "execution_count": 10,
     "metadata": {},
     "output_type": "execute_result"
    }
   ],
   "source": [
    "reg = DecisionTreeRegressor(max_depth=16)\n",
    "reg.fit(train_features ,train_labels)\n",
    "test_predict = reg.predict(test_features)\n",
    "#test_labels = test_labels.to_numpy()\n",
    "\n",
    "error,abserror = errorCalculate(test_labels,test_predict)\n",
    "plt.plot(error,'g+')\n",
    "plt.xlabel('Sample ID')\n",
    "plt.ylabel('Error')\n",
    "plt.show()\n",
    "stats.describe(abserror)"
   ]
  },
  {
   "cell_type": "code",
   "execution_count": 11,
   "metadata": {},
   "outputs": [
    {
     "data": {
      "text/plain": [
       "0.7414200688202978"
      ]
     },
     "execution_count": 11,
     "metadata": {},
     "output_type": "execute_result"
    }
   ],
   "source": [
    "r2_score(test_labels,reg.predict(test_features))"
   ]
  },
  {
   "cell_type": "markdown",
   "metadata": {},
   "source": [
    "# save_models"
   ]
  },
  {
   "cell_type": "code",
   "execution_count": 12,
   "metadata": {},
   "outputs": [
    {
     "data": {
      "text/plain": [
       "['flu_DecisionTreeRegression.sav']"
      ]
     },
     "execution_count": 12,
     "metadata": {},
     "output_type": "execute_result"
    }
   ],
   "source": [
    "filename = 'flu_DecisionTreeRegression.sav'\n",
    "joblib.dump(reg, filename)\n",
    " "
   ]
  },
  {
   "cell_type": "code",
   "execution_count": null,
   "metadata": {},
   "outputs": [],
   "source": []
  }
 ],
 "metadata": {
  "kernelspec": {
   "display_name": "Python 3",
   "language": "python",
   "name": "python3"
  },
  "language_info": {
   "codemirror_mode": {
    "name": "ipython",
    "version": 3
   },
   "file_extension": ".py",
   "mimetype": "text/x-python",
   "name": "python",
   "nbconvert_exporter": "python",
   "pygments_lexer": "ipython3",
   "version": "3.8.3"
  }
 },
 "nbformat": 4,
 "nbformat_minor": 4
}
