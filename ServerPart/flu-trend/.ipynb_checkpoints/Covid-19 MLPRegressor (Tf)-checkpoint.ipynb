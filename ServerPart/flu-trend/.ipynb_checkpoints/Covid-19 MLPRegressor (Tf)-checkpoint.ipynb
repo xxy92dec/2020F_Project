{
 "cells": [
  {
   "cell_type": "code",
   "execution_count": 1,
   "metadata": {},
   "outputs": [],
   "source": [
    "import matplotlib.pyplot as plt\n",
    "import pandas as pd\n",
    "import numpy as np\n",
    "from tensorflow.keras.models import Sequential,load_model\n",
    "from tensorflow.keras.layers import Dense,BatchNormalization\n",
    "from tensorflow.keras import layers\n",
    "from tensorflow import keras\n",
    "import numpy as np\n",
    "from sklearn.metrics import r2_score\n",
    "from tensorflow.keras.layers.experimental import preprocessing\n",
    "from tensorflow.keras.callbacks import EarlyStopping\n",
    "from scipy import stats"
   ]
  },
  {
   "cell_type": "markdown",
   "metadata": {},
   "source": [
    "## Error Visible Calculation"
   ]
  },
  {
   "cell_type": "code",
   "execution_count": 2,
   "metadata": {},
   "outputs": [],
   "source": [
    "def errorCalculate(Origin,Predict):\n",
    "    errorlist = []\n",
    "    abserrorlist = []\n",
    "    error = 0\n",
    "    count = 0\n",
    "    errorpercentage = 0\n",
    "\n",
    "    for i in range(len(Origin)):\n",
    "        count += 1\n",
    "        True_num = Origin[i]\n",
    "        Cal_num = Predict[i]\n",
    "        Diff = Cal_num - True_num\n",
    "        absDiff = abs(Cal_num - True_num)\n",
    "        errorlist.append(Diff)\n",
    "        abserrorlist.append(absDiff)\n",
    "    errorlist = np.asarray(errorlist)\n",
    "    abserrorlist = np.asarray(abserrorlist)\n",
    "    return errorlist, abserrorlist"
   ]
  },
  {
   "cell_type": "markdown",
   "metadata": {},
   "source": [
    "## Input Data"
   ]
  },
  {
   "cell_type": "code",
   "execution_count": 3,
   "metadata": {},
   "outputs": [],
   "source": [
    "train_dataset = pd.read_csv(\"train_dataset.csv\")\n",
    "test_dataset = pd.read_csv(\"test_dataset.csv\")\n",
    "train_features = train_dataset.copy()\n",
    "test_features = test_dataset.copy()\n",
    "train_labels = train_features.pop('new_cases')\n",
    "test_labels = test_features.pop('new_cases')\n",
    "X = train_features.to_numpy()\n",
    "Y = train_labels.to_numpy()\n",
    "test_X = test_features.to_numpy()\n",
    "test_Y = test_labels.to_numpy()\n",
    "input_shape = (12,)"
   ]
  },
  {
   "cell_type": "code",
   "execution_count": 4,
   "metadata": {},
   "outputs": [
    {
     "data": {
      "text/html": [
       "<div>\n",
       "<style scoped>\n",
       "    .dataframe tbody tr th:only-of-type {\n",
       "        vertical-align: middle;\n",
       "    }\n",
       "\n",
       "    .dataframe tbody tr th {\n",
       "        vertical-align: top;\n",
       "    }\n",
       "\n",
       "    .dataframe thead th {\n",
       "        text-align: right;\n",
       "    }\n",
       "</style>\n",
       "<table border=\"1\" class=\"dataframe\">\n",
       "  <thead>\n",
       "    <tr style=\"text-align: right;\">\n",
       "      <th></th>\n",
       "      <th>date</th>\n",
       "      <th>popluation</th>\n",
       "      <th>AgeGroup</th>\n",
       "    </tr>\n",
       "  </thead>\n",
       "  <tbody>\n",
       "    <tr>\n",
       "      <th>0</th>\n",
       "      <td>265</td>\n",
       "      <td>245353</td>\n",
       "      <td>1</td>\n",
       "    </tr>\n",
       "    <tr>\n",
       "      <th>1</th>\n",
       "      <td>370</td>\n",
       "      <td>1677000</td>\n",
       "      <td>1</td>\n",
       "    </tr>\n",
       "    <tr>\n",
       "      <th>2</th>\n",
       "      <td>251</td>\n",
       "      <td>1677000</td>\n",
       "      <td>3</td>\n",
       "    </tr>\n",
       "    <tr>\n",
       "      <th>3</th>\n",
       "      <td>285</td>\n",
       "      <td>1677000</td>\n",
       "      <td>2</td>\n",
       "    </tr>\n",
       "    <tr>\n",
       "      <th>4</th>\n",
       "      <td>389</td>\n",
       "      <td>7544000</td>\n",
       "      <td>2</td>\n",
       "    </tr>\n",
       "  </tbody>\n",
       "</table>\n",
       "</div>"
      ],
      "text/plain": [
       "   date  popluation  AgeGroup\n",
       "0   265      245353         1\n",
       "1   370     1677000         1\n",
       "2   251     1677000         3\n",
       "3   285     1677000         2\n",
       "4   389     7544000         2"
      ]
     },
     "execution_count": 4,
     "metadata": {},
     "output_type": "execute_result"
    }
   ],
   "source": [
    "train_features.head()"
   ]
  },
  {
   "cell_type": "markdown",
   "metadata": {},
   "source": [
    "# MLP"
   ]
  },
  {
   "cell_type": "code",
   "execution_count": 10,
   "metadata": {},
   "outputs": [
    {
     "name": "stdout",
     "output_type": "stream",
     "text": [
      "Model: \"sequential_1\"\n",
      "_________________________________________________________________\n",
      "Layer (type)                 Output Shape              Param #   \n",
      "=================================================================\n",
      "batch_normalization_3 (Batch (None, 3)                 12        \n",
      "_________________________________________________________________\n",
      "dense_6 (Dense)              (None, 8)                 32        \n",
      "_________________________________________________________________\n",
      "batch_normalization_4 (Batch (None, 8)                 32        \n",
      "_________________________________________________________________\n",
      "dense_7 (Dense)              (None, 24)                216       \n",
      "_________________________________________________________________\n",
      "dense_8 (Dense)              (None, 16)                400       \n",
      "_________________________________________________________________\n",
      "dense_9 (Dense)              (None, 8)                 136       \n",
      "_________________________________________________________________\n",
      "dense_10 (Dense)             (None, 1)                 9         \n",
      "=================================================================\n",
      "Total params: 837\n",
      "Trainable params: 815\n",
      "Non-trainable params: 22\n",
      "_________________________________________________________________\n"
     ]
    }
   ],
   "source": [
    "model = Sequential()\n",
    "model.add(BatchNormalization(input_dim=X.shape[1]))\n",
    "model.add(Dense(8,activation=\"relu\"))\n",
    "model.add(BatchNormalization())\n",
    "model.add(Dense(24,activation=\"relu\"))\n",
    "#model.add(BatchNormalization())\n",
    "model.add(Dense(16,activation=\"relu\"))\n",
    "#model.add(BatchNormalization())\n",
    "model.add(Dense(8,activation=\"relu\"))\n",
    "model.add(Dense(1, activation=\"linear\"))\n",
    "model.summary()"
   ]
  },
  {
   "cell_type": "code",
   "execution_count": 11,
   "metadata": {},
   "outputs": [
    {
     "name": "stdout",
     "output_type": "stream",
     "text": [
      "Epoch 1/200\n",
      "636/636 [==============================] - 1s 1ms/step - loss: 21901.0723 - mean_squared_error: 21901.0723 - val_loss: 17823.4922 - val_mean_squared_error: 17823.4922\n",
      "Epoch 2/200\n",
      "636/636 [==============================] - 1s 799us/step - loss: 19358.7480 - mean_squared_error: 19358.7480 - val_loss: 16837.4785 - val_mean_squared_error: 16837.4785\n",
      "Epoch 3/200\n",
      "636/636 [==============================] - 1s 822us/step - loss: 19056.0996 - mean_squared_error: 19056.0996 - val_loss: 16628.9121 - val_mean_squared_error: 16628.9121\n",
      "Epoch 4/200\n",
      "636/636 [==============================] - 1s 788us/step - loss: 18925.3984 - mean_squared_error: 18925.3984 - val_loss: 16516.1289 - val_mean_squared_error: 16516.1289\n",
      "Epoch 5/200\n",
      "636/636 [==============================] - 1s 814us/step - loss: 18929.8770 - mean_squared_error: 18929.8770 - val_loss: 16595.5410 - val_mean_squared_error: 16595.5410\n",
      "Epoch 6/200\n",
      "636/636 [==============================] - 1s 810us/step - loss: 18762.3984 - mean_squared_error: 18762.3984 - val_loss: 16454.6836 - val_mean_squared_error: 16454.6836\n",
      "Epoch 7/200\n",
      "636/636 [==============================] - 1s 901us/step - loss: 18899.4570 - mean_squared_error: 18899.4570 - val_loss: 16444.2480 - val_mean_squared_error: 16444.2480\n",
      "Epoch 8/200\n",
      "636/636 [==============================] - 1s 892us/step - loss: 18893.5977 - mean_squared_error: 18893.5977 - val_loss: 16375.3994 - val_mean_squared_error: 16375.3994\n",
      "Epoch 9/200\n",
      "636/636 [==============================] - 1s 868us/step - loss: 18740.2969 - mean_squared_error: 18740.2969 - val_loss: 16330.9004 - val_mean_squared_error: 16330.9004\n",
      "Epoch 10/200\n",
      "636/636 [==============================] - 1s 811us/step - loss: 18774.5625 - mean_squared_error: 18774.5625 - val_loss: 16356.3711 - val_mean_squared_error: 16356.3711\n",
      "Epoch 11/200\n",
      "636/636 [==============================] - 1s 852us/step - loss: 18768.7051 - mean_squared_error: 18768.7051 - val_loss: 16361.6836 - val_mean_squared_error: 16361.6836\n",
      "Epoch 12/200\n",
      "636/636 [==============================] - 1s 863us/step - loss: 18716.1035 - mean_squared_error: 18716.1035 - val_loss: 16226.9414 - val_mean_squared_error: 16226.9414\n",
      "Epoch 13/200\n",
      "636/636 [==============================] - 1s 813us/step - loss: 18719.0645 - mean_squared_error: 18719.0645 - val_loss: 16261.3545 - val_mean_squared_error: 16261.3545\n",
      "Epoch 14/200\n",
      "636/636 [==============================] - 1s 818us/step - loss: 18761.3008 - mean_squared_error: 18761.3008 - val_loss: 16211.5684 - val_mean_squared_error: 16211.5684\n",
      "Epoch 15/200\n",
      "636/636 [==============================] - 1s 808us/step - loss: 18694.4844 - mean_squared_error: 18694.4844 - val_loss: 16251.8496 - val_mean_squared_error: 16251.8496\n",
      "Epoch 16/200\n",
      "636/636 [==============================] - 1s 814us/step - loss: 18753.1348 - mean_squared_error: 18753.1348 - val_loss: 16206.3203 - val_mean_squared_error: 16206.3223\n",
      "Epoch 17/200\n",
      "636/636 [==============================] - 1s 821us/step - loss: 18672.9043 - mean_squared_error: 18672.9043 - val_loss: 16401.7441 - val_mean_squared_error: 16401.7441\n",
      "Epoch 18/200\n",
      "636/636 [==============================] - 1s 843us/step - loss: 18609.9199 - mean_squared_error: 18609.9199 - val_loss: 16296.5059 - val_mean_squared_error: 16296.5059\n",
      "Epoch 19/200\n",
      "636/636 [==============================] - 1s 830us/step - loss: 18662.4902 - mean_squared_error: 18662.4902 - val_loss: 16237.5361 - val_mean_squared_error: 16237.5361\n",
      "Epoch 20/200\n",
      "636/636 [==============================] - 1s 825us/step - loss: 18647.6016 - mean_squared_error: 18647.6016 - val_loss: 16246.8066 - val_mean_squared_error: 16246.8066\n",
      "Epoch 21/200\n",
      "636/636 [==============================] - 1s 838us/step - loss: 18711.4434 - mean_squared_error: 18711.4434 - val_loss: 16154.0010 - val_mean_squared_error: 16154.0010\n",
      "Epoch 22/200\n",
      "636/636 [==============================] - 1s 868us/step - loss: 18743.2324 - mean_squared_error: 18743.2324 - val_loss: 16133.4814 - val_mean_squared_error: 16133.4814\n",
      "Epoch 23/200\n",
      "636/636 [==============================] - 1s 873us/step - loss: 18713.3223 - mean_squared_error: 18713.3223 - val_loss: 16246.5596 - val_mean_squared_error: 16246.5596\n",
      "Epoch 24/200\n",
      "636/636 [==============================] - 1s 841us/step - loss: 18750.7441 - mean_squared_error: 18750.7441 - val_loss: 16316.5938 - val_mean_squared_error: 16316.5938\n",
      "Epoch 25/200\n",
      "636/636 [==============================] - 1s 825us/step - loss: 18769.8496 - mean_squared_error: 18769.8496 - val_loss: 16144.3174 - val_mean_squared_error: 16144.3145\n",
      "Epoch 26/200\n",
      "636/636 [==============================] - 1s 800us/step - loss: 18609.2031 - mean_squared_error: 18609.2031 - val_loss: 16136.5195 - val_mean_squared_error: 16136.5195\n",
      "Epoch 27/200\n",
      "636/636 [==============================] - 1s 819us/step - loss: 18827.5723 - mean_squared_error: 18827.5723 - val_loss: 16135.2803 - val_mean_squared_error: 16135.2803\n",
      "Epoch 28/200\n",
      "636/636 [==============================] - 1s 929us/step - loss: 18676.9746 - mean_squared_error: 18676.9746 - val_loss: 16071.1670 - val_mean_squared_error: 16071.1680\n",
      "Epoch 29/200\n",
      "636/636 [==============================] - 1s 896us/step - loss: 18688.0371 - mean_squared_error: 18688.0371 - val_loss: 16187.7627 - val_mean_squared_error: 16187.7627\n",
      "Epoch 30/200\n",
      "636/636 [==============================] - 1s 808us/step - loss: 18758.8145 - mean_squared_error: 18758.8145 - val_loss: 16139.5166 - val_mean_squared_error: 16139.5166\n",
      "Epoch 31/200\n",
      "636/636 [==============================] - 1s 835us/step - loss: 18628.0449 - mean_squared_error: 18628.0449 - val_loss: 16101.8613 - val_mean_squared_error: 16101.8613\n",
      "Epoch 32/200\n",
      "636/636 [==============================] - 1s 814us/step - loss: 18675.5352 - mean_squared_error: 18675.5371 - val_loss: 16180.5557 - val_mean_squared_error: 16180.5557\n",
      "Epoch 33/200\n",
      "636/636 [==============================] - 1s 822us/step - loss: 18704.3535 - mean_squared_error: 18704.3535 - val_loss: 16263.3965 - val_mean_squared_error: 16263.3965\n",
      "Epoch 34/200\n",
      "636/636 [==============================] - 1s 825us/step - loss: 18687.7012 - mean_squared_error: 18687.7012 - val_loss: 16141.0820 - val_mean_squared_error: 16141.0820\n",
      "Epoch 35/200\n",
      "636/636 [==============================] - 1s 912us/step - loss: 18575.7246 - mean_squared_error: 18575.7246 - val_loss: 16076.0156 - val_mean_squared_error: 16076.0156\n",
      "Epoch 36/200\n",
      "636/636 [==============================] - 1s 945us/step - loss: 18539.4941 - mean_squared_error: 18539.4941 - val_loss: 16121.2910 - val_mean_squared_error: 16121.2930\n",
      "Epoch 37/200\n",
      "636/636 [==============================] - 1s 909us/step - loss: 18591.7090 - mean_squared_error: 18591.7090 - val_loss: 16128.1270 - val_mean_squared_error: 16128.1270\n",
      "Epoch 38/200\n",
      "636/636 [==============================] - 1s 885us/step - loss: 18461.9316 - mean_squared_error: 18461.9316 - val_loss: 16129.8555 - val_mean_squared_error: 16129.8555\n",
      "Model: \"sequential_1\"\n",
      "_________________________________________________________________\n",
      "Layer (type)                 Output Shape              Param #   \n",
      "=================================================================\n",
      "batch_normalization_3 (Batch (None, 3)                 12        \n",
      "_________________________________________________________________\n",
      "dense_6 (Dense)              (None, 8)                 32        \n",
      "_________________________________________________________________\n",
      "batch_normalization_4 (Batch (None, 8)                 32        \n",
      "_________________________________________________________________\n",
      "dense_7 (Dense)              (None, 24)                216       \n",
      "_________________________________________________________________\n",
      "dense_8 (Dense)              (None, 16)                400       \n",
      "_________________________________________________________________\n",
      "dense_9 (Dense)              (None, 8)                 136       \n",
      "_________________________________________________________________\n",
      "dense_10 (Dense)             (None, 1)                 9         \n",
      "=================================================================\n",
      "Total params: 837\n",
      "Trainable params: 815\n",
      "Non-trainable params: 22\n",
      "_________________________________________________________________\n"
     ]
    }
   ],
   "source": [
    "opt = keras.optimizers.Adam(learning_rate=0.001)\n",
    "early_stopping = EarlyStopping(monitor='val_loss', patience=10)\n",
    "model.compile(loss='MSE', optimizer=opt, metrics=['mean_squared_error'])\n",
    "model.fit(X, Y, epochs=200, batch_size=10000, verbose=1, validation_split=0.1,callbacks=[early_stopping])\n",
    "model.summary()"
   ]
  },
  {
   "cell_type": "code",
   "execution_count": 12,
   "metadata": {},
   "outputs": [
    {
     "data": {
      "text/plain": [
       "0.25268401387395645"
      ]
     },
     "execution_count": 12,
     "metadata": {},
     "output_type": "execute_result"
    }
   ],
   "source": [
    "predict = model.predict(X)\n",
    "r2_score(Y,predict)"
   ]
  },
  {
   "cell_type": "code",
   "execution_count": 13,
   "metadata": {},
   "outputs": [
    {
     "data": {
      "text/plain": [
       "0.2581089417758793"
      ]
     },
     "execution_count": 13,
     "metadata": {},
     "output_type": "execute_result"
    }
   ],
   "source": [
    "r2_score(test_Y,model.predict(test_X))"
   ]
  },
  {
   "cell_type": "code",
   "execution_count": 59,
   "metadata": {},
   "outputs": [
    {
     "data": {
      "image/png": "[encoded data removed]",
      "text/plain": [
       "<Figure size 432x288 with 1 Axes>"
      ]
     },
     "metadata": {
      "needs_background": "light"
     },
     "output_type": "display_data"
    },
    {
     "data": {
      "text/plain": [
       "DescribeResult(nobs=170144, minmax=(array([6.1035156e-05], dtype=float32), array([2466.3115], dtype=float32)), mean=array([6.5730705], dtype=float32), variance=array([794.9731], dtype=float32), skewness=array([24.613218], dtype=float32), kurtosis=array([1116.4722], dtype=float32))"
      ]
     },
     "execution_count": 59,
     "metadata": {},
     "output_type": "execute_result"
    }
   ],
   "source": [
    "test_predict = model.predict(test_features)\n",
    "\n",
    "error,abserror = errorCalculate(test_Y,test_predict)\n",
    "plt.plot(error,'g+')\n",
    "plt.xlabel('Sample ID')\n",
    "plt.ylabel('Error')\n",
    "plt.show()\n",
    "stats.describe(abserror)"
   ]
  },
  {
   "cell_type": "code",
   "execution_count": 61,
   "metadata": {},
   "outputs": [
    {
     "name": "stdout",
     "output_type": "stream",
     "text": [
      "WARNING:tensorflow:From C:\\2020F\\lib\\site-packages\\tensorflow\\python\\training\\tracking\\tracking.py:111: Model.state_updates (from tensorflow.python.keras.engine.training) is deprecated and will be removed in a future version.\n",
      "Instructions for updating:\n",
      "This property should not be used in TensorFlow 2.0, as updates are applied automatically.\n",
      "WARNING:tensorflow:From C:\\2020F\\lib\\site-packages\\tensorflow\\python\\training\\tracking\\tracking.py:111: Layer.updates (from tensorflow.python.keras.engine.base_layer) is deprecated and will be removed in a future version.\n",
      "Instructions for updating:\n",
      "This property should not be used in TensorFlow 2.0, as updates are applied automatically.\n",
      "INFO:tensorflow:Assets written to: mlp\\assets\n"
     ]
    }
   ],
   "source": [
    "model.save('mlp')"
   ]
  },
  {
   "cell_type": "code",
   "execution_count": 62,
   "metadata": {},
   "outputs": [],
   "source": [
    "model_upload = load_model(\"mlp\")"
   ]
  },
  {
   "cell_type": "code",
   "execution_count": 63,
   "metadata": {},
   "outputs": [
    {
     "data": {
      "text/plain": [
       "array([[0.41778946],\n",
       "       [0.46806797],\n",
       "       [0.49083534],\n",
       "       ...,\n",
       "       [4.8080773 ],\n",
       "       [3.1313968 ],\n",
       "       [4.162795  ]], dtype=float32)"
      ]
     },
     "execution_count": 63,
     "metadata": {},
     "output_type": "execute_result"
    }
   ],
   "source": [
    "model_upload.predict(test_X)"
   ]
  },
  {
   "cell_type": "code",
   "execution_count": 64,
   "metadata": {},
   "outputs": [
    {
     "data": {
      "text/plain": [
       "array([0, 2, 0, ..., 0, 8, 7], dtype=int64)"
      ]
     },
     "execution_count": 64,
     "metadata": {},
     "output_type": "execute_result"
    }
   ],
   "source": [
    "test_Y"
   ]
  },
  {
   "cell_type": "code",
   "execution_count": null,
   "metadata": {},
   "outputs": [],
   "source": []
  }
 ],
 "metadata": {
  "kernelspec": {
   "display_name": "Python 3",
   "language": "python",
   "name": "python3"
  },
  "language_info": {
   "codemirror_mode": {
    "name": "ipython",
    "version": 3
   },
   "file_extension": ".py",
   "mimetype": "text/x-python",
   "name": "python",
   "nbconvert_exporter": "python",
   "pygments_lexer": "ipython3",
   "version": "3.8.3"
  }
 },
 "nbformat": 4,
 "nbformat_minor": 4
}
