{
 "cells": [
  {
   "cell_type": "markdown",
   "metadata": {},
   "source": [
    "## Import Package"
   ]
  },
  {
   "cell_type": "code",
   "execution_count": 4,
   "metadata": {},
   "outputs": [],
   "source": [
    "import matplotlib.pyplot as plt\n",
    "import pandas as pd\n",
    "import numpy as np\n",
    "import sklearn\n",
    "from scipy import stats\n",
    "from sklearn.linear_model import LinearRegression, Lasso\n",
    "from sklearn.tree import DecisionTreeRegressor\n",
    "from sklearn.metrics import r2_score, mean_squared_error\n",
    "import joblib"
   ]
  },
  {
   "cell_type": "markdown",
   "metadata": {},
   "source": [
    "## Error Visible Calculation"
   ]
  },
  {
   "cell_type": "code",
   "execution_count": 5,
   "metadata": {},
   "outputs": [],
   "source": [
    "def errorCalculate(Origin,Predict):\n",
    "    errorlist = []\n",
    "    abserrorlist = []\n",
    "    error = 0\n",
    "    count = 0\n",
    "    errorpercentage = 0\n",
    "\n",
    "    for i in range(len(Origin)):\n",
    "        count += 1\n",
    "        True_num = Origin[i]\n",
    "        Cal_num = Predict[i]\n",
    "        Diff = Cal_num - True_num\n",
    "        absDiff = abs(Cal_num - True_num)\n",
    "        errorlist.append(Diff)\n",
    "        abserrorlist.append(absDiff)\n",
    "    errorlist = np.asarray(errorlist)\n",
    "    abserrorlist = np.asarray(abserrorlist)\n",
    "    return errorlist, abserrorlist"
   ]
  },
  {
   "cell_type": "markdown",
   "metadata": {},
   "source": [
    "## Input Data"
   ]
  },
  {
   "cell_type": "code",
   "execution_count": 6,
   "metadata": {},
   "outputs": [
    {
     "data": {
      "text/plain": [
       "DescribeResult(nobs=170144, minmax=(-734, 4178), mean=12.02298053413579, variance=4381.956155387596, skewness=23.150131994394677, kurtosis=834.3236162937388)"
      ]
     },
     "execution_count": 6,
     "metadata": {},
     "output_type": "execute_result"
    }
   ],
   "source": [
    "train_dataset = pd.read_csv(\"train_dataset.csv\")\n",
    "test_dataset = pd.read_csv(\"test_dataset.csv\")\n",
    "train_features = train_dataset.copy()\n",
    "test_features = test_dataset.copy()\n",
    "train_labels = train_features.pop('new_case')\n",
    "test_labels = test_features.pop('new_case')\n",
    "\n",
    "stats.describe(test_labels)"
   ]
  },
  {
   "cell_type": "markdown",
   "metadata": {},
   "source": [
    "## Linear Regression"
   ]
  },
  {
   "cell_type": "code",
   "execution_count": 7,
   "metadata": {},
   "outputs": [
    {
     "name": "stdout",
     "output_type": "stream",
     "text": [
      "0.6169138354205805 0.7638875503481404\n",
      "1916.3791702728342 1034.6283211818004\n"
     ]
    }
   ],
   "source": [
    "reg = LinearRegression().fit(train_features ,train_labels)\n",
    "s_linear_reg = r2_score(train_labels,reg.predict(train_features))\n",
    "s_linear_reg_test = r2_score(test_labels,reg.predict(test_features))\n",
    "print(s_linear_reg,s_linear_reg_test)\n",
    "print(mean_squared_error(train_labels,reg.predict(train_features)),mean_squared_error(test_labels,reg.predict(test_features)))"
   ]
  },
  {
   "cell_type": "code",
   "execution_count": 8,
   "metadata": {},
   "outputs": [
    {
     "data": {
      "text/plain": [
       "DescribeResult(nobs=170144, minmax=(-1263.5963214577762, 3477.3728692779378), mean=12.112410649844819, variance=3085.673759958532, skewness=20.098551267415026, kurtosis=631.8538369064017)"
      ]
     },
     "execution_count": 8,
     "metadata": {},
     "output_type": "execute_result"
    }
   ],
   "source": [
    "stats.describe(reg.predict(test_features))"
   ]
  },
  {
   "cell_type": "markdown",
   "metadata": {},
   "source": [
    "## Lasso Regression"
   ]
  },
  {
   "cell_type": "code",
   "execution_count": 9,
   "metadata": {},
   "outputs": [
    {
     "name": "stdout",
     "output_type": "stream",
     "text": [
      "0.6160411738672797 0.7631569890197889\n",
      "1920.7446383530498 1037.8295900762917\n"
     ]
    }
   ],
   "source": [
    "reg = Lasso().fit(train_features ,train_labels)\n",
    "s_Lasso_reg = r2_score(train_labels,reg.predict(train_features))\n",
    "s_Lasso_reg_test = r2_score(test_labels,reg.predict(test_features))\n",
    "print(s_Lasso_reg,s_Lasso_reg_test)\n",
    "print(mean_squared_error(train_labels,reg.predict(train_features)),mean_squared_error(test_labels,reg.predict(test_features)))"
   ]
  },
  {
   "cell_type": "markdown",
   "metadata": {},
   "source": [
    "## Decision_tree_regression"
   ]
  },
  {
   "cell_type": "code",
   "execution_count": 10,
   "metadata": {},
   "outputs": [
    {
     "name": "stdout",
     "output_type": "stream",
     "text": [
      "0.9959713432396973 0.5718700173980884\n"
     ]
    }
   ],
   "source": [
    "reg = DecisionTreeRegressor(max_depth=25)\n",
    "reg.fit(train_features ,train_labels)\n",
    "s_DT_reg = r2_score(train_labels,reg.predict(train_features))\n",
    "s_DT_reg_test = r2_score(test_labels,reg.predict(test_features))\n",
    "print(s_DT_reg,s_DT_reg_test)"
   ]
  },
  {
   "cell_type": "markdown",
   "metadata": {},
   "source": [
    "Seems Decision Tree Regression much better \n",
    "## Decision Tree Regression depth study"
   ]
  },
  {
   "cell_type": "code",
   "execution_count": 11,
   "metadata": {},
   "outputs": [
    {
     "data": {
      "image/png": "[encoded data removed]",
      "text/plain": [
       "<Figure size 432x288 with 1 Axes>"
      ]
     },
     "metadata": {
      "needs_background": "light"
     },
     "output_type": "display_data"
    }
   ],
   "source": [
    "tree_size = []\n",
    "train_pred_score =[]\n",
    "test_pred_score =[]\n",
    "for i in range(1,30):\n",
    "    tree_size.append(i)\n",
    "    reg = DecisionTreeRegressor(max_depth=i)\n",
    "    reg.fit(train_features ,train_labels)\n",
    "    s_DT_reg = r2_score(train_labels,reg.predict(train_features))\n",
    "    s_DT_reg_test = r2_score(test_labels,reg.predict(test_features))\n",
    "    train_pred_score.append(s_DT_reg)\n",
    "    test_pred_score.append(s_DT_reg_test)\n",
    "plt.plot(tree_size, train_pred_score,'r')\n",
    "plt.plot(tree_size, test_pred_score,'b')\n",
    "plt.xlabel('tree_size')\n",
    "plt.ylabel('r2 - train_red & test_blue')\n",
    "plt.show()"
   ]
  },
  {
   "cell_type": "markdown",
   "metadata": {},
   "source": [
    "when tree_size too large, there will be overfit, so max_depth = 6 is good "
   ]
  },
  {
   "cell_type": "code",
   "execution_count": 18,
   "metadata": {},
   "outputs": [
    {
     "data": {
      "image/png": "[encoded data removed]",
      "text/plain": [
       "<Figure size 432x288 with 1 Axes>"
      ]
     },
     "metadata": {
      "needs_background": "light"
     },
     "output_type": "display_data"
    },
    {
     "data": {
      "text/plain": [
       "DescribeResult(nobs=170144, minmax=(0.035427807486627216, 2387.5263157894738), mean=6.8863923051366145, variance=906.2438408515955, skewness=24.06783822128234, kurtosis=998.4457537305493)"
      ]
     },
     "execution_count": 18,
     "metadata": {},
     "output_type": "execute_result"
    }
   ],
   "source": [
    "reg = DecisionTreeRegressor(max_depth=6)\n",
    "reg.fit(train_features ,train_labels)\n",
    "test_predict = reg.predict(test_features)\n",
    "#test_labels = test_labels.to_numpy()\n",
    "\n",
    "error,abserror = errorCalculate(test_labels,test_predict)\n",
    "plt.plot(error,'g+')\n",
    "plt.xlabel('Sample ID')\n",
    "plt.ylabel('Error')\n",
    "plt.show()\n",
    "stats.describe(abserror)"
   ]
  },
  {
   "cell_type": "code",
   "execution_count": 19,
   "metadata": {},
   "outputs": [
    {
     "data": {
      "text/plain": [
       "0.7823651162323597"
      ]
     },
     "execution_count": 19,
     "metadata": {},
     "output_type": "execute_result"
    }
   ],
   "source": [
    "r2_score(test_labels,reg.predict(test_features))"
   ]
  },
  {
   "cell_type": "code",
   "execution_count": 20,
   "metadata": {},
   "outputs": [
    {
     "data": {
      "text/plain": [
       "953.6609134974362"
      ]
     },
     "execution_count": 20,
     "metadata": {},
     "output_type": "execute_result"
    }
   ],
   "source": [
    "mean_squared_error(test_labels,reg.predict(test_features))"
   ]
  },
  {
   "cell_type": "markdown",
   "metadata": {},
   "source": [
    "# save_models"
   ]
  },
  {
   "cell_type": "code",
   "execution_count": 21,
   "metadata": {},
   "outputs": [
    {
     "data": {
      "text/plain": [
       "['covid_DecisionTreeRegression.sav']"
      ]
     },
     "execution_count": 21,
     "metadata": {},
     "output_type": "execute_result"
    }
   ],
   "source": [
    "filename = 'covid_DecisionTreeRegression.sav'\n",
    "joblib.dump(reg, filename)\n",
    " "
   ]
  },
  {
   "cell_type": "code",
   "execution_count": null,
   "metadata": {},
   "outputs": [],
   "source": []
  }
 ],
 "metadata": {
  "kernelspec": {
   "display_name": "Python 3",
   "language": "python",
   "name": "python3"
  },
  "language_info": {
   "codemirror_mode": {
    "name": "ipython",
    "version": 3
   },
   "file_extension": ".py",
   "mimetype": "text/x-python",
   "name": "python",
   "nbconvert_exporter": "python",
   "pygments_lexer": "ipython3",
   "version": "3.8.3"
  }
 },
 "nbformat": 4,
 "nbformat_minor": 4
}
