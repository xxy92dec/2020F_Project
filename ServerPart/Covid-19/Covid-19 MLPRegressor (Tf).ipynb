{
 "cells": [
  {
   "cell_type": "code",
   "execution_count": 16,
   "metadata": {},
   "outputs": [],
   "source": [
    "import matplotlib.pyplot as plt\n",
    "import pandas as pd\n",
    "import numpy as np\n",
    "from tensorflow.keras.models import Sequential,load_model\n",
    "from tensorflow.keras.layers import Dense,BatchNormalization\n",
    "from tensorflow.keras import layers\n",
    "from tensorflow import keras\n",
    "import numpy as np\n",
    "from sklearn.metrics import r2_score, mean_squared_error\n",
    "from tensorflow.keras.layers.experimental import preprocessing\n",
    "from tensorflow.keras.callbacks import EarlyStopping\n",
    "from scipy import stats"
   ]
  },
  {
   "cell_type": "markdown",
   "metadata": {},
   "source": [
    "## Error Visible Calculation"
   ]
  },
  {
   "cell_type": "code",
   "execution_count": 12,
   "metadata": {},
   "outputs": [],
   "source": [
    "def errorCalculate(Origin,Predict):\n",
    "    errorlist = []\n",
    "    abserrorlist = []\n",
    "    error = 0\n",
    "    count = 0\n",
    "    errorpercentage = 0\n",
    "\n",
    "    for i in range(len(Origin)):\n",
    "        count += 1\n",
    "        True_num = Origin[i]\n",
    "        Cal_num = Predict[i]\n",
    "        Diff = Cal_num - True_num\n",
    "        absDiff = abs(Cal_num - True_num)\n",
    "        errorlist.append(Diff)\n",
    "        abserrorlist.append(absDiff)\n",
    "    errorlist = np.asarray(errorlist)\n",
    "    abserrorlist = np.asarray(abserrorlist)\n",
    "    return errorlist, abserrorlist"
   ]
  },
  {
   "cell_type": "markdown",
   "metadata": {},
   "source": [
    "## Input Data"
   ]
  },
  {
   "cell_type": "code",
   "execution_count": 2,
   "metadata": {},
   "outputs": [],
   "source": [
    "train_dataset = pd.read_csv(\"train_dataset.csv\")\n",
    "test_dataset = pd.read_csv(\"test_dataset.csv\")\n",
    "train_features = train_dataset.copy()\n",
    "test_features = test_dataset.copy()\n",
    "train_labels = train_features.pop('new_case')\n",
    "test_labels = test_features.pop('new_case')\n",
    "X = train_features.to_numpy()\n",
    "Y = train_labels.to_numpy()\n",
    "test_X = test_features.to_numpy()\n",
    "test_Y = test_labels.to_numpy()\n",
    "input_shape = (12,)"
   ]
  },
  {
   "cell_type": "code",
   "execution_count": 3,
   "metadata": {},
   "outputs": [
    {
     "data": {
      "text/html": [
       "<div>\n",
       "<style scoped>\n",
       "    .dataframe tbody tr th:only-of-type {\n",
       "        vertical-align: middle;\n",
       "    }\n",
       "\n",
       "    .dataframe tbody tr th {\n",
       "        vertical-align: top;\n",
       "    }\n",
       "\n",
       "    .dataframe thead th {\n",
       "        text-align: right;\n",
       "    }\n",
       "</style>\n",
       "<table border=\"1\" class=\"dataframe\">\n",
       "  <thead>\n",
       "    <tr style=\"text-align: right;\">\n",
       "      <th></th>\n",
       "      <th>yesterday_new_cas</th>\n",
       "      <th>first_case_time</th>\n",
       "      <th>date</th>\n",
       "      <th>case</th>\n",
       "      <th>population</th>\n",
       "      <th>stay_at_home</th>\n",
       "      <th>50_gatherings</th>\n",
       "      <th>500_gatherings</th>\n",
       "      <th>public_schools</th>\n",
       "      <th>restaurant</th>\n",
       "      <th>entertainment/gym</th>\n",
       "      <th>Federal_guidelines</th>\n",
       "      <th>foreign_travel_ban</th>\n",
       "    </tr>\n",
       "  </thead>\n",
       "  <tbody>\n",
       "    <tr>\n",
       "      <th>0</th>\n",
       "      <td>1</td>\n",
       "      <td>123</td>\n",
       "      <td>198</td>\n",
       "      <td>98</td>\n",
       "      <td>42831</td>\n",
       "      <td>0</td>\n",
       "      <td>0</td>\n",
       "      <td>0</td>\n",
       "      <td>1</td>\n",
       "      <td>1</td>\n",
       "      <td>1</td>\n",
       "      <td>1</td>\n",
       "      <td>1</td>\n",
       "    </tr>\n",
       "    <tr>\n",
       "      <th>1</th>\n",
       "      <td>0</td>\n",
       "      <td>124</td>\n",
       "      <td>186</td>\n",
       "      <td>7</td>\n",
       "      <td>7110</td>\n",
       "      <td>0</td>\n",
       "      <td>1</td>\n",
       "      <td>1</td>\n",
       "      <td>1</td>\n",
       "      <td>1</td>\n",
       "      <td>1</td>\n",
       "      <td>1</td>\n",
       "      <td>1</td>\n",
       "    </tr>\n",
       "    <tr>\n",
       "      <th>2</th>\n",
       "      <td>89</td>\n",
       "      <td>107</td>\n",
       "      <td>266</td>\n",
       "      <td>10752</td>\n",
       "      <td>311522</td>\n",
       "      <td>1</td>\n",
       "      <td>1</td>\n",
       "      <td>1</td>\n",
       "      <td>1</td>\n",
       "      <td>1</td>\n",
       "      <td>1</td>\n",
       "      <td>1</td>\n",
       "      <td>1</td>\n",
       "    </tr>\n",
       "    <tr>\n",
       "      <th>3</th>\n",
       "      <td>1</td>\n",
       "      <td>114</td>\n",
       "      <td>199</td>\n",
       "      <td>85</td>\n",
       "      <td>55101</td>\n",
       "      <td>1</td>\n",
       "      <td>1</td>\n",
       "      <td>1</td>\n",
       "      <td>1</td>\n",
       "      <td>1</td>\n",
       "      <td>1</td>\n",
       "      <td>1</td>\n",
       "      <td>1</td>\n",
       "    </tr>\n",
       "    <tr>\n",
       "      <th>4</th>\n",
       "      <td>0</td>\n",
       "      <td>110</td>\n",
       "      <td>121</td>\n",
       "      <td>13</td>\n",
       "      <td>42950</td>\n",
       "      <td>0</td>\n",
       "      <td>0</td>\n",
       "      <td>0</td>\n",
       "      <td>0</td>\n",
       "      <td>1</td>\n",
       "      <td>1</td>\n",
       "      <td>1</td>\n",
       "      <td>1</td>\n",
       "    </tr>\n",
       "  </tbody>\n",
       "</table>\n",
       "</div>"
      ],
      "text/plain": [
       "   yesterday_new_cas  first_case_time  date   case  population  stay_at_home  \\\n",
       "0                  1              123   198     98       42831             0   \n",
       "1                  0              124   186      7        7110             0   \n",
       "2                 89              107   266  10752      311522             1   \n",
       "3                  1              114   199     85       55101             1   \n",
       "4                  0              110   121     13       42950             0   \n",
       "\n",
       "   50_gatherings  500_gatherings  public_schools  restaurant  \\\n",
       "0              0               0               1           1   \n",
       "1              1               1               1           1   \n",
       "2              1               1               1           1   \n",
       "3              1               1               1           1   \n",
       "4              0               0               0           1   \n",
       "\n",
       "   entertainment/gym  Federal_guidelines  foreign_travel_ban  \n",
       "0                  1                   1                   1  \n",
       "1                  1                   1                   1  \n",
       "2                  1                   1                   1  \n",
       "3                  1                   1                   1  \n",
       "4                  1                   1                   1  "
      ]
     },
     "execution_count": 3,
     "metadata": {},
     "output_type": "execute_result"
    }
   ],
   "source": [
    "train_features.head()"
   ]
  },
  {
   "cell_type": "markdown",
   "metadata": {},
   "source": [
    "# MLP"
   ]
  },
  {
   "cell_type": "code",
   "execution_count": 4,
   "metadata": {},
   "outputs": [
    {
     "name": "stdout",
     "output_type": "stream",
     "text": [
      "Model: \"sequential\"\n",
      "_________________________________________________________________\n",
      "Layer (type)                 Output Shape              Param #   \n",
      "=================================================================\n",
      "batch_normalization (BatchNo (None, 13)                52        \n",
      "_________________________________________________________________\n",
      "dense (Dense)                (None, 24)                336       \n",
      "_________________________________________________________________\n",
      "batch_normalization_1 (Batch (None, 24)                96        \n",
      "_________________________________________________________________\n",
      "dense_1 (Dense)              (None, 36)                900       \n",
      "_________________________________________________________________\n",
      "batch_normalization_2 (Batch (None, 36)                144       \n",
      "_________________________________________________________________\n",
      "dense_2 (Dense)              (None, 48)                1776      \n",
      "_________________________________________________________________\n",
      "dense_3 (Dense)              (None, 16)                784       \n",
      "_________________________________________________________________\n",
      "dense_4 (Dense)              (None, 5)                 85        \n",
      "_________________________________________________________________\n",
      "dense_5 (Dense)              (None, 1)                 6         \n",
      "=================================================================\n",
      "Total params: 4,179\n",
      "Trainable params: 4,033\n",
      "Non-trainable params: 146\n",
      "_________________________________________________________________\n"
     ]
    }
   ],
   "source": [
    "model = Sequential()\n",
    "model.add(BatchNormalization(input_dim=X.shape[1]))\n",
    "model.add(Dense(24,activation=\"tanh\"))\n",
    "model.add(BatchNormalization())\n",
    "model.add(Dense(36,activation=\"tanh\"))\n",
    "model.add(BatchNormalization())\n",
    "model.add(Dense(48,activation=\"tanh\"))\n",
    "#model.add(BatchNormalization())\n",
    "model.add(Dense(16,activation=\"relu\"))\n",
    "#model.add(BatchNormalization())\n",
    "model.add(Dense(5,activation=\"relu\"))\n",
    "model.add(Dense(1, activation=\"linear\"))\n",
    "model.summary()"
   ]
  },
  {
   "cell_type": "code",
   "execution_count": 5,
   "metadata": {},
   "outputs": [
    {
     "name": "stdout",
     "output_type": "stream",
     "text": [
      "Epoch 1/200\n",
      "120/120 [==============================] - 1s 6ms/step - loss: 4955.4761 - mean_squared_error: 4955.4761 - val_loss: 5005.9102 - val_mean_squared_error: 5005.9102\n",
      "Epoch 2/200\n",
      "120/120 [==============================] - 1s 4ms/step - loss: 4211.7153 - mean_squared_error: 4211.7153 - val_loss: 4196.9678 - val_mean_squared_error: 4196.9678\n",
      "Epoch 3/200\n",
      "120/120 [==============================] - 0s 4ms/step - loss: 3499.4995 - mean_squared_error: 3499.4995 - val_loss: 3628.4099 - val_mean_squared_error: 3628.4104\n",
      "Epoch 4/200\n",
      "120/120 [==============================] - 1s 4ms/step - loss: 2940.4736 - mean_squared_error: 2940.4736 - val_loss: 3021.7336 - val_mean_squared_error: 3021.7336\n",
      "Epoch 5/200\n",
      "120/120 [==============================] - 1s 4ms/step - loss: 2552.0833 - mean_squared_error: 2552.0833 - val_loss: 2595.6963 - val_mean_squared_error: 2595.6963\n",
      "Epoch 6/200\n",
      "120/120 [==============================] - 1s 4ms/step - loss: 2287.3489 - mean_squared_error: 2287.3489 - val_loss: 2215.2524 - val_mean_squared_error: 2215.2524\n",
      "Epoch 7/200\n",
      "120/120 [==============================] - 1s 4ms/step - loss: 2113.1960 - mean_squared_error: 2113.1960 - val_loss: 2090.0889 - val_mean_squared_error: 2090.0889\n",
      "Epoch 8/200\n",
      "120/120 [==============================] - 1s 4ms/step - loss: 2048.3052 - mean_squared_error: 2048.3052 - val_loss: 1999.3540 - val_mean_squared_error: 1999.3540\n",
      "Epoch 9/200\n",
      "120/120 [==============================] - 1s 4ms/step - loss: 1972.4235 - mean_squared_error: 1972.4235 - val_loss: 1821.7506 - val_mean_squared_error: 1821.7506\n",
      "Epoch 10/200\n",
      "120/120 [==============================] - 1s 4ms/step - loss: 1904.6023 - mean_squared_error: 1904.6023 - val_loss: 1932.4374 - val_mean_squared_error: 1932.4374\n",
      "Epoch 11/200\n",
      "120/120 [==============================] - 1s 5ms/step - loss: 1809.0974 - mean_squared_error: 1809.0974 - val_loss: 1719.5278 - val_mean_squared_error: 1719.5278\n",
      "Epoch 12/200\n",
      "120/120 [==============================] - 1s 5ms/step - loss: 1807.6356 - mean_squared_error: 1807.6356 - val_loss: 1909.2784 - val_mean_squared_error: 1909.2784\n",
      "Epoch 13/200\n",
      "120/120 [==============================] - 1s 5ms/step - loss: 1784.7212 - mean_squared_error: 1784.7212 - val_loss: 1706.0225 - val_mean_squared_error: 1706.0225\n",
      "Epoch 14/200\n",
      "120/120 [==============================] - 1s 4ms/step - loss: 1765.7520 - mean_squared_error: 1765.7520 - val_loss: 1688.4036 - val_mean_squared_error: 1688.4036\n",
      "Epoch 15/200\n",
      "120/120 [==============================] - 1s 4ms/step - loss: 1701.5668 - mean_squared_error: 1701.5668 - val_loss: 1622.6776 - val_mean_squared_error: 1622.6776\n",
      "Epoch 16/200\n",
      "120/120 [==============================] - 0s 4ms/step - loss: 1716.1533 - mean_squared_error: 1716.1531 - val_loss: 1683.0651 - val_mean_squared_error: 1683.0648\n",
      "Epoch 17/200\n",
      "120/120 [==============================] - 1s 4ms/step - loss: 1712.5836 - mean_squared_error: 1712.5836 - val_loss: 1787.8661 - val_mean_squared_error: 1787.8661\n",
      "Epoch 18/200\n",
      "120/120 [==============================] - 1s 4ms/step - loss: 1723.9852 - mean_squared_error: 1723.9852 - val_loss: 1691.0548 - val_mean_squared_error: 1691.0548\n",
      "Epoch 19/200\n",
      "120/120 [==============================] - 1s 4ms/step - loss: 1656.3256 - mean_squared_error: 1656.3256 - val_loss: 1672.2123 - val_mean_squared_error: 1672.2123\n",
      "Epoch 20/200\n",
      "120/120 [==============================] - 1s 4ms/step - loss: 1647.2137 - mean_squared_error: 1647.2139 - val_loss: 1619.6296 - val_mean_squared_error: 1619.6296\n",
      "Epoch 21/200\n",
      "120/120 [==============================] - 1s 4ms/step - loss: 1636.6439 - mean_squared_error: 1636.6439 - val_loss: 1645.0809 - val_mean_squared_error: 1645.0809\n",
      "Epoch 22/200\n",
      "120/120 [==============================] - 1s 4ms/step - loss: 1634.4987 - mean_squared_error: 1634.4987 - val_loss: 1573.5391 - val_mean_squared_error: 1573.5391\n",
      "Epoch 23/200\n",
      "120/120 [==============================] - 1s 4ms/step - loss: 1641.7054 - mean_squared_error: 1641.7054 - val_loss: 1626.7559 - val_mean_squared_error: 1626.7559\n",
      "Epoch 24/200\n",
      "120/120 [==============================] - 1s 4ms/step - loss: 1641.2893 - mean_squared_error: 1641.2891 - val_loss: 1581.9250 - val_mean_squared_error: 1581.9250\n",
      "Epoch 25/200\n",
      "120/120 [==============================] - 1s 4ms/step - loss: 1597.0549 - mean_squared_error: 1597.0549 - val_loss: 1612.9838 - val_mean_squared_error: 1612.9838\n",
      "Epoch 26/200\n",
      "120/120 [==============================] - 1s 5ms/step - loss: 1602.2390 - mean_squared_error: 1602.2390 - val_loss: 1550.3585 - val_mean_squared_error: 1550.3585\n",
      "Epoch 27/200\n",
      "120/120 [==============================] - 0s 4ms/step - loss: 1626.2389 - mean_squared_error: 1626.2389 - val_loss: 1585.7493 - val_mean_squared_error: 1585.7495\n",
      "Epoch 28/200\n",
      "120/120 [==============================] - 1s 4ms/step - loss: 1592.9066 - mean_squared_error: 1592.9066 - val_loss: 1556.6782 - val_mean_squared_error: 1556.6781\n",
      "Epoch 29/200\n",
      "120/120 [==============================] - 1s 5ms/step - loss: 1563.7789 - mean_squared_error: 1563.7788 - val_loss: 1591.9623 - val_mean_squared_error: 1591.9623\n",
      "Epoch 30/200\n",
      "120/120 [==============================] - 0s 4ms/step - loss: 1649.3506 - mean_squared_error: 1649.3506 - val_loss: 1590.2175 - val_mean_squared_error: 1590.2175\n",
      "Epoch 31/200\n",
      "120/120 [==============================] - 1s 4ms/step - loss: 1599.2898 - mean_squared_error: 1599.2898 - val_loss: 1583.3273 - val_mean_squared_error: 1583.3273\n",
      "Epoch 32/200\n",
      "120/120 [==============================] - 1s 4ms/step - loss: 1586.2960 - mean_squared_error: 1586.2958 - val_loss: 1672.1797 - val_mean_squared_error: 1672.1796\n",
      "Epoch 33/200\n",
      "120/120 [==============================] - 1s 5ms/step - loss: 1589.3453 - mean_squared_error: 1589.3453 - val_loss: 1548.8029 - val_mean_squared_error: 1548.8029\n",
      "Epoch 34/200\n",
      "120/120 [==============================] - 1s 4ms/step - loss: 1565.5507 - mean_squared_error: 1565.5507 - val_loss: 1554.5387 - val_mean_squared_error: 1554.5387\n",
      "Epoch 35/200\n",
      "120/120 [==============================] - 1s 5ms/step - loss: 1538.6698 - mean_squared_error: 1538.6698 - val_loss: 1562.8545 - val_mean_squared_error: 1562.8545\n",
      "Epoch 36/200\n",
      "120/120 [==============================] - 1s 4ms/step - loss: 1576.2594 - mean_squared_error: 1576.2594 - val_loss: 1578.4709 - val_mean_squared_error: 1578.4711\n",
      "Epoch 37/200\n",
      "120/120 [==============================] - 1s 4ms/step - loss: 1577.3933 - mean_squared_error: 1577.3933 - val_loss: 1586.5856 - val_mean_squared_error: 1586.5856\n",
      "Epoch 38/200\n",
      "120/120 [==============================] - 1s 4ms/step - loss: 1560.0305 - mean_squared_error: 1560.0305 - val_loss: 1600.1351 - val_mean_squared_error: 1600.1351\n",
      "Epoch 39/200\n",
      "120/120 [==============================] - 1s 5ms/step - loss: 1491.4547 - mean_squared_error: 1491.4547 - val_loss: 1596.4614 - val_mean_squared_error: 1596.4614\n",
      "Epoch 40/200\n",
      "120/120 [==============================] - 0s 4ms/step - loss: 1535.0334 - mean_squared_error: 1535.0334 - val_loss: 1583.7721 - val_mean_squared_error: 1583.7721\n",
      "Epoch 41/200\n",
      "120/120 [==============================] - 1s 5ms/step - loss: 1553.9570 - mean_squared_error: 1553.9570 - val_loss: 1585.7357 - val_mean_squared_error: 1585.7357\n",
      "Epoch 42/200\n",
      "120/120 [==============================] - 1s 5ms/step - loss: 1545.7852 - mean_squared_error: 1545.7854 - val_loss: 1571.7789 - val_mean_squared_error: 1571.7789\n",
      "Epoch 43/200\n",
      "120/120 [==============================] - 1s 4ms/step - loss: 1514.8270 - mean_squared_error: 1514.8270 - val_loss: 1590.0905 - val_mean_squared_error: 1590.0905\n",
      "Model: \"sequential\"\n",
      "_________________________________________________________________\n",
      "Layer (type)                 Output Shape              Param #   \n",
      "=================================================================\n",
      "batch_normalization (BatchNo (None, 13)                52        \n",
      "_________________________________________________________________\n",
      "dense (Dense)                (None, 24)                336       \n",
      "_________________________________________________________________\n",
      "batch_normalization_1 (Batch (None, 24)                96        \n",
      "_________________________________________________________________\n",
      "dense_1 (Dense)              (None, 36)                900       \n",
      "_________________________________________________________________\n",
      "batch_normalization_2 (Batch (None, 36)                144       \n",
      "_________________________________________________________________\n",
      "dense_2 (Dense)              (None, 48)                1776      \n",
      "_________________________________________________________________\n",
      "dense_3 (Dense)              (None, 16)                784       \n",
      "_________________________________________________________________\n",
      "dense_4 (Dense)              (None, 5)                 85        \n",
      "_________________________________________________________________\n",
      "dense_5 (Dense)              (None, 1)                 6         \n",
      "=================================================================\n",
      "Total params: 4,179\n",
      "Trainable params: 4,033\n",
      "Non-trainable params: 146\n",
      "_________________________________________________________________\n"
     ]
    }
   ],
   "source": [
    "opt = keras.optimizers.Adam(learning_rate=0.001)\n",
    "early_stopping = EarlyStopping(monitor='val_loss', patience=10)\n",
    "model.compile(loss='MSE', optimizer=opt, metrics=['mean_squared_error'])\n",
    "model.fit(X, Y, epochs=200, batch_size=3000, verbose=1, validation_split=0.1,callbacks=[early_stopping])\n",
    "model.summary()"
   ]
  },
  {
   "cell_type": "code",
   "execution_count": 6,
   "metadata": {},
   "outputs": [
    {
     "data": {
      "text/plain": [
       "0.7012581162724907"
      ]
     },
     "execution_count": 6,
     "metadata": {},
     "output_type": "execute_result"
    }
   ],
   "source": [
    "predict = model.predict(X)\n",
    "r2_score(Y,predict)"
   ]
  },
  {
   "cell_type": "code",
   "execution_count": 7,
   "metadata": {},
   "outputs": [
    {
     "data": {
      "text/plain": [
       "0.7894201972709979"
      ]
     },
     "execution_count": 7,
     "metadata": {},
     "output_type": "execute_result"
    }
   ],
   "source": [
    "r2_score(test_Y,model.predict(test_X))"
   ]
  },
  {
   "cell_type": "code",
   "execution_count": 10,
   "metadata": {},
   "outputs": [
    {
     "data": {
      "text/plain": [
       "922.7460394127767"
      ]
     },
     "execution_count": 10,
     "metadata": {},
     "output_type": "execute_result"
    }
   ],
   "source": [
    "mean_squared_error(test_Y,model.predict(test_X))"
   ]
  },
  {
   "cell_type": "code",
   "execution_count": 13,
   "metadata": {},
   "outputs": [
    {
     "data": {
      "image/png": "[encoded data removed]",
      "text/plain": [
       "<Figure size 432x288 with 1 Axes>"
      ]
     },
     "metadata": {
      "needs_background": "light"
     },
     "output_type": "display_data"
    },
    {
     "data": {
      "text/plain": [
       "DescribeResult(nobs=170144, minmax=(array([1.3828278e-05], dtype=float32), array([1724.9346], dtype=float32)), mean=array([7.048414], dtype=float32), variance=array([873.07104], dtype=float32), skewness=array([22.151196], dtype=float32), kurtosis=array([779.2216], dtype=float32))"
      ]
     },
     "execution_count": 13,
     "metadata": {},
     "output_type": "execute_result"
    }
   ],
   "source": [
    "test_predict = model.predict(test_features)\n",
    "\n",
    "error,abserror = errorCalculate(test_Y,test_predict)\n",
    "plt.plot(error,'g+')\n",
    "plt.xlabel('Sample ID')\n",
    "plt.ylabel('Error')\n",
    "plt.show()\n",
    "stats.describe(abserror)"
   ]
  },
  {
   "cell_type": "code",
   "execution_count": 14,
   "metadata": {},
   "outputs": [
    {
     "name": "stdout",
     "output_type": "stream",
     "text": [
      "WARNING:tensorflow:From C:\\2020F\\lib\\site-packages\\tensorflow\\python\\training\\tracking\\tracking.py:111: Model.state_updates (from tensorflow.python.keras.engine.training) is deprecated and will be removed in a future version.\n",
      "Instructions for updating:\n",
      "This property should not be used in TensorFlow 2.0, as updates are applied automatically.\n",
      "WARNING:tensorflow:From C:\\2020F\\lib\\site-packages\\tensorflow\\python\\training\\tracking\\tracking.py:111: Layer.updates (from tensorflow.python.keras.engine.base_layer) is deprecated and will be removed in a future version.\n",
      "Instructions for updating:\n",
      "This property should not be used in TensorFlow 2.0, as updates are applied automatically.\n",
      "INFO:tensorflow:Assets written to: mlp\\assets\n"
     ]
    }
   ],
   "source": [
    "model.save('mlp')"
   ]
  },
  {
   "cell_type": "code",
   "execution_count": null,
   "metadata": {},
   "outputs": [],
   "source": []
  }
 ],
 "metadata": {
  "kernelspec": {
   "display_name": "Python 3",
   "language": "python",
   "name": "python3"
  },
  "language_info": {
   "codemirror_mode": {
    "name": "ipython",
    "version": 3
   },
   "file_extension": ".py",
   "mimetype": "text/x-python",
   "name": "python",
   "nbconvert_exporter": "python",
   "pygments_lexer": "ipython3",
   "version": "3.8.3"
  }
 },
 "nbformat": 4,
 "nbformat_minor": 4
}
