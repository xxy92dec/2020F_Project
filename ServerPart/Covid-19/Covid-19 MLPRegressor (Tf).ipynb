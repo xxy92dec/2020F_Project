{
 "cells": [
  {
   "cell_type": "code",
   "execution_count": 1,
   "metadata": {},
   "outputs": [],
   "source": [
    "import matplotlib.pyplot as plt\n",
    "import pandas as pd\n",
    "import numpy as np\n",
    "from tensorflow.keras.models import Sequential,load_model\n",
    "from tensorflow.keras.layers import Dense,BatchNormalization\n",
    "from tensorflow.keras import layers\n",
    "from tensorflow import keras\n",
    "import numpy as np\n",
    "from sklearn.metrics import r2_score\n",
    "from tensorflow.keras.layers.experimental import preprocessing\n",
    "from tensorflow.keras.callbacks import EarlyStopping\n",
    "from scipy import stats"
   ]
  },
  {
   "cell_type": "markdown",
   "metadata": {},
   "source": [
    "## Error Visible Calculation"
   ]
  },
  {
   "cell_type": "code",
   "execution_count": 2,
   "metadata": {},
   "outputs": [],
   "source": [
    "def errorCalculate(Origin,Predict):\n",
    "    errorlist = []\n",
    "    abserrorlist = []\n",
    "    error = 0\n",
    "    count = 0\n",
    "    errorpercentage = 0\n",
    "\n",
    "    for i in range(len(Origin)):\n",
    "        count += 1\n",
    "        True_num = Origin[i]\n",
    "        Cal_num = Predict[i]\n",
    "        Diff = Cal_num - True_num\n",
    "        absDiff = abs(Cal_num - True_num)\n",
    "        errorlist.append(Diff)\n",
    "        abserrorlist.append(absDiff)\n",
    "    errorlist = np.asarray(errorlist)\n",
    "    abserrorlist = np.asarray(abserrorlist)\n",
    "    return errorlist, abserrorlist"
   ]
  },
  {
   "cell_type": "markdown",
   "metadata": {},
   "source": [
    "## Input Data"
   ]
  },
  {
   "cell_type": "code",
   "execution_count": 4,
   "metadata": {},
   "outputs": [],
   "source": [
    "train_dataset = pd.read_csv(\"train_dataset.csv\")\n",
    "test_dataset = pd.read_csv(\"test_dataset.csv\")\n",
    "train_features = train_dataset.copy()\n",
    "test_features = test_dataset.copy()\n",
    "train_labels = train_features.pop('new_case')\n",
    "test_labels = test_features.pop('new_case')\n",
    "X = train_features.to_numpy()\n",
    "Y = train_labels.to_numpy()\n",
    "test_X = test_features.to_numpy()\n",
    "test_Y = test_labels.to_numpy()\n",
    "input_shape = (12,)"
   ]
  },
  {
   "cell_type": "code",
   "execution_count": 65,
   "metadata": {},
   "outputs": [
    {
     "data": {
      "text/html": [
       "<div>\n",
       "<style scoped>\n",
       "    .dataframe tbody tr th:only-of-type {\n",
       "        vertical-align: middle;\n",
       "    }\n",
       "\n",
       "    .dataframe tbody tr th {\n",
       "        vertical-align: top;\n",
       "    }\n",
       "\n",
       "    .dataframe thead th {\n",
       "        text-align: right;\n",
       "    }\n",
       "</style>\n",
       "<table border=\"1\" class=\"dataframe\">\n",
       "  <thead>\n",
       "    <tr style=\"text-align: right;\">\n",
       "      <th></th>\n",
       "      <th>yesterday_new_cas</th>\n",
       "      <th>first_case_time</th>\n",
       "      <th>date</th>\n",
       "      <th>case</th>\n",
       "      <th>population</th>\n",
       "      <th>stay_at_home</th>\n",
       "      <th>50_gatherings</th>\n",
       "      <th>500_gatherings</th>\n",
       "      <th>public_schools</th>\n",
       "      <th>restaurant</th>\n",
       "      <th>entertainment/gym</th>\n",
       "      <th>Federal_guidelines</th>\n",
       "      <th>foreign_travel_ban</th>\n",
       "    </tr>\n",
       "  </thead>\n",
       "  <tbody>\n",
       "    <tr>\n",
       "      <th>0</th>\n",
       "      <td>1</td>\n",
       "      <td>123</td>\n",
       "      <td>198</td>\n",
       "      <td>98</td>\n",
       "      <td>42831</td>\n",
       "      <td>0</td>\n",
       "      <td>0</td>\n",
       "      <td>0</td>\n",
       "      <td>1</td>\n",
       "      <td>1</td>\n",
       "      <td>1</td>\n",
       "      <td>1</td>\n",
       "      <td>1</td>\n",
       "    </tr>\n",
       "    <tr>\n",
       "      <th>1</th>\n",
       "      <td>0</td>\n",
       "      <td>124</td>\n",
       "      <td>186</td>\n",
       "      <td>7</td>\n",
       "      <td>7110</td>\n",
       "      <td>0</td>\n",
       "      <td>1</td>\n",
       "      <td>1</td>\n",
       "      <td>1</td>\n",
       "      <td>1</td>\n",
       "      <td>1</td>\n",
       "      <td>1</td>\n",
       "      <td>1</td>\n",
       "    </tr>\n",
       "    <tr>\n",
       "      <th>2</th>\n",
       "      <td>89</td>\n",
       "      <td>107</td>\n",
       "      <td>266</td>\n",
       "      <td>10752</td>\n",
       "      <td>311522</td>\n",
       "      <td>1</td>\n",
       "      <td>1</td>\n",
       "      <td>1</td>\n",
       "      <td>1</td>\n",
       "      <td>1</td>\n",
       "      <td>1</td>\n",
       "      <td>1</td>\n",
       "      <td>1</td>\n",
       "    </tr>\n",
       "    <tr>\n",
       "      <th>3</th>\n",
       "      <td>1</td>\n",
       "      <td>114</td>\n",
       "      <td>199</td>\n",
       "      <td>85</td>\n",
       "      <td>55101</td>\n",
       "      <td>1</td>\n",
       "      <td>1</td>\n",
       "      <td>1</td>\n",
       "      <td>1</td>\n",
       "      <td>1</td>\n",
       "      <td>1</td>\n",
       "      <td>1</td>\n",
       "      <td>1</td>\n",
       "    </tr>\n",
       "    <tr>\n",
       "      <th>4</th>\n",
       "      <td>0</td>\n",
       "      <td>110</td>\n",
       "      <td>121</td>\n",
       "      <td>13</td>\n",
       "      <td>42950</td>\n",
       "      <td>0</td>\n",
       "      <td>0</td>\n",
       "      <td>0</td>\n",
       "      <td>0</td>\n",
       "      <td>1</td>\n",
       "      <td>1</td>\n",
       "      <td>1</td>\n",
       "      <td>1</td>\n",
       "    </tr>\n",
       "  </tbody>\n",
       "</table>\n",
       "</div>"
      ],
      "text/plain": [
       "   yesterday_new_cas  first_case_time  date   case  population  stay_at_home  \\\n",
       "0                  1              123   198     98       42831             0   \n",
       "1                  0              124   186      7        7110             0   \n",
       "2                 89              107   266  10752      311522             1   \n",
       "3                  1              114   199     85       55101             1   \n",
       "4                  0              110   121     13       42950             0   \n",
       "\n",
       "   50_gatherings  500_gatherings  public_schools  restaurant  \\\n",
       "0              0               0               1           1   \n",
       "1              1               1               1           1   \n",
       "2              1               1               1           1   \n",
       "3              1               1               1           1   \n",
       "4              0               0               0           1   \n",
       "\n",
       "   entertainment/gym  Federal_guidelines  foreign_travel_ban  \n",
       "0                  1                   1                   1  \n",
       "1                  1                   1                   1  \n",
       "2                  1                   1                   1  \n",
       "3                  1                   1                   1  \n",
       "4                  1                   1                   1  "
      ]
     },
     "execution_count": 65,
     "metadata": {},
     "output_type": "execute_result"
    }
   ],
   "source": [
    "train_features.head()"
   ]
  },
  {
   "cell_type": "markdown",
   "metadata": {},
   "source": [
    "# MLP"
   ]
  },
  {
   "cell_type": "code",
   "execution_count": 55,
   "metadata": {},
   "outputs": [
    {
     "name": "stdout",
     "output_type": "stream",
     "text": [
      "Model: \"sequential_15\"\n",
      "_________________________________________________________________\n",
      "Layer (type)                 Output Shape              Param #   \n",
      "=================================================================\n",
      "batch_normalization_25 (Batc (None, 13)                52        \n",
      "_________________________________________________________________\n",
      "dense_75 (Dense)             (None, 24)                336       \n",
      "_________________________________________________________________\n",
      "batch_normalization_26 (Batc (None, 24)                96        \n",
      "_________________________________________________________________\n",
      "dense_76 (Dense)             (None, 36)                900       \n",
      "_________________________________________________________________\n",
      "batch_normalization_27 (Batc (None, 36)                144       \n",
      "_________________________________________________________________\n",
      "dense_77 (Dense)             (None, 48)                1776      \n",
      "_________________________________________________________________\n",
      "dense_78 (Dense)             (None, 16)                784       \n",
      "_________________________________________________________________\n",
      "dense_79 (Dense)             (None, 5)                 85        \n",
      "_________________________________________________________________\n",
      "dense_80 (Dense)             (None, 1)                 6         \n",
      "=================================================================\n",
      "Total params: 4,179\n",
      "Trainable params: 4,033\n",
      "Non-trainable params: 146\n",
      "_________________________________________________________________\n"
     ]
    }
   ],
   "source": [
    "model = Sequential()\n",
    "model.add(BatchNormalization(input_dim=X.shape[1]))\n",
    "model.add(Dense(24,activation=\"tanh\"))\n",
    "model.add(BatchNormalization())\n",
    "model.add(Dense(36,activation=\"tanh\"))\n",
    "model.add(BatchNormalization())\n",
    "model.add(Dense(48,activation=\"tanh\"))\n",
    "#model.add(BatchNormalization())\n",
    "model.add(Dense(16,activation=\"relu\"))\n",
    "#model.add(BatchNormalization())\n",
    "model.add(Dense(5,activation=\"relu\"))\n",
    "model.add(Dense(1, activation=\"linear\"))\n",
    "model.summary()"
   ]
  },
  {
   "cell_type": "code",
   "execution_count": 56,
   "metadata": {},
   "outputs": [
    {
     "name": "stdout",
     "output_type": "stream",
     "text": [
      "Epoch 1/200\n",
      "120/120 [==============================] - 1s 6ms/step - loss: 4710.3345 - mean_squared_error: 4710.3345 - val_loss: 4730.1758 - val_mean_squared_error: 4730.1758\n",
      "Epoch 2/200\n",
      "120/120 [==============================] - 1s 5ms/step - loss: 3914.5969 - mean_squared_error: 3914.5969 - val_loss: 4022.5513 - val_mean_squared_error: 4022.5513\n",
      "Epoch 3/200\n",
      "120/120 [==============================] - 1s 5ms/step - loss: 3242.9302 - mean_squared_error: 3242.9302 - val_loss: 3390.5576 - val_mean_squared_error: 3390.5576\n",
      "Epoch 4/200\n",
      "120/120 [==============================] - 1s 5ms/step - loss: 2737.0879 - mean_squared_error: 2737.0879 - val_loss: 2813.5325 - val_mean_squared_error: 2813.5325\n",
      "Epoch 5/200\n",
      "120/120 [==============================] - 1s 5ms/step - loss: 2406.5176 - mean_squared_error: 2406.5173 - val_loss: 2591.1917 - val_mean_squared_error: 2591.1917\n",
      "Epoch 6/200\n",
      "120/120 [==============================] - 1s 5ms/step - loss: 2160.8325 - mean_squared_error: 2160.8325 - val_loss: 2170.8242 - val_mean_squared_error: 2170.8242\n",
      "Epoch 7/200\n",
      "120/120 [==============================] - 1s 5ms/step - loss: 2016.0232 - mean_squared_error: 2016.0232 - val_loss: 1921.7363 - val_mean_squared_error: 1921.7366\n",
      "Epoch 8/200\n",
      "120/120 [==============================] - 1s 5ms/step - loss: 1958.1724 - mean_squared_error: 1958.1724 - val_loss: 1974.5242 - val_mean_squared_error: 1974.5242\n",
      "Epoch 9/200\n",
      "120/120 [==============================] - 1s 5ms/step - loss: 1875.8060 - mean_squared_error: 1875.8060 - val_loss: 1814.7229 - val_mean_squared_error: 1814.7229\n",
      "Epoch 10/200\n",
      "120/120 [==============================] - 1s 5ms/step - loss: 1793.5406 - mean_squared_error: 1793.5406 - val_loss: 1768.7889 - val_mean_squared_error: 1768.7889\n",
      "Epoch 11/200\n",
      "120/120 [==============================] - 1s 5ms/step - loss: 1720.7307 - mean_squared_error: 1720.7307 - val_loss: 1685.3602 - val_mean_squared_error: 1685.3602\n",
      "Epoch 12/200\n",
      "120/120 [==============================] - 1s 5ms/step - loss: 1787.7216 - mean_squared_error: 1787.7216 - val_loss: 1719.8895 - val_mean_squared_error: 1719.8895\n",
      "Epoch 13/200\n",
      "120/120 [==============================] - 1s 5ms/step - loss: 1694.4457 - mean_squared_error: 1694.4457 - val_loss: 1731.5029 - val_mean_squared_error: 1731.5029\n",
      "Epoch 14/200\n",
      "120/120 [==============================] - 1s 5ms/step - loss: 1701.0182 - mean_squared_error: 1701.0182 - val_loss: 1680.5918 - val_mean_squared_error: 1680.5917\n",
      "Epoch 15/200\n",
      "120/120 [==============================] - 1s 5ms/step - loss: 1607.6282 - mean_squared_error: 1607.6282 - val_loss: 1671.7949 - val_mean_squared_error: 1671.7949\n",
      "Epoch 16/200\n",
      "120/120 [==============================] - 1s 5ms/step - loss: 1633.8433 - mean_squared_error: 1633.8433 - val_loss: 1725.2170 - val_mean_squared_error: 1725.2172\n",
      "Epoch 17/200\n",
      "120/120 [==============================] - 1s 5ms/step - loss: 1653.7996 - mean_squared_error: 1653.7996 - val_loss: 1694.7811 - val_mean_squared_error: 1694.7811\n",
      "Epoch 18/200\n",
      "120/120 [==============================] - 1s 5ms/step - loss: 1651.5941 - mean_squared_error: 1651.5941 - val_loss: 1557.8312 - val_mean_squared_error: 1557.8312\n",
      "Epoch 19/200\n",
      "120/120 [==============================] - 1s 5ms/step - loss: 1651.5692 - mean_squared_error: 1651.5692 - val_loss: 1648.9332 - val_mean_squared_error: 1648.9332\n",
      "Epoch 20/200\n",
      "120/120 [==============================] - 1s 5ms/step - loss: 1658.5597 - mean_squared_error: 1658.5597 - val_loss: 1625.7781 - val_mean_squared_error: 1625.7781\n",
      "Epoch 21/200\n",
      "120/120 [==============================] - 1s 5ms/step - loss: 1570.1710 - mean_squared_error: 1570.1710 - val_loss: 1612.4513 - val_mean_squared_error: 1612.4513\n",
      "Epoch 22/200\n",
      "120/120 [==============================] - 1s 5ms/step - loss: 1535.7999 - mean_squared_error: 1535.7999 - val_loss: 1574.3307 - val_mean_squared_error: 1574.3307\n",
      "Epoch 23/200\n",
      "120/120 [==============================] - 1s 5ms/step - loss: 1724.2041 - mean_squared_error: 1724.2041 - val_loss: 1709.8229 - val_mean_squared_error: 1709.8229\n",
      "Epoch 24/200\n",
      "120/120 [==============================] - 1s 5ms/step - loss: 1574.2845 - mean_squared_error: 1574.2845 - val_loss: 1544.5752 - val_mean_squared_error: 1544.5752\n",
      "Epoch 25/200\n",
      "120/120 [==============================] - 1s 5ms/step - loss: 1605.2181 - mean_squared_error: 1605.2181 - val_loss: 1559.1077 - val_mean_squared_error: 1559.1077\n",
      "Epoch 26/200\n",
      "120/120 [==============================] - 1s 5ms/step - loss: 1533.2933 - mean_squared_error: 1533.2933 - val_loss: 1603.0662 - val_mean_squared_error: 1603.0662\n",
      "Epoch 27/200\n",
      "120/120 [==============================] - 1s 5ms/step - loss: 1530.1644 - mean_squared_error: 1530.1644 - val_loss: 1573.0298 - val_mean_squared_error: 1573.0298\n",
      "Epoch 28/200\n",
      "120/120 [==============================] - 1s 5ms/step - loss: 1587.9196 - mean_squared_error: 1587.9196 - val_loss: 1653.4274 - val_mean_squared_error: 1653.4271\n",
      "Epoch 29/200\n",
      "120/120 [==============================] - 1s 5ms/step - loss: 1511.4171 - mean_squared_error: 1511.4171 - val_loss: 1610.3823 - val_mean_squared_error: 1610.3824\n",
      "Epoch 30/200\n",
      "120/120 [==============================] - 1s 5ms/step - loss: 1541.7252 - mean_squared_error: 1541.7252 - val_loss: 1644.2598 - val_mean_squared_error: 1644.2598\n",
      "Epoch 31/200\n",
      "120/120 [==============================] - 1s 5ms/step - loss: 1512.1615 - mean_squared_error: 1512.1615 - val_loss: 1762.5392 - val_mean_squared_error: 1762.5392\n",
      "Epoch 32/200\n",
      "120/120 [==============================] - 1s 5ms/step - loss: 1633.0933 - mean_squared_error: 1633.0933 - val_loss: 1601.8423 - val_mean_squared_error: 1601.8423\n",
      "Epoch 33/200\n",
      "120/120 [==============================] - 1s 5ms/step - loss: 1565.7736 - mean_squared_error: 1565.7736 - val_loss: 1548.8185 - val_mean_squared_error: 1548.8185\n",
      "Epoch 34/200\n",
      "120/120 [==============================] - 1s 5ms/step - loss: 1574.2251 - mean_squared_error: 1574.2251 - val_loss: 1485.3561 - val_mean_squared_error: 1485.3561\n",
      "Epoch 35/200\n",
      "120/120 [==============================] - 1s 5ms/step - loss: 1521.1703 - mean_squared_error: 1521.1703 - val_loss: 1636.4241 - val_mean_squared_error: 1636.4241\n",
      "Epoch 36/200\n",
      "120/120 [==============================] - 1s 5ms/step - loss: 1521.2601 - mean_squared_error: 1521.2601 - val_loss: 1546.6803 - val_mean_squared_error: 1546.6804\n",
      "Epoch 37/200\n",
      "120/120 [==============================] - 1s 5ms/step - loss: 1501.5627 - mean_squared_error: 1501.5627 - val_loss: 1573.3334 - val_mean_squared_error: 1573.3334\n",
      "Epoch 38/200\n",
      "120/120 [==============================] - 1s 5ms/step - loss: 1494.1960 - mean_squared_error: 1494.1960 - val_loss: 1481.6338 - val_mean_squared_error: 1481.6339\n",
      "Epoch 39/200\n",
      "120/120 [==============================] - 1s 5ms/step - loss: 1494.6876 - mean_squared_error: 1494.6876 - val_loss: 1473.4934 - val_mean_squared_error: 1473.4934\n",
      "Epoch 40/200\n",
      "120/120 [==============================] - 1s 5ms/step - loss: 1490.5172 - mean_squared_error: 1490.5172 - val_loss: 1509.3746 - val_mean_squared_error: 1509.3745\n",
      "Epoch 41/200\n",
      "120/120 [==============================] - 1s 5ms/step - loss: 1543.6001 - mean_squared_error: 1543.6001 - val_loss: 1566.3079 - val_mean_squared_error: 1566.3079\n",
      "Epoch 42/200\n",
      "120/120 [==============================] - 1s 5ms/step - loss: 1499.3245 - mean_squared_error: 1499.3245 - val_loss: 1524.5767 - val_mean_squared_error: 1524.5767\n",
      "Epoch 43/200\n",
      "120/120 [==============================] - 1s 5ms/step - loss: 1466.8938 - mean_squared_error: 1466.8938 - val_loss: 1564.1682 - val_mean_squared_error: 1564.1682\n",
      "Epoch 44/200\n",
      "120/120 [==============================] - 1s 5ms/step - loss: 1522.4642 - mean_squared_error: 1522.4642 - val_loss: 1482.8546 - val_mean_squared_error: 1482.8546\n",
      "Epoch 45/200\n",
      "120/120 [==============================] - 1s 5ms/step - loss: 1539.2854 - mean_squared_error: 1539.2854 - val_loss: 1545.1060 - val_mean_squared_error: 1545.1060\n",
      "Epoch 46/200\n",
      "120/120 [==============================] - 1s 5ms/step - loss: 1506.9387 - mean_squared_error: 1506.9387 - val_loss: 1511.7285 - val_mean_squared_error: 1511.7285\n",
      "Epoch 47/200\n"
     ]
    },
    {
     "name": "stdout",
     "output_type": "stream",
     "text": [
      "120/120 [==============================] - 1s 5ms/step - loss: 1507.4924 - mean_squared_error: 1507.4924 - val_loss: 1576.9569 - val_mean_squared_error: 1576.9569\n",
      "Epoch 48/200\n",
      "120/120 [==============================] - 1s 5ms/step - loss: 1451.4951 - mean_squared_error: 1451.4951 - val_loss: 1571.3231 - val_mean_squared_error: 1571.3232\n",
      "Epoch 49/200\n",
      "120/120 [==============================] - 1s 5ms/step - loss: 1493.4592 - mean_squared_error: 1493.4592 - val_loss: 1443.1123 - val_mean_squared_error: 1443.1123\n",
      "Epoch 50/200\n",
      "120/120 [==============================] - 1s 5ms/step - loss: 1501.7312 - mean_squared_error: 1501.7312 - val_loss: 1506.1277 - val_mean_squared_error: 1506.1276\n",
      "Epoch 51/200\n",
      "120/120 [==============================] - 1s 5ms/step - loss: 1485.8729 - mean_squared_error: 1485.8729 - val_loss: 1512.8708 - val_mean_squared_error: 1512.8708\n",
      "Epoch 52/200\n",
      "120/120 [==============================] - 1s 5ms/step - loss: 1500.6155 - mean_squared_error: 1500.6155 - val_loss: 1471.2202 - val_mean_squared_error: 1471.2202\n",
      "Epoch 53/200\n",
      "120/120 [==============================] - 1s 5ms/step - loss: 1477.7622 - mean_squared_error: 1477.7622 - val_loss: 1583.0602 - val_mean_squared_error: 1583.0602\n",
      "Epoch 54/200\n",
      "120/120 [==============================] - 1s 5ms/step - loss: 1424.4160 - mean_squared_error: 1424.4160 - val_loss: 1515.3173 - val_mean_squared_error: 1515.3173\n",
      "Epoch 55/200\n",
      "120/120 [==============================] - 1s 5ms/step - loss: 1448.6368 - mean_squared_error: 1448.6368 - val_loss: 1462.0173 - val_mean_squared_error: 1462.0173\n",
      "Epoch 56/200\n",
      "120/120 [==============================] - 1s 5ms/step - loss: 1556.8251 - mean_squared_error: 1556.8253 - val_loss: 1440.5909 - val_mean_squared_error: 1440.5909\n",
      "Epoch 57/200\n",
      "120/120 [==============================] - 1s 5ms/step - loss: 1566.8077 - mean_squared_error: 1566.8077 - val_loss: 1534.5459 - val_mean_squared_error: 1534.5458\n",
      "Epoch 58/200\n",
      "120/120 [==============================] - 1s 5ms/step - loss: 1524.9659 - mean_squared_error: 1524.9659 - val_loss: 1458.0613 - val_mean_squared_error: 1458.0615\n",
      "Epoch 59/200\n",
      "120/120 [==============================] - 1s 5ms/step - loss: 1485.8105 - mean_squared_error: 1485.8105 - val_loss: 1532.0906 - val_mean_squared_error: 1532.0906\n",
      "Epoch 60/200\n",
      "120/120 [==============================] - 1s 5ms/step - loss: 1509.1376 - mean_squared_error: 1509.1375 - val_loss: 1555.8993 - val_mean_squared_error: 1555.8993\n",
      "Epoch 61/200\n",
      "120/120 [==============================] - 1s 5ms/step - loss: 1439.2532 - mean_squared_error: 1439.2532 - val_loss: 1537.0198 - val_mean_squared_error: 1537.0198\n",
      "Epoch 62/200\n",
      "120/120 [==============================] - 1s 5ms/step - loss: 1467.6062 - mean_squared_error: 1467.6062 - val_loss: 1528.4387 - val_mean_squared_error: 1528.4387\n",
      "Epoch 63/200\n",
      "120/120 [==============================] - 1s 5ms/step - loss: 1461.8148 - mean_squared_error: 1461.8148 - val_loss: 1512.4111 - val_mean_squared_error: 1512.4111\n",
      "Epoch 64/200\n",
      "120/120 [==============================] - 1s 5ms/step - loss: 1511.0071 - mean_squared_error: 1511.0071 - val_loss: 1496.2472 - val_mean_squared_error: 1496.2472\n",
      "Epoch 65/200\n",
      "120/120 [==============================] - 1s 5ms/step - loss: 1468.6250 - mean_squared_error: 1468.6250 - val_loss: 1504.1650 - val_mean_squared_error: 1504.1650\n",
      "Epoch 66/200\n",
      "120/120 [==============================] - 1s 5ms/step - loss: 1453.9442 - mean_squared_error: 1453.9442 - val_loss: 1574.6049 - val_mean_squared_error: 1574.6049\n",
      "Model: \"sequential_15\"\n",
      "_________________________________________________________________\n",
      "Layer (type)                 Output Shape              Param #   \n",
      "=================================================================\n",
      "batch_normalization_25 (Batc (None, 13)                52        \n",
      "_________________________________________________________________\n",
      "dense_75 (Dense)             (None, 24)                336       \n",
      "_________________________________________________________________\n",
      "batch_normalization_26 (Batc (None, 24)                96        \n",
      "_________________________________________________________________\n",
      "dense_76 (Dense)             (None, 36)                900       \n",
      "_________________________________________________________________\n",
      "batch_normalization_27 (Batc (None, 36)                144       \n",
      "_________________________________________________________________\n",
      "dense_77 (Dense)             (None, 48)                1776      \n",
      "_________________________________________________________________\n",
      "dense_78 (Dense)             (None, 16)                784       \n",
      "_________________________________________________________________\n",
      "dense_79 (Dense)             (None, 5)                 85        \n",
      "_________________________________________________________________\n",
      "dense_80 (Dense)             (None, 1)                 6         \n",
      "=================================================================\n",
      "Total params: 4,179\n",
      "Trainable params: 4,033\n",
      "Non-trainable params: 146\n",
      "_________________________________________________________________\n"
     ]
    }
   ],
   "source": [
    "opt = keras.optimizers.Adam(learning_rate=0.001)\n",
    "early_stopping = EarlyStopping(monitor='val_loss', patience=10)\n",
    "model.compile(loss='MSE', optimizer=opt, metrics=['mean_squared_error'])\n",
    "model.fit(X, Y, epochs=200, batch_size=3000, verbose=1, validation_split=0.1,callbacks=[early_stopping])\n",
    "model.summary()"
   ]
  },
  {
   "cell_type": "code",
   "execution_count": 57,
   "metadata": {},
   "outputs": [
    {
     "data": {
      "text/plain": [
       "0.7140663269260475"
      ]
     },
     "execution_count": 57,
     "metadata": {},
     "output_type": "execute_result"
    }
   ],
   "source": [
    "predict = model.predict(X)\n",
    "r2_score(Y,predict)"
   ]
  },
  {
   "cell_type": "code",
   "execution_count": 58,
   "metadata": {},
   "outputs": [
    {
     "data": {
      "text/plain": [
       "0.8087204548385362"
      ]
     },
     "execution_count": 58,
     "metadata": {},
     "output_type": "execute_result"
    }
   ],
   "source": [
    "r2_score(test_Y,model.predict(test_X))"
   ]
  },
  {
   "cell_type": "code",
   "execution_count": 59,
   "metadata": {},
   "outputs": [
    {
     "data": {
      "image/png": "[encoded data removed]",
      "text/plain": [
       "<Figure size 432x288 with 1 Axes>"
      ]
     },
     "metadata": {
      "needs_background": "light"
     },
     "output_type": "display_data"
    },
    {
     "data": {
      "text/plain": [
       "DescribeResult(nobs=170144, minmax=(array([6.1035156e-05], dtype=float32), array([2466.3115], dtype=float32)), mean=array([6.5730705], dtype=float32), variance=array([794.9731], dtype=float32), skewness=array([24.613218], dtype=float32), kurtosis=array([1116.4722], dtype=float32))"
      ]
     },
     "execution_count": 59,
     "metadata": {},
     "output_type": "execute_result"
    }
   ],
   "source": [
    "test_predict = model.predict(test_features)\n",
    "\n",
    "error,abserror = errorCalculate(test_Y,test_predict)\n",
    "plt.plot(error,'g+')\n",
    "plt.xlabel('Sample ID')\n",
    "plt.ylabel('Error')\n",
    "plt.show()\n",
    "stats.describe(abserror)"
   ]
  },
  {
   "cell_type": "code",
   "execution_count": 61,
   "metadata": {},
   "outputs": [
    {
     "name": "stdout",
     "output_type": "stream",
     "text": [
      "WARNING:tensorflow:From C:\\2020F\\lib\\site-packages\\tensorflow\\python\\training\\tracking\\tracking.py:111: Model.state_updates (from tensorflow.python.keras.engine.training) is deprecated and will be removed in a future version.\n",
      "Instructions for updating:\n",
      "This property should not be used in TensorFlow 2.0, as updates are applied automatically.\n",
      "WARNING:tensorflow:From C:\\2020F\\lib\\site-packages\\tensorflow\\python\\training\\tracking\\tracking.py:111: Layer.updates (from tensorflow.python.keras.engine.base_layer) is deprecated and will be removed in a future version.\n",
      "Instructions for updating:\n",
      "This property should not be used in TensorFlow 2.0, as updates are applied automatically.\n",
      "INFO:tensorflow:Assets written to: mlp\\assets\n"
     ]
    }
   ],
   "source": [
    "model.save('mlp')"
   ]
  },
  {
   "cell_type": "code",
   "execution_count": 62,
   "metadata": {},
   "outputs": [],
   "source": [
    "model_upload = load_model(\"mlp\")"
   ]
  },
  {
   "cell_type": "code",
   "execution_count": 63,
   "metadata": {},
   "outputs": [
    {
     "data": {
      "text/plain": [
       "array([[0.41778946],\n",
       "       [0.46806797],\n",
       "       [0.49083534],\n",
       "       ...,\n",
       "       [4.8080773 ],\n",
       "       [3.1313968 ],\n",
       "       [4.162795  ]], dtype=float32)"
      ]
     },
     "execution_count": 63,
     "metadata": {},
     "output_type": "execute_result"
    }
   ],
   "source": [
    "model_upload.predict(test_X)"
   ]
  },
  {
   "cell_type": "code",
   "execution_count": 64,
   "metadata": {},
   "outputs": [
    {
     "data": {
      "text/plain": [
       "array([0, 2, 0, ..., 0, 8, 7], dtype=int64)"
      ]
     },
     "execution_count": 64,
     "metadata": {},
     "output_type": "execute_result"
    }
   ],
   "source": [
    "test_Y"
   ]
  },
  {
   "cell_type": "code",
   "execution_count": null,
   "metadata": {},
   "outputs": [],
   "source": []
  }
 ],
 "metadata": {
  "kernelspec": {
   "display_name": "Python 3",
   "language": "python",
   "name": "python3"
  },
  "language_info": {
   "codemirror_mode": {
    "name": "ipython",
    "version": 3
   },
   "file_extension": ".py",
   "mimetype": "text/x-python",
   "name": "python",
   "nbconvert_exporter": "python",
   "pygments_lexer": "ipython3",
   "version": "3.8.3"
  }
 },
 "nbformat": 4,
 "nbformat_minor": 4
}
