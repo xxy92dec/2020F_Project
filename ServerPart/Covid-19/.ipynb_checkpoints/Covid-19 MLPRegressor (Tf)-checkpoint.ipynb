{
 "cells": [
  {
   "cell_type": "code",
   "execution_count": 1,
   "metadata": {},
   "outputs": [],
   "source": [
    "import matplotlib.pyplot as plt\n",
    "import pandas as pd\n",
    "import numpy as np\n",
    "from tensorflow.keras.models import Sequential,load_model\n",
    "from tensorflow.keras.layers import Dense,BatchNormalization\n",
    "from tensorflow.keras import layers\n",
    "from tensorflow import keras\n",
    "import numpy as np\n",
    "from sklearn.metrics import r2_score\n",
    "from tensorflow.keras.layers.experimental import preprocessing\n",
    "from tensorflow.keras.callbacks import EarlyStopping\n",
    "from scipy import stats"
   ]
  },
  {
   "cell_type": "markdown",
   "metadata": {},
   "source": [
    "## Error Visible Calculation"
   ]
  },
  {
   "cell_type": "code",
   "execution_count": 2,
   "metadata": {},
   "outputs": [],
   "source": [
    "def errorCalculate(Origin,Predict):\n",
    "    errorlist = []\n",
    "    abserrorlist = []\n",
    "    error = 0\n",
    "    count = 0\n",
    "    errorpercentage = 0\n",
    "\n",
    "    for i in range(len(Origin)):\n",
    "        count += 1\n",
    "        True_num = Origin[i]\n",
    "        Cal_num = Predict[i]\n",
    "        Diff = Cal_num - True_num\n",
    "        absDiff = abs(Cal_num - True_num)\n",
    "        errorlist.append(Diff)\n",
    "        abserrorlist.append(absDiff)\n",
    "    errorlist = np.asarray(errorlist)\n",
    "    abserrorlist = np.asarray(abserrorlist)\n",
    "    return errorlist, abserrorlist"
   ]
  },
  {
   "cell_type": "markdown",
   "metadata": {},
   "source": [
    "## Input Data"
   ]
  },
  {
   "cell_type": "code",
   "execution_count": 4,
   "metadata": {},
   "outputs": [],
   "source": [
    "train_dataset = pd.read_csv(\"train_dataset.csv\")\n",
    "test_dataset = pd.read_csv(\"test_dataset.csv\")\n",
    "train_features = train_dataset.copy()\n",
    "test_features = test_dataset.copy()\n",
    "train_labels = train_features.pop('new_case')\n",
    "test_labels = test_features.pop('new_case')\n",
    "X = train_features.to_numpy()\n",
    "Y = train_labels.to_numpy()\n",
    "test_X = test_features.to_numpy()\n",
    "test_Y = test_labels.to_numpy()\n",
    "input_shape = (12,)"
   ]
  },
  {
   "cell_type": "markdown",
   "metadata": {},
   "source": [
    "# MLP"
   ]
  },
  {
   "cell_type": "code",
   "execution_count": 8,
   "metadata": {},
   "outputs": [
    {
     "name": "stdout",
     "output_type": "stream",
     "text": [
      "Model: \"sequential_1\"\n",
      "_________________________________________________________________\n",
      "Layer (type)                 Output Shape              Param #   \n",
      "=================================================================\n",
      "batch_normalization_1 (Batch (None, 13)                52        \n",
      "_________________________________________________________________\n",
      "dense_5 (Dense)              (None, 12)                168       \n",
      "_________________________________________________________________\n",
      "dense_6 (Dense)              (None, 24)                312       \n",
      "_________________________________________________________________\n",
      "dense_7 (Dense)              (None, 12)                300       \n",
      "_________________________________________________________________\n",
      "dense_8 (Dense)              (None, 6)                 78        \n",
      "_________________________________________________________________\n",
      "dense_9 (Dense)              (None, 1)                 7         \n",
      "=================================================================\n",
      "Total params: 917\n",
      "Trainable params: 891\n",
      "Non-trainable params: 26\n",
      "_________________________________________________________________\n"
     ]
    }
   ],
   "source": [
    "model = Sequential()\n",
    "model.add(BatchNormalization(input_dim=X.shape[1]))\n",
    "model.add(Dense(12,activation=\"relu\"))\n",
    "model.add(Dense(24,activation=\"relu\"))\n",
    "model.add(Dense(12,activation=\"relu\"))\n",
    "model.add(Dense(6,activation=\"relu\"))\n",
    "model.add(Dense(1, activation=\"linear\"))\n",
    "model.summary()"
   ]
  },
  {
   "cell_type": "code",
   "execution_count": 9,
   "metadata": {},
   "outputs": [
    {
     "name": "stdout",
     "output_type": "stream",
     "text": [
      "Epoch 1/200\n",
      "36/36 - 0s - loss: 5045.3530 - mean_squared_error: 5045.3530 - val_loss: 5166.3540 - val_mean_squared_error: 5166.3540\n",
      "Epoch 2/200\n",
      "36/36 - 0s - loss: 4822.8384 - mean_squared_error: 4822.8384 - val_loss: 4696.5732 - val_mean_squared_error: 4696.5732\n",
      "Epoch 3/200\n",
      "36/36 - 0s - loss: 4063.1089 - mean_squared_error: 4063.1089 - val_loss: 3664.4106 - val_mean_squared_error: 3664.4106\n",
      "Epoch 4/200\n",
      "36/36 - 0s - loss: 2728.3391 - mean_squared_error: 2728.3389 - val_loss: 2317.2532 - val_mean_squared_error: 2317.2532\n",
      "Epoch 5/200\n",
      "36/36 - 0s - loss: 2011.4250 - mean_squared_error: 2011.4250 - val_loss: 1906.7463 - val_mean_squared_error: 1906.7463\n",
      "Epoch 6/200\n",
      "36/36 - 0s - loss: 1869.0850 - mean_squared_error: 1869.0850 - val_loss: 1787.2719 - val_mean_squared_error: 1787.2719\n",
      "Epoch 7/200\n",
      "36/36 - 0s - loss: 1831.6260 - mean_squared_error: 1831.6260 - val_loss: 1715.7375 - val_mean_squared_error: 1715.7375\n",
      "Epoch 8/200\n",
      "36/36 - 0s - loss: 1833.6884 - mean_squared_error: 1833.6884 - val_loss: 1700.6321 - val_mean_squared_error: 1700.6321\n",
      "Epoch 9/200\n",
      "36/36 - 0s - loss: 1811.2823 - mean_squared_error: 1811.2823 - val_loss: 1682.4788 - val_mean_squared_error: 1682.4788\n",
      "Epoch 10/200\n",
      "36/36 - 0s - loss: 1831.5651 - mean_squared_error: 1831.5651 - val_loss: 1672.4152 - val_mean_squared_error: 1672.4152\n",
      "Epoch 11/200\n",
      "36/36 - 0s - loss: 1775.4935 - mean_squared_error: 1775.4935 - val_loss: 1668.0903 - val_mean_squared_error: 1668.0903\n",
      "Epoch 12/200\n",
      "36/36 - 0s - loss: 1773.8464 - mean_squared_error: 1773.8464 - val_loss: 1662.0941 - val_mean_squared_error: 1662.0941\n",
      "Epoch 13/200\n",
      "36/36 - 0s - loss: 1761.6571 - mean_squared_error: 1761.6571 - val_loss: 1670.7432 - val_mean_squared_error: 1670.7430\n",
      "Epoch 14/200\n",
      "36/36 - 0s - loss: 1763.3441 - mean_squared_error: 1763.3441 - val_loss: 1662.0328 - val_mean_squared_error: 1662.0328\n",
      "Epoch 15/200\n",
      "36/36 - 0s - loss: 1802.6160 - mean_squared_error: 1802.6160 - val_loss: 1675.3806 - val_mean_squared_error: 1675.3806\n",
      "Epoch 16/200\n",
      "36/36 - 0s - loss: 1769.3762 - mean_squared_error: 1769.3762 - val_loss: 1652.7826 - val_mean_squared_error: 1652.7826\n",
      "Epoch 17/200\n",
      "36/36 - 0s - loss: 1773.1144 - mean_squared_error: 1773.1144 - val_loss: 1654.0090 - val_mean_squared_error: 1654.0090\n",
      "Epoch 18/200\n",
      "36/36 - 0s - loss: 1798.8523 - mean_squared_error: 1798.8523 - val_loss: 1679.9709 - val_mean_squared_error: 1679.9709\n",
      "Epoch 19/200\n",
      "36/36 - 0s - loss: 1766.6298 - mean_squared_error: 1766.6298 - val_loss: 1651.0978 - val_mean_squared_error: 1651.0978\n",
      "Epoch 20/200\n",
      "36/36 - 0s - loss: 1755.6283 - mean_squared_error: 1755.6283 - val_loss: 1672.2074 - val_mean_squared_error: 1672.2074\n",
      "Epoch 21/200\n",
      "36/36 - 0s - loss: 1766.4479 - mean_squared_error: 1766.4479 - val_loss: 1646.5808 - val_mean_squared_error: 1646.5808\n",
      "Epoch 22/200\n",
      "36/36 - 0s - loss: 1747.2272 - mean_squared_error: 1747.2272 - val_loss: 1644.9279 - val_mean_squared_error: 1644.9279\n",
      "Epoch 23/200\n",
      "36/36 - 0s - loss: 1742.0435 - mean_squared_error: 1742.0435 - val_loss: 1659.0922 - val_mean_squared_error: 1659.0922\n",
      "Epoch 24/200\n",
      "36/36 - 0s - loss: 1734.2820 - mean_squared_error: 1734.2820 - val_loss: 1645.3474 - val_mean_squared_error: 1645.3474\n",
      "Epoch 25/200\n",
      "36/36 - 0s - loss: 1794.0751 - mean_squared_error: 1794.0751 - val_loss: 1656.0995 - val_mean_squared_error: 1656.0995\n",
      "Epoch 26/200\n",
      "36/36 - 0s - loss: 1736.5172 - mean_squared_error: 1736.5172 - val_loss: 1631.1484 - val_mean_squared_error: 1631.1484\n",
      "Epoch 27/200\n",
      "36/36 - 0s - loss: 1790.9718 - mean_squared_error: 1790.9718 - val_loss: 1637.9412 - val_mean_squared_error: 1637.9412\n",
      "Epoch 28/200\n",
      "36/36 - 0s - loss: 1744.1960 - mean_squared_error: 1744.1960 - val_loss: 1634.9799 - val_mean_squared_error: 1634.9799\n",
      "Epoch 29/200\n",
      "36/36 - 0s - loss: 1773.9409 - mean_squared_error: 1773.9409 - val_loss: 1642.6305 - val_mean_squared_error: 1642.6305\n",
      "Epoch 30/200\n",
      "36/36 - 0s - loss: 1749.1860 - mean_squared_error: 1749.1860 - val_loss: 1633.6752 - val_mean_squared_error: 1633.6752\n",
      "Epoch 31/200\n",
      "36/36 - 0s - loss: 1737.1416 - mean_squared_error: 1737.1416 - val_loss: 1653.6157 - val_mean_squared_error: 1653.6157\n",
      "Epoch 32/200\n",
      "36/36 - 0s - loss: 1730.5369 - mean_squared_error: 1730.5369 - val_loss: 1625.5378 - val_mean_squared_error: 1625.5378\n",
      "Epoch 33/200\n",
      "36/36 - 0s - loss: 1766.4402 - mean_squared_error: 1766.4402 - val_loss: 1625.5708 - val_mean_squared_error: 1625.5708\n",
      "Epoch 34/200\n",
      "36/36 - 0s - loss: 1757.4573 - mean_squared_error: 1757.4573 - val_loss: 1643.2831 - val_mean_squared_error: 1643.2831\n",
      "Epoch 35/200\n",
      "36/36 - 0s - loss: 1745.3108 - mean_squared_error: 1745.3108 - val_loss: 1626.7045 - val_mean_squared_error: 1626.7045\n",
      "Epoch 36/200\n",
      "36/36 - 0s - loss: 1732.4230 - mean_squared_error: 1732.4230 - val_loss: 1630.6069 - val_mean_squared_error: 1630.6069\n",
      "Epoch 37/200\n",
      "36/36 - 0s - loss: 1726.0598 - mean_squared_error: 1726.0598 - val_loss: 1624.5092 - val_mean_squared_error: 1624.5092\n",
      "Epoch 38/200\n",
      "36/36 - 0s - loss: 1728.4652 - mean_squared_error: 1728.4652 - val_loss: 1656.3534 - val_mean_squared_error: 1656.3534\n",
      "Epoch 39/200\n",
      "36/36 - 0s - loss: 1746.0980 - mean_squared_error: 1746.0981 - val_loss: 1623.5225 - val_mean_squared_error: 1623.5225\n",
      "Epoch 40/200\n",
      "36/36 - 0s - loss: 1726.3319 - mean_squared_error: 1726.3319 - val_loss: 1615.7325 - val_mean_squared_error: 1615.7325\n",
      "Epoch 41/200\n",
      "36/36 - 0s - loss: 1733.2042 - mean_squared_error: 1733.2042 - val_loss: 1624.9810 - val_mean_squared_error: 1624.9810\n",
      "Epoch 42/200\n",
      "36/36 - 0s - loss: 1770.2540 - mean_squared_error: 1770.2540 - val_loss: 1654.5470 - val_mean_squared_error: 1654.5470\n",
      "Epoch 43/200\n",
      "36/36 - 0s - loss: 1716.8778 - mean_squared_error: 1716.8778 - val_loss: 1616.1182 - val_mean_squared_error: 1616.1182\n",
      "Epoch 44/200\n",
      "36/36 - 0s - loss: 1729.6522 - mean_squared_error: 1729.6522 - val_loss: 1609.9115 - val_mean_squared_error: 1609.9115\n",
      "Epoch 45/200\n",
      "36/36 - 0s - loss: 1746.4645 - mean_squared_error: 1746.4645 - val_loss: 1609.6750 - val_mean_squared_error: 1609.6750\n",
      "Epoch 46/200\n",
      "36/36 - 0s - loss: 1733.1309 - mean_squared_error: 1733.1309 - val_loss: 1621.6089 - val_mean_squared_error: 1621.6089\n",
      "Epoch 47/200\n",
      "36/36 - 0s - loss: 1760.2493 - mean_squared_error: 1760.2493 - val_loss: 1622.8540 - val_mean_squared_error: 1622.8540\n",
      "Epoch 48/200\n",
      "36/36 - 0s - loss: 1711.2141 - mean_squared_error: 1711.2141 - val_loss: 1612.9503 - val_mean_squared_error: 1612.9503\n",
      "Epoch 49/200\n",
      "36/36 - 0s - loss: 1708.6984 - mean_squared_error: 1708.6984 - val_loss: 1607.5677 - val_mean_squared_error: 1607.5677\n",
      "Epoch 50/200\n",
      "36/36 - 0s - loss: 1733.6072 - mean_squared_error: 1733.6072 - val_loss: 1620.2347 - val_mean_squared_error: 1620.2347\n",
      "Epoch 51/200\n",
      "36/36 - 0s - loss: 1729.3348 - mean_squared_error: 1729.3348 - val_loss: 1607.6011 - val_mean_squared_error: 1607.6011\n",
      "Epoch 52/200\n",
      "36/36 - 0s - loss: 1742.7776 - mean_squared_error: 1742.7776 - val_loss: 1603.9166 - val_mean_squared_error: 1603.9166\n",
      "Epoch 53/200\n",
      "36/36 - 0s - loss: 1720.9760 - mean_squared_error: 1720.9760 - val_loss: 1606.2821 - val_mean_squared_error: 1606.2821\n",
      "Epoch 54/200\n",
      "36/36 - 0s - loss: 1727.4197 - mean_squared_error: 1727.4197 - val_loss: 1607.7062 - val_mean_squared_error: 1607.7062\n",
      "Epoch 55/200\n",
      "36/36 - 0s - loss: 1685.6877 - mean_squared_error: 1685.6877 - val_loss: 1602.6200 - val_mean_squared_error: 1602.6200\n",
      "Epoch 56/200\n",
      "36/36 - 0s - loss: 1708.0325 - mean_squared_error: 1708.0325 - val_loss: 1601.1768 - val_mean_squared_error: 1601.1768\n",
      "Epoch 57/200\n",
      "36/36 - 0s - loss: 1744.9264 - mean_squared_error: 1744.9264 - val_loss: 1608.9259 - val_mean_squared_error: 1608.9259\n",
      "Epoch 58/200\n",
      "36/36 - 0s - loss: 1721.7585 - mean_squared_error: 1721.7585 - val_loss: 1601.7031 - val_mean_squared_error: 1601.7031\n",
      "Epoch 59/200\n",
      "36/36 - 0s - loss: 1730.5684 - mean_squared_error: 1730.5684 - val_loss: 1600.1887 - val_mean_squared_error: 1600.1887\n",
      "Epoch 60/200\n",
      "36/36 - 0s - loss: 1707.6003 - mean_squared_error: 1707.6003 - val_loss: 1599.4048 - val_mean_squared_error: 1599.4048\n",
      "Epoch 61/200\n",
      "36/36 - 0s - loss: 1726.2942 - mean_squared_error: 1726.2942 - val_loss: 1601.7865 - val_mean_squared_error: 1601.7865\n",
      "Epoch 62/200\n",
      "36/36 - 0s - loss: 1718.3309 - mean_squared_error: 1718.3309 - val_loss: 1596.4901 - val_mean_squared_error: 1596.4901\n",
      "Epoch 63/200\n",
      "36/36 - 0s - loss: 1697.0834 - mean_squared_error: 1697.0834 - val_loss: 1607.4003 - val_mean_squared_error: 1607.4003\n"
     ]
    },
    {
     "name": "stdout",
     "output_type": "stream",
     "text": [
      "Epoch 64/200\n",
      "36/36 - 0s - loss: 1696.3086 - mean_squared_error: 1696.3086 - val_loss: 1607.3473 - val_mean_squared_error: 1607.3473\n",
      "Epoch 65/200\n",
      "36/36 - 0s - loss: 1705.6178 - mean_squared_error: 1705.6178 - val_loss: 1601.8452 - val_mean_squared_error: 1601.8452\n",
      "Epoch 66/200\n",
      "36/36 - 0s - loss: 1676.9502 - mean_squared_error: 1676.9502 - val_loss: 1596.2991 - val_mean_squared_error: 1596.2991\n",
      "Epoch 67/200\n",
      "36/36 - 0s - loss: 1725.1235 - mean_squared_error: 1725.1235 - val_loss: 1605.5992 - val_mean_squared_error: 1605.5992\n",
      "Epoch 68/200\n",
      "36/36 - 0s - loss: 1721.2565 - mean_squared_error: 1721.2565 - val_loss: 1597.2533 - val_mean_squared_error: 1597.2533\n",
      "Epoch 69/200\n",
      "36/36 - 0s - loss: 1685.0215 - mean_squared_error: 1685.0215 - val_loss: 1592.2521 - val_mean_squared_error: 1592.2518\n",
      "Epoch 70/200\n",
      "36/36 - 0s - loss: 1713.9760 - mean_squared_error: 1713.9760 - val_loss: 1591.7393 - val_mean_squared_error: 1591.7393\n",
      "Epoch 71/200\n",
      "36/36 - 0s - loss: 1717.7357 - mean_squared_error: 1717.7357 - val_loss: 1601.1600 - val_mean_squared_error: 1601.1600\n",
      "Epoch 72/200\n",
      "36/36 - 0s - loss: 1688.0386 - mean_squared_error: 1688.0386 - val_loss: 1593.3649 - val_mean_squared_error: 1593.3649\n",
      "Epoch 73/200\n",
      "36/36 - 0s - loss: 1705.4622 - mean_squared_error: 1705.4622 - val_loss: 1598.7080 - val_mean_squared_error: 1598.7080\n",
      "Epoch 74/200\n",
      "36/36 - 0s - loss: 1721.6697 - mean_squared_error: 1721.6697 - val_loss: 1592.5126 - val_mean_squared_error: 1592.5126\n",
      "Epoch 75/200\n",
      "36/36 - 0s - loss: 1717.1575 - mean_squared_error: 1717.1575 - val_loss: 1600.0453 - val_mean_squared_error: 1600.0453\n",
      "Epoch 76/200\n",
      "36/36 - 0s - loss: 1716.2736 - mean_squared_error: 1716.2736 - val_loss: 1597.0157 - val_mean_squared_error: 1597.0157\n",
      "Epoch 77/200\n",
      "36/36 - 0s - loss: 1675.4290 - mean_squared_error: 1675.4290 - val_loss: 1599.4845 - val_mean_squared_error: 1599.4845\n",
      "Epoch 78/200\n",
      "36/36 - 0s - loss: 1724.6333 - mean_squared_error: 1724.6333 - val_loss: 1592.9409 - val_mean_squared_error: 1592.9409\n",
      "Epoch 79/200\n",
      "36/36 - 0s - loss: 1701.7855 - mean_squared_error: 1701.7855 - val_loss: 1595.1614 - val_mean_squared_error: 1595.1614\n",
      "Epoch 80/200\n",
      "36/36 - 0s - loss: 1686.1349 - mean_squared_error: 1686.1349 - val_loss: 1592.8451 - val_mean_squared_error: 1592.8451\n",
      "Model: \"sequential_1\"\n",
      "_________________________________________________________________\n",
      "Layer (type)                 Output Shape              Param #   \n",
      "=================================================================\n",
      "batch_normalization_1 (Batch (None, 13)                52        \n",
      "_________________________________________________________________\n",
      "dense_5 (Dense)              (None, 12)                168       \n",
      "_________________________________________________________________\n",
      "dense_6 (Dense)              (None, 24)                312       \n",
      "_________________________________________________________________\n",
      "dense_7 (Dense)              (None, 12)                300       \n",
      "_________________________________________________________________\n",
      "dense_8 (Dense)              (None, 6)                 78        \n",
      "_________________________________________________________________\n",
      "dense_9 (Dense)              (None, 1)                 7         \n",
      "=================================================================\n",
      "Total params: 917\n",
      "Trainable params: 891\n",
      "Non-trainable params: 26\n",
      "_________________________________________________________________\n"
     ]
    }
   ],
   "source": [
    "opt = keras.optimizers.Adam(learning_rate=0.001)\n",
    "early_stopping = EarlyStopping(monitor='val_loss', patience=10)\n",
    "model.compile(loss='MSE', optimizer=opt, metrics=['mean_squared_error'])\n",
    "model.fit(X, Y, epochs=200, batch_size=10000, verbose=2, validation_split=0.1,callbacks=[early_stopping])\n",
    "model.summary()"
   ]
  },
  {
   "cell_type": "code",
   "execution_count": 7,
   "metadata": {},
   "outputs": [
    {
     "data": {
      "text/plain": [
       "0.6835039597533538"
      ]
     },
     "execution_count": 7,
     "metadata": {},
     "output_type": "execute_result"
    }
   ],
   "source": [
    "predict = model.predict(X)\n",
    "r2_score(Y,predict)"
   ]
  },
  {
   "cell_type": "code",
   "execution_count": 52,
   "metadata": {},
   "outputs": [
    {
     "data": {
      "text/plain": [
       "array([[ 2.0325332 ],\n",
       "       [ 1.0235611 ],\n",
       "       [55.41916   ],\n",
       "       ...,\n",
       "       [ 0.42246145],\n",
       "       [10.283023  ],\n",
       "       [15.695008  ]], dtype=float32)"
      ]
     },
     "execution_count": 52,
     "metadata": {},
     "output_type": "execute_result"
    }
   ],
   "source": [
    "predict"
   ]
  },
  {
   "cell_type": "code",
   "execution_count": 53,
   "metadata": {},
   "outputs": [
    {
     "data": {
      "text/plain": [
       "0.8320271146806146"
      ]
     },
     "execution_count": 53,
     "metadata": {},
     "output_type": "execute_result"
    }
   ],
   "source": [
    "r2_score(test_Y,model.predict(test_X))"
   ]
  },
  {
   "cell_type": "code",
   "execution_count": 54,
   "metadata": {},
   "outputs": [
    {
     "data": {
      "image/png": "[encoded data removed]",
      "text/plain": [
       "<Figure size 432x288 with 1 Axes>"
      ]
     },
     "metadata": {
      "needs_background": "light"
     },
     "output_type": "display_data"
    },
    {
     "data": {
      "text/plain": [
       "DescribeResult(nobs=170144, minmax=(array([1.0728836e-06], dtype=float32), array([1567.6682], dtype=float32)), mean=array([7.342424], dtype=float32), variance=array([682.13824], dtype=float32), skewness=array([18.268946], dtype=float32), kurtosis=array([572.2012], dtype=float32))"
      ]
     },
     "execution_count": 54,
     "metadata": {},
     "output_type": "execute_result"
    }
   ],
   "source": [
    "test_predict = model.predict(test_features)\n",
    "\n",
    "error,abserror = errorCalculate(test_Y,test_predict)\n",
    "plt.plot(error,'g+')\n",
    "plt.xlabel('Sample ID')\n",
    "plt.ylabel('Error')\n",
    "plt.show()\n",
    "stats.describe(abserror)"
   ]
  },
  {
   "cell_type": "code",
   "execution_count": 55,
   "metadata": {},
   "outputs": [
    {
     "name": "stdout",
     "output_type": "stream",
     "text": [
      "INFO:tensorflow:Assets written to: C:/Users/xuxia/2020F-Project/Covid-19\\assets\n"
     ]
    }
   ],
   "source": [
    "model.save(\"C:/Users/xuxia/2020F-Project/Covid-19\")"
   ]
  },
  {
   "cell_type": "code",
   "execution_count": 56,
   "metadata": {},
   "outputs": [],
   "source": [
    "model_upload = load_model(\"C:/Users/xuxia/2020F-Project/Covid-19\")"
   ]
  },
  {
   "cell_type": "code",
   "execution_count": 57,
   "metadata": {},
   "outputs": [
    {
     "data": {
      "text/plain": [
       "array([[2.451274 ],\n",
       "       [2.6094155],\n",
       "       [2.707106 ],\n",
       "       ...,\n",
       "       [8.357125 ],\n",
       "       [8.572607 ],\n",
       "       [8.637398 ]], dtype=float32)"
      ]
     },
     "execution_count": 57,
     "metadata": {},
     "output_type": "execute_result"
    }
   ],
   "source": [
    "model_upload.predict(test_X)"
   ]
  },
  {
   "cell_type": "code",
   "execution_count": 58,
   "metadata": {},
   "outputs": [
    {
     "data": {
      "text/plain": [
       "array([0, 2, 0, ..., 0, 8, 7], dtype=int64)"
      ]
     },
     "execution_count": 58,
     "metadata": {},
     "output_type": "execute_result"
    }
   ],
   "source": [
    "test_Y"
   ]
  },
  {
   "cell_type": "code",
   "execution_count": null,
   "metadata": {},
   "outputs": [],
   "source": []
  }
 ],
 "metadata": {
  "kernelspec": {
   "display_name": "Python 3",
   "language": "python",
   "name": "python3"
  },
  "language_info": {
   "codemirror_mode": {
    "name": "ipython",
    "version": 3
   },
   "file_extension": ".py",
   "mimetype": "text/x-python",
   "name": "python",
   "nbconvert_exporter": "python",
   "pygments_lexer": "ipython3",
   "version": "3.8.3"
  }
 },
 "nbformat": 4,
 "nbformat_minor": 4
}
