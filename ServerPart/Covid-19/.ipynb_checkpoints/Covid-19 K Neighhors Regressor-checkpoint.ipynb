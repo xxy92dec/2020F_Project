{
 "cells": [
  {
   "cell_type": "code",
   "execution_count": 1,
   "metadata": {},
   "outputs": [],
   "source": [
    "import matplotlib.pyplot as plt\n",
    "import pandas as pd\n",
    "import numpy as np\n",
    "import sklearn\n",
    "from scipy import stats\n",
    "from sklearn.metrics import r2_score\n",
    "from sklearn.neighbors import KNeighborsRegressor\n",
    "from sklearn.neighbors import RadiusNeighborsRegressor\n",
    "import joblib"
   ]
  },
  {
   "cell_type": "markdown",
   "metadata": {},
   "source": [
    "## Error Visible Calculation &  Input Data"
   ]
  },
  {
   "cell_type": "code",
   "execution_count": 2,
   "metadata": {},
   "outputs": [
    {
     "data": {
      "text/html": [
       "<div>\n",
       "<style scoped>\n",
       "    .dataframe tbody tr th:only-of-type {\n",
       "        vertical-align: middle;\n",
       "    }\n",
       "\n",
       "    .dataframe tbody tr th {\n",
       "        vertical-align: top;\n",
       "    }\n",
       "\n",
       "    .dataframe thead th {\n",
       "        text-align: right;\n",
       "    }\n",
       "</style>\n",
       "<table border=\"1\" class=\"dataframe\">\n",
       "  <thead>\n",
       "    <tr style=\"text-align: right;\">\n",
       "      <th></th>\n",
       "      <th>new_case</th>\n",
       "      <th>yesterday_new_cas</th>\n",
       "      <th>first_case_time</th>\n",
       "      <th>date</th>\n",
       "      <th>case</th>\n",
       "      <th>population</th>\n",
       "      <th>stay_at_home</th>\n",
       "      <th>50_gatherings</th>\n",
       "      <th>500_gatherings</th>\n",
       "      <th>public_schools</th>\n",
       "      <th>restaurant</th>\n",
       "      <th>entertainment/gym</th>\n",
       "      <th>Federal_guidelines</th>\n",
       "      <th>foreign_travel_ban</th>\n",
       "    </tr>\n",
       "  </thead>\n",
       "  <tbody>\n",
       "    <tr>\n",
       "      <th>0</th>\n",
       "      <td>2</td>\n",
       "      <td>1</td>\n",
       "      <td>123</td>\n",
       "      <td>198</td>\n",
       "      <td>98</td>\n",
       "      <td>42831</td>\n",
       "      <td>0</td>\n",
       "      <td>0</td>\n",
       "      <td>0</td>\n",
       "      <td>1</td>\n",
       "      <td>1</td>\n",
       "      <td>1</td>\n",
       "      <td>1</td>\n",
       "      <td>1</td>\n",
       "    </tr>\n",
       "    <tr>\n",
       "      <th>1</th>\n",
       "      <td>0</td>\n",
       "      <td>0</td>\n",
       "      <td>124</td>\n",
       "      <td>186</td>\n",
       "      <td>7</td>\n",
       "      <td>7110</td>\n",
       "      <td>0</td>\n",
       "      <td>1</td>\n",
       "      <td>1</td>\n",
       "      <td>1</td>\n",
       "      <td>1</td>\n",
       "      <td>1</td>\n",
       "      <td>1</td>\n",
       "      <td>1</td>\n",
       "    </tr>\n",
       "    <tr>\n",
       "      <th>2</th>\n",
       "      <td>68</td>\n",
       "      <td>89</td>\n",
       "      <td>107</td>\n",
       "      <td>266</td>\n",
       "      <td>10752</td>\n",
       "      <td>311522</td>\n",
       "      <td>1</td>\n",
       "      <td>1</td>\n",
       "      <td>1</td>\n",
       "      <td>1</td>\n",
       "      <td>1</td>\n",
       "      <td>1</td>\n",
       "      <td>1</td>\n",
       "      <td>1</td>\n",
       "    </tr>\n",
       "    <tr>\n",
       "      <th>3</th>\n",
       "      <td>-1</td>\n",
       "      <td>1</td>\n",
       "      <td>114</td>\n",
       "      <td>199</td>\n",
       "      <td>85</td>\n",
       "      <td>55101</td>\n",
       "      <td>1</td>\n",
       "      <td>1</td>\n",
       "      <td>1</td>\n",
       "      <td>1</td>\n",
       "      <td>1</td>\n",
       "      <td>1</td>\n",
       "      <td>1</td>\n",
       "      <td>1</td>\n",
       "    </tr>\n",
       "    <tr>\n",
       "      <th>4</th>\n",
       "      <td>3</td>\n",
       "      <td>0</td>\n",
       "      <td>110</td>\n",
       "      <td>121</td>\n",
       "      <td>13</td>\n",
       "      <td>42950</td>\n",
       "      <td>0</td>\n",
       "      <td>0</td>\n",
       "      <td>0</td>\n",
       "      <td>0</td>\n",
       "      <td>1</td>\n",
       "      <td>1</td>\n",
       "      <td>1</td>\n",
       "      <td>1</td>\n",
       "    </tr>\n",
       "  </tbody>\n",
       "</table>\n",
       "</div>"
      ],
      "text/plain": [
       "   new_case  yesterday_new_cas  first_case_time  date   case  population  \\\n",
       "0         2                  1              123   198     98       42831   \n",
       "1         0                  0              124   186      7        7110   \n",
       "2        68                 89              107   266  10752      311522   \n",
       "3        -1                  1              114   199     85       55101   \n",
       "4         3                  0              110   121     13       42950   \n",
       "\n",
       "   stay_at_home  50_gatherings  500_gatherings  public_schools  restaurant  \\\n",
       "0             0              0               0               1           1   \n",
       "1             0              1               1               1           1   \n",
       "2             1              1               1               1           1   \n",
       "3             1              1               1               1           1   \n",
       "4             0              0               0               0           1   \n",
       "\n",
       "   entertainment/gym  Federal_guidelines  foreign_travel_ban  \n",
       "0                  1                   1                   1  \n",
       "1                  1                   1                   1  \n",
       "2                  1                   1                   1  \n",
       "3                  1                   1                   1  \n",
       "4                  1                   1                   1  "
      ]
     },
     "execution_count": 2,
     "metadata": {},
     "output_type": "execute_result"
    }
   ],
   "source": [
    "def errorCalculate(Origin,Predict):\n",
    "    errorlist = []\n",
    "    abserrorlist = []\n",
    "    error = 0\n",
    "    count = 0\n",
    "    errorpercentage = 0\n",
    "\n",
    "    for i in range(len(Origin)):\n",
    "        count += 1\n",
    "        True_num = Origin[i]\n",
    "        Cal_num = Predict[i]\n",
    "        Diff = Cal_num - True_num\n",
    "        absDiff = abs(Cal_num - True_num)\n",
    "        errorlist.append(Diff)\n",
    "        abserrorlist.append(absDiff)\n",
    "    errorlist = np.asarray(errorlist)\n",
    "    abserrorlist = np.asarray(abserrorlist)\n",
    "    return errorlist, abserrorlist\n",
    "\n",
    "train_dataset = pd.read_csv(\"train_dataset.csv\")\n",
    "test_dataset = pd.read_csv(\"test_dataset.csv\")\n",
    "train_features = train_dataset.copy()\n",
    "test_features = test_dataset.copy()\n",
    "train_labels = train_features.pop('new_case')\n",
    "test_labels = test_features.pop('new_case')\n",
    "train_dataset.head()"
   ]
  },
  {
   "cell_type": "markdown",
   "metadata": {},
   "source": [
    "## K-Neighbor Regressor"
   ]
  },
  {
   "cell_type": "code",
   "execution_count": 3,
   "metadata": {},
   "outputs": [
    {
     "name": "stdout",
     "output_type": "stream",
     "text": [
      "0.8817647074831572 0.7514510438415237\n"
     ]
    }
   ],
   "source": [
    "knr = KNeighborsRegressor(n_neighbors=2)\n",
    "knr.fit(train_features, train_labels)\n",
    "s_knr = r2_score(train_labels,knr.predict(train_features))\n",
    "s_knr_test = r2_score(test_labels,knr.predict(test_features))\n",
    "print(s_knr,s_knr_test)"
   ]
  },
  {
   "cell_type": "markdown",
   "metadata": {},
   "source": [
    "K-Neighbour Regressor seems good\n",
    "\n",
    "## N Number Study"
   ]
  },
  {
   "cell_type": "code",
   "execution_count": null,
   "metadata": {},
   "outputs": [],
   "source": [
    "N_number = []\n",
    "train_pred_score =[]\n",
    "test_pred_score =[]\n",
    "for i in range(1,15):\n",
    "    N_number.append(i)\n",
    "    knr = KNeighborsRegressor(n_neighbors=i)\n",
    "    knr.fit(train_features ,train_labels)\n",
    "    s_knr_reg = r2_score(train_labels,knr.predict(train_features))\n",
    "    s_knr_reg_test = r2_score(test_labels,knr.predict(test_features))\n",
    "    train_pred_score.append(s_knr_reg)\n",
    "    test_pred_score.append(s_knr_reg_test)\n",
    "plt.plot(N_number, train_pred_score,'r')\n",
    "plt.plot(N_number, test_pred_score,'b')\n",
    "plt.xlabel('N_number')\n",
    "plt.ylabel('r2 score - train_red & test_blue')\n",
    "plt.show()"
   ]
  },
  {
   "cell_type": "code",
   "execution_count": 5,
   "metadata": {},
   "outputs": [
    {
     "data": {
      "image/png": "[encoded data removed]",
      "text/plain": [
       "<Figure size 432x288 with 1 Axes>"
      ]
     },
     "metadata": {
      "needs_background": "light"
     },
     "output_type": "display_data"
    },
    {
     "data": {
      "text/plain": [
       "DescribeResult(nobs=170144, minmax=(0.0, 3008.8), mean=5.76156314651119, variance=746.3546472712105, skewness=29.928749244945305, kurtosis=1960.7951491136096)"
      ]
     },
     "execution_count": 5,
     "metadata": {},
     "output_type": "execute_result"
    }
   ],
   "source": [
    "knr = KNeighborsRegressor(n_neighbors=5)\n",
    "knr.fit(train_features ,train_labels)\n",
    "test_predict = knr.predict(test_features)\n",
    "test_labels = test_labels.to_numpy()\n",
    "\n",
    "error,abserror = errorCalculate(test_labels,test_predict)\n",
    "plt.plot(error,'g+')\n",
    "plt.xlabel('Sample ID')\n",
    "plt.ylabel('Error')\n",
    "plt.show()\n",
    "stats.describe(abserror)"
   ]
  },
  {
   "cell_type": "code",
   "execution_count": 6,
   "metadata": {},
   "outputs": [
    {
     "data": {
      "text/plain": [
       "0.8220998967987918"
      ]
     },
     "execution_count": 6,
     "metadata": {},
     "output_type": "execute_result"
    }
   ],
   "source": [
    "r2_score(test_labels,knr.predict(test_features))"
   ]
  },
  {
   "cell_type": "code",
   "execution_count": 7,
   "metadata": {},
   "outputs": [
    {
     "data": {
      "text/plain": [
       "['covid_KNeighborRegressor.sav']"
      ]
     },
     "execution_count": 7,
     "metadata": {},
     "output_type": "execute_result"
    }
   ],
   "source": [
    "filename = 'covid_KNeighborRegressor.sav'\n",
    "joblib.dump(knr, filename)"
   ]
  },
  {
   "cell_type": "markdown",
   "metadata": {},
   "source": [
    "DescribeResult(nobs=170144, minmax=(0.0, 3008.8), mean=5.76156314651119, variance=746.3546472712105, skewness=29.928749244945305, kurtosis=1960.7951491136096"
   ]
  }
 ],
 "metadata": {
  "kernelspec": {
   "display_name": "Python 3",
   "language": "python",
   "name": "python3"
  },
  "language_info": {
   "codemirror_mode": {
    "name": "ipython",
    "version": 3
   },
   "file_extension": ".py",
   "mimetype": "text/x-python",
   "name": "python",
   "nbconvert_exporter": "python",
   "pygments_lexer": "ipython3",
   "version": "3.8.3"
  }
 },
 "nbformat": 4,
 "nbformat_minor": 4
}
